{
 "cells": [
  {
   "cell_type": "code",
   "execution_count": 1,
   "metadata": {},
   "outputs": [],
   "source": [
    "## this is the code required portions of the PSET // later to be transferred to\n",
    "## to the LaTeX homework sheet"
   ]
  },
  {
   "cell_type": "code",
   "execution_count": 4,
   "metadata": {},
   "outputs": [],
   "source": [
    "## IMPORTS\n",
    "import numpy as np\n",
    "import numpy.random as rn\n",
    "import matplotlib.pyplot as plt\n",
    "import seaborn as sns\n",
    "import pandas as pd\n",
    "from math import log, factorial\n",
    "from scipy.optimize import minimize"
   ]
  },
  {
   "cell_type": "code",
   "execution_count": 12,
   "metadata": {},
   "outputs": [
    {
     "name": "stdout",
     "output_type": "stream",
     "text": [
      "23.551530395903967\n"
     ]
    }
   ],
   "source": [
    "def neg_log_likelihood(lambda_, obs):\n",
    "    ## direct implementation of the equation found in q1 \n",
    "    sum_x_i = sum(obs)\n",
    "    log_fact_sum = sum(log(factorial(x)) for x in obs)\n",
    "    neg_log_likelihood = 8 * lambda_ - sum_x_i * log(lambda_) + log_fact_sum\n",
    "    return neg_log_likelihood\n",
    "\n",
    "n_estimate = neg_log_likelihood(\n",
    "    20, [22, 23, 23, 12, 18, 25, 23, 14])\n",
    "print(n_estimate)\n"
   ]
  },
  {
   "cell_type": "code",
   "execution_count": null,
   "metadata": {},
   "outputs": [],
   "source": []
  }
 ],
 "metadata": {
  "kernelspec": {
   "display_name": "base",
   "language": "python",
   "name": "python3"
  },
  "language_info": {
   "codemirror_mode": {
    "name": "ipython",
    "version": 3
   },
   "file_extension": ".py",
   "mimetype": "text/x-python",
   "name": "python",
   "nbconvert_exporter": "python",
   "pygments_lexer": "ipython3",
   "version": "3.11.5"
  }
 },
 "nbformat": 4,
 "nbformat_minor": 2
}
