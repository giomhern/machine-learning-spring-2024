{
 "cells": [
  {
   "cell_type": "code",
   "execution_count": 1,
   "metadata": {},
   "outputs": [],
   "source": [
    "## this is the code required portions of the PSET // later to be transferred to\n",
    "## to the LaTeX homework sheet"
   ]
  },
  {
   "cell_type": "code",
   "execution_count": 13,
   "metadata": {},
   "outputs": [],
   "source": [
    "## IMPORTS\n",
    "import numpy as np\n",
    "import numpy.random as rn\n",
    "import matplotlib.pyplot as plt\n",
    "import seaborn as sns\n",
    "import pandas as pd\n",
    "from math import log, factorial\n",
    "from scipy.optimize import minimize"
   ]
  },
  {
   "cell_type": "code",
   "execution_count": 5,
   "metadata": {},
   "outputs": [
    {
     "name": "stdout",
     "output_type": "stream",
     "text": [
      "23.551530395903967\n"
     ]
    }
   ],
   "source": [
    "def neg_log_likelihood(lambda_estimate, obs):\n",
    "    ## direct implementation of the equation found in q1 \n",
    "    n = len(obs)\n",
    "    sum_x_i = sum(obs)\n",
    "    log_fact_sum = sum(log(factorial(x)) for x in obs)\n",
    "    neg_log_likelihood = n * lambda_estimate - \\\n",
    "        sum_x_i * log(lambda_estimate) + log_fact_sum\n",
    "    return neg_log_likelihood\n",
    "\n",
    "n_estimate = neg_log_likelihood(\n",
    "    20, [22, 23, 23, 12, 18, 25, 23, 14])\n",
    "print(n_estimate)"
   ]
  },
  {
   "cell_type": "code",
   "execution_count": 25,
   "metadata": {},
   "outputs": [
    {
     "name": "stderr",
     "output_type": "stream",
     "text": [
      "/var/folders/c1/5zzf4b396wdgc4t2xxg1dqw00000gn/T/ipykernel_12304/2631031015.py:6: DeprecationWarning: Conversion of an array with ndim > 0 to a scalar is deprecated, and will error in future. Ensure you extract a single element from your array before performing this operation. (Deprecated NumPy 1.25.)\n",
      "  neg_log_likelihood = n * lambda_ - sum_x_i * log(lambda_) + log_fact_sum\n"
     ]
    },
    {
     "data": {
      "text/plain": [
       "20.000011410833455"
      ]
     },
     "execution_count": 25,
     "metadata": {},
     "output_type": "execute_result"
    }
   ],
   "source": [
    "from scipy.optimize import minimize\n",
    "\n",
    "def optimize_lambda(obs):\n",
    "    \"\"\"\n",
    "    Find the lambda that minimizes the negative log likelihood for a given set of observations.\n",
    "    \n",
    "    Parameters:\n",
    "    - observations: List of observed counts\n",
    "    \n",
    "    Returns:\n",
    "    - Optimal lambda (MLE) as a scalar\n",
    "    \"\"\"\n",
    "\n",
    "    def objective(lambda_): return neg_log_likelihood(\n",
    "        lambda_, obs)\n",
    "\n",
    "    result = minimize(objective, n_estimate, bounds=[(1e-5, None)])\n",
    "\n",
    "    return result.x[0]\n",
    "\n",
    "max_estimate = optimize_lambda([22, 23, 23, 12, 18, 25, 23, 14])\n",
    "max_estimate"
   ]
  },
  {
   "cell_type": "code",
   "execution_count": null,
   "metadata": {},
   "outputs": [],
   "source": []
  }
 ],
 "metadata": {
  "kernelspec": {
   "display_name": "base",
   "language": "python",
   "name": "python3"
  },
  "language_info": {
   "codemirror_mode": {
    "name": "ipython",
    "version": 3
   },
   "file_extension": ".py",
   "mimetype": "text/x-python",
   "name": "python",
   "nbconvert_exporter": "python",
   "pygments_lexer": "ipython3",
   "version": "3.11.5"
  }
 },
 "nbformat": 4,
 "nbformat_minor": 2
}
