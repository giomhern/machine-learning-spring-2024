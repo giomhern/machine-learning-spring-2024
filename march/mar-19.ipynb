{
 "cells": [
  {
   "cell_type": "markdown",
   "metadata": {},
   "source": [
    "##  Important Notes for Machine Learning \n",
    "\n",
    "1) Overfitting can undermine the predictions \n",
    "2) The output of a model depends heavily on the input/training data\n",
    "3) Machine learning systems can fail in strange ways \n",
    "\n",
    " ### Steps to create a machine learning algorithm:\n",
    "\n",
    "1) We would first want to create a labeled training data set:\n",
    "\n",
    "    Ask an expert to label each orange as ripe or unripe:\n",
    "\n",
    "        Y(i) [ripe, unripe]\n",
    "\n",
    "    Then train a machine to predict the label given its features:\n",
    "    \n",
    "        Y(i) f(X(i) ~ diameter, X(i) ~ color, ...)"
   ]
  },
  {
   "cell_type": "code",
   "execution_count": null,
   "metadata": {},
   "outputs": [],
   "source": [
    "from sklearn.model_selection import train_test_split\n",
    "from sklearn.linear_model import LinearRegression as lr\n",
    "import pandas as pd\n",
    "\n",
    "## Split data to training and testing datasets\n",
    "df = pd.DataFrame()\n",
    "X_train, X_test, y_train, y_test = train_test_split(df['diameter', 'color'], df['ripe'], test_size=0.5)\n",
    "\n",
    "## Initialize an instnace of the model object\n",
    "\n",
    "model = lr(fit_intercept=True)\n",
    "\n",
    "## Fit model\n",
    "\n",
    "model.fit(X_train, y_train)"
   ]
  },
  {
   "cell_type": "code",
   "execution_count": null,
   "metadata": {},
   "outputs": [],
   "source": [
    "print(\"Testing datapoint: \\n\")\n",
    "print(X_test)\n",
    "\n",
    "y_pred = float(model.predict(X_test))\n",
    "print(\"\\nModel Prediction\\n\")\n",
    "\n",
    "print(f'y={round(y_pred)}')"
   ]
  },
  {
   "cell_type": "markdown",
   "metadata": {},
   "source": [
    "## Parameter Estimation, Bayes Identity, and Likelihood\n",
    "\n",
    "1) The Naive Bayes classifier is a machine learning algorithm\n",
    "\n",
    "Sleep Deprivation Example:\n",
    "    - We want a model for conditional probabilities: P(theta)(Sleep deprived | symptom(1), symptom(2))\n"
   ]
  },
  {
   "cell_type": "code",
   "execution_count": null,
   "metadata": {
    "vscode": {
     "languageId": "latex"
    }
   },
   "outputs": [],
   "source": [
    "\\documentclass{article}\n",
    "\\usepackage[utf8]{inputenc}\n",
    "\n",
    "\\title{LaTeX Template}\n",
    "\\author{Your Name}\n",
    "\\date{\\today}\n",
    "\n",
    "\\begin{document}\n",
    "\n",
    "\\maketitle\n",
    "\n",
    "\\section{Introduction}\n",
    "\n",
    "This is a simple LaTeX template.\n",
    "\n",
    "\\section{Main Content}\n",
    "\n",
    "Here is where you can start writing your main content.\n",
    "\n",
    "\\end{document}\n"
   ]
  },
  {
   "cell_type": "code",
   "execution_count": null,
   "metadata": {
    "vscode": {
     "languageId": "latex"
    }
   },
   "outputs": [],
   "source": []
  }
 ],
 "metadata": {
  "kernelspec": {
   "display_name": "base",
   "language": "python",
   "name": "python3"
  },
  "language_info": {
   "codemirror_mode": {
    "name": "ipython",
    "version": 3
   },
   "file_extension": ".py",
   "mimetype": "text/x-python",
   "name": "python",
   "nbconvert_exporter": "python",
   "pygments_lexer": "ipython3",
   "version": "3.11.5"
  }
 },
 "nbformat": 4,
 "nbformat_minor": 2
}
