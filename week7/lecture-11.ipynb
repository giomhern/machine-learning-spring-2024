{
 "cells": [
  {
   "cell_type": "markdown",
   "id": "11ce827a",
   "metadata": {},
   "source": [
    "<div style=\"text-align: right\">\n",
    "\n",
    "### DATA 22100 - Introduction to Machine Learning\n",
    "\n",
    "</div>\n",
    "\n",
    "<img src=\"https://github.com/david-biron/DATA221imgs/blob/main/UChicago_DSI.png?raw=true\" align=\"right\" alt=\"UC-DSI\" width=\"300\">\n"
   ]
  },
  {
   "cell_type": "markdown",
   "id": "5bb79567",
   "metadata": {},
   "source": [
    "<center>\n",
    "\n",
    "# Brief Introduction to PyTorch\n",
    "\n",
    "(install a version compatible with your hardware)\n",
    "\n",
    "</center>\n"
   ]
  },
  {
   "cell_type": "code",
   "execution_count": 1,
   "id": "6bc7ead1",
   "metadata": {},
   "outputs": [
    {
     "name": "stdout",
     "output_type": "stream",
     "text": [
      "Collecting torchvision\n",
      "  Downloading torchvision-0.17.2-cp311-cp311-macosx_10_13_x86_64.whl.metadata (6.6 kB)\n",
      "Requirement already satisfied: numpy in /Users/giovannimaya/anaconda3/lib/python3.11/site-packages (from torchvision) (1.26.4)\n",
      "  Downloading torchvision-0.17.2-cp311-cp311-macosx_10_13_x86_64.whl.metadata (6.6 kB)\n",
      "Requirement already satisfied: numpy in /Users/giovannimaya/anaconda3/lib/python3.11/site-packages (from torchvision) (1.26.4)\n",
      "Collecting torch==2.2.2 (from torchvision)\n",
      "  Downloading torch-2.2.2-cp311-none-macosx_10_9_x86_64.whl.metadata (25 kB)\n",
      "Requirement already satisfied: pillow!=8.3.*,>=5.3.0 in /Users/giovannimaya/anaconda3/lib/python3.11/site-packages (from torchvision) (10.2.0)\n",
      "Requirement already satisfied: filelock in /Users/giovannimaya/anaconda3/lib/python3.11/site-packages (from torch==2.2.2->torchvision) (3.13.1)\n",
      "Requirement already satisfied: typing-extensions>=4.8.0 in /Users/giovannimaya/anaconda3/lib/python3.11/site-packages (from torch==2.2.2->torchvision) (4.9.0)\n",
      "Requirement already satisfied: sympy in /Users/giovannimaya/anaconda3/lib/python3.11/site-packages (from torch==2.2.2->torchvision) (1.12)\n",
      "Requirement already satisfied: networkx in /Users/giovannimaya/anaconda3/lib/python3.11/site-packages (from torch==2.2.2->torchvision) (3.1)\n",
      "Requirement already satisfied: jinja2 in /Users/giovannimaya/anaconda3/lib/python3.11/site-packages (from torch==2.2.2->torchvision) (3.1.3)\n",
      "Requirement already satisfied: fsspec in /Users/giovannimaya/anaconda3/lib/python3.11/site-packages (from torch==2.2.2->torchvision) (2023.10.0)\n",
      "Requirement already satisfied: MarkupSafe>=2.0 in /Users/giovannimaya/anaconda3/lib/python3.11/site-packages (from jinja2->torch==2.2.2->torchvision) (2.1.3)\n",
      "Requirement already satisfied: mpmath>=0.19 in /Users/giovannimaya/anaconda3/lib/python3.11/site-packages (from sympy->torch==2.2.2->torchvision) (1.3.0)\n",
      "Downloading torchvision-0.17.2-cp311-cp311-macosx_10_13_x86_64.whl (1.7 MB)\n",
      "\u001b[2K   \u001b[90m━━━━━━━━━━━━━━━━━━━━━━━━━━━━━━━━━━━━━━━━\u001b[0m \u001b[32m1.7/1.7 MB\u001b[0m \u001b[31m5.1 MB/s\u001b[0m eta \u001b[36m0:00:00\u001b[0m00:01\u001b[0m00:01\u001b[0m\n",
      "\u001b[?25hDownloading torch-2.2.2-cp311-none-macosx_10_9_x86_64.whl (150.8 MB)\n",
      "\u001b[2K   \u001b[90m━━━━━━━━━━━━━━━━━━━━━━━━━━━━━━━━━━━━━━━━\u001b[0m \u001b[32m150.8/150.8 MB\u001b[0m \u001b[31m3.7 MB/s\u001b[0m eta \u001b[36m0:00:00\u001b[0m00:01\u001b[0m00:01\u001b[0m\n",
      "\u001b[?25hInstalling collected packages: torch, torchvision\n",
      "Successfully installed torch-2.2.2 torchvision-0.17.2\n",
      "Requirement already satisfied: torch in /Users/giovannimaya/anaconda3/lib/python3.11/site-packages (2.2.2)\n",
      "Requirement already satisfied: filelock in /Users/giovannimaya/anaconda3/lib/python3.11/site-packages (from torch) (3.13.1)\n",
      "Requirement already satisfied: typing-extensions>=4.8.0 in /Users/giovannimaya/anaconda3/lib/python3.11/site-packages (from torch) (4.9.0)\n",
      "Requirement already satisfied: sympy in /Users/giovannimaya/anaconda3/lib/python3.11/site-packages (from torch) (1.12)\n",
      "Requirement already satisfied: networkx in /Users/giovannimaya/anaconda3/lib/python3.11/site-packages (from torch) (3.1)\n",
      "Requirement already satisfied: jinja2 in /Users/giovannimaya/anaconda3/lib/python3.11/site-packages (from torch) (3.1.3)\n",
      "Requirement already satisfied: fsspec in /Users/giovannimaya/anaconda3/lib/python3.11/site-packages (from torch) (2023.10.0)\n",
      "Requirement already satisfied: MarkupSafe>=2.0 in /Users/giovannimaya/anaconda3/lib/python3.11/site-packages (from jinja2->torch) (2.1.3)\n",
      "Requirement already satisfied: mpmath>=0.19 in /Users/giovannimaya/anaconda3/lib/python3.11/site-packages (from sympy->torch) (1.3.0)\n"
     ]
    }
   ],
   "source": [
    "!pip3 install torchvision # ==0.14.1\n",
    "!pip3 install torch # ==1.13.1 "
   ]
  },
  {
   "cell_type": "code",
   "execution_count": 3,
   "id": "6cf8b35f",
   "metadata": {},
   "outputs": [],
   "source": [
    "import numpy as np\n",
    "import pandas as pd\n",
    "import torch\n",
    "import matplotlib.pyplot as plt\n",
    "import seaborn as sns\n",
    "plt.style.use('fivethirtyeight')\n"
   ]
  },
  {
   "cell_type": "markdown",
   "id": "fbcaa52c",
   "metadata": {},
   "source": [
    "### Brief intro to pytorch tensors\n",
    "\n",
    "At first glance, tensor look like numpy arrays:\n",
    "\n",
    "- $0d$ (scalar), $1d$, $2d$, ...\n",
    "- All elements must be of the **same data type**.\n",
    "- Can be initialized in [all sorts of ways](https://pytorch.org/docs/stable/tensors.html).\n",
    "- By default, created on the CPU (but can be moved to a GPU).\n"
   ]
  },
  {
   "cell_type": "code",
   "execution_count": 4,
   "id": "db8dea57",
   "metadata": {},
   "outputs": [
    {
     "name": "stdout",
     "output_type": "stream",
     "text": [
      "tensor([0.8023, 0.5595, 0.2219, 0.6033])\n",
      "    Shape:  torch.Size([4])\n",
      "     Type:  torch.float32\n",
      "\n",
      "tensor([[0, 0],\n",
      "        [0, 0]], dtype=torch.int32)\n",
      "    Shape:  torch.Size([2, 2])\n",
      "     Type:  torch.int32\n"
     ]
    }
   ],
   "source": [
    "tensor_1d = torch.rand(4)\n",
    "print(tensor_1d)\n",
    "print('    Shape: ', tensor_1d.shape)\n",
    "print('     Type: ', tensor_1d.dtype)\n",
    "## the type does matter in certain instances \n",
    "print() \n",
    "\n",
    "tensor_2d = torch.zeros(2,2, dtype=torch.int32)\n",
    "print(tensor_2d)\n",
    "print('    Shape: ', tensor_2d.shape)\n",
    "print('     Type: ', tensor_2d.dtype)\n",
    "\n"
   ]
  },
  {
   "cell_type": "markdown",
   "id": "537ebcc6",
   "metadata": {},
   "source": [
    "- Slicing works similar to arrays\n",
    "\n",
    "#### Note:\n",
    "\n",
    "A $0d$ (or any other) slice of a tensor is still a tensor.\n",
    "\n",
    "To get the element as a, say, float use `.item()`\n"
   ]
  },
  {
   "cell_type": "code",
   "execution_count": 5,
   "id": "e061065a",
   "metadata": {},
   "outputs": [
    {
     "name": "stdout",
     "output_type": "stream",
     "text": [
      "First column of t1:  tensor([0.7210, 0.5880])\n",
      "Second row of t1:  tensor([0.5880, 0.1396]) \n",
      "\n",
      "\n",
      "tensor(0.7210) 0.7209712862968445\n",
      "tensor(True)\n",
      "False\n"
     ]
    }
   ],
   "source": [
    "t1 = torch.rand(2,2)\n",
    "t2 = torch.eye(2) # identity tensor \n",
    "\n",
    "print('First column of t1: ', t1[:,0])\n",
    "print('Second row of t1: ', t1[1,:], '\\n\\n')\n",
    "\n",
    "print(t1[0,0] , t1[0,0].item()) ## need to use item \n",
    "\n",
    "# BTW, this can be a bit confusing: \n",
    "print(t1[0,0] == t1[0,0].item()) # checks if the values are equal\n",
    "print(t1[0,0] is t1[0,0].item()) # checks if the two point to the\n",
    "                                 # same object! \n",
    "    "
   ]
  },
  {
   "cell_type": "markdown",
   "id": "0f191891",
   "metadata": {},
   "source": [
    "#### Tensors can be converted to numpy arrays.\n"
   ]
  },
  {
   "cell_type": "code",
   "execution_count": 5,
   "id": "06897455",
   "metadata": {},
   "outputs": [
    {
     "data": {
      "text/plain": [
       "array([[1., 0., 0.],\n",
       "       [0., 1., 0.],\n",
       "       [0., 0., 1.]], dtype=float32)"
      ]
     },
     "execution_count": 5,
     "metadata": {},
     "output_type": "execute_result"
    }
   ],
   "source": [
    "torch.eye(3).numpy()"
   ]
  },
  {
   "cell_type": "markdown",
   "id": "440cb548",
   "metadata": {},
   "source": [
    "- If the tensor is on the CPU, the array converted from the tensor will **share memory**\n",
    "- But they are not the same object - the tensor object is larger, has different functionality, and can store information that the array does not have).\n"
   ]
  },
  {
   "cell_type": "code",
   "execution_count": 6,
   "id": "a581997d",
   "metadata": {},
   "outputs": [
    {
     "name": "stdout",
     "output_type": "stream",
     "text": [
      "A numpy array converted from a tensor:\n",
      "[[1. 0.]\n",
      " [0. 1.]] <class 'numpy.ndarray'> \n",
      "\n",
      "Changing the first element of the tensor...\n",
      "... changes the numpy array:\n",
      "tensor([[7., 0.],\n",
      "        [0., 1.]]) \n",
      " [[7. 0.]\n",
      " [0. 1.]] \n",
      "\n",
      "Changing the last element of the numpy array...\n",
      "... changes the tensor:\n",
      "tensor([[7., 0.],\n",
      "        [0., 3.]]) \n",
      " [[7. 0.]\n",
      " [0. 3.]] \n",
      "\n",
      "But are they teh same object?\n"
     ]
    },
    {
     "data": {
      "text/plain": [
       "False"
      ]
     },
     "execution_count": 6,
     "metadata": {},
     "output_type": "execute_result"
    }
   ],
   "source": [
    "t2 = torch.eye(2) # identity tensor \n",
    "\n",
    "ndarray = t2.numpy()\n",
    "print('A numpy array converted from a tensor:')\n",
    "print(ndarray, type(ndarray), '\\n')\n",
    "\n",
    "######################################################\n",
    "# Careful!                                           #\n",
    "# If the tensor is on the CPU (rather than GPU)      #\n",
    "# the two objects share the same memory location:    #\n",
    "######################################################\n",
    "\n",
    "print('Changing the first element of the tensor...')\n",
    "t2[0,0] = 7\n",
    "print('... changes the numpy array:')\n",
    "print(t2, '\\n', ndarray, '\\n')\n",
    "\n",
    "print('Changing the last element of the numpy array...')\n",
    "ndarray[1,1] = 3\n",
    "print('... changes the tensor:')\n",
    "print(t2, '\\n', ndarray, '\\n')\n",
    "\n",
    "print('But are they teh same object?')\n",
    "t2 is ndarray # but are not the same object...\n"
   ]
  },
  {
   "cell_type": "markdown",
   "id": "84f09862",
   "metadata": {},
   "source": [
    "#### A tensor can keep track of the gradient from optimization steps\n",
    "\n",
    "`requires_grad=True` will create a tensor where gradients are calculated when it is operated on (for optimization purposes) and stored as a [computational graph](https://pytorch.org/blog/computational-graphs-constructed-in-pytorch/) alongside with the tensor values.\n",
    "\n",
    "This is used for tensors that store **model parameters that need to be optimzed**.\n",
    "\n",
    "For a tensor with gradients to be **converted** to a numpy array it needs to be `detach`ed from the gradients first.\n"
   ]
  },
  {
   "cell_type": "code",
   "execution_count": 8,
   "id": "c617f478",
   "metadata": {},
   "outputs": [
    {
     "name": "stdout",
     "output_type": "stream",
     "text": [
      "tensor([[0.9059, 0.0127, 0.1932],\n",
      "        [0.8983, 0.4759, 0.5400],\n",
      "        [0.7409, 0.4830, 0.2763]], requires_grad=True)\n",
      "[[0.9058727  0.01269013 0.19324708]\n",
      " [0.89833593 0.47587883 0.5399539 ]\n",
      " [0.740917   0.48297215 0.2762832 ]]\n"
     ]
    }
   ],
   "source": [
    "parameters_w_grad = torch.rand(3,3, requires_grad=True)\n",
    "print(parameters_w_grad)\n",
    "\n",
    "print(parameters_w_grad.detach().numpy())\n"
   ]
  },
  {
   "cell_type": "code",
   "execution_count": 8,
   "id": "26ea37fe",
   "metadata": {},
   "outputs": [
    {
     "name": "stdout",
     "output_type": "stream",
     "text": [
      "[[0.47305983 0.82296395 0.8861918 ]\n",
      " [0.25813723 0.7182535  0.7137081 ]\n",
      " [0.14916301 0.45337164 0.81058776]]\n"
     ]
    }
   ],
   "source": [
    "print(parameters_w_grad.detach().numpy())\n",
    "\n"
   ]
  },
  {
   "cell_type": "markdown",
   "id": "73d9b6cc",
   "metadata": {},
   "source": [
    "#### Like arrays, tensors can be added (element by element) and multiplied (element by element or matmul)\n"
   ]
  },
  {
   "cell_type": "code",
   "execution_count": 9,
   "id": "301a7781",
   "metadata": {},
   "outputs": [
    {
     "data": {
      "text/plain": [
       "torch.Size([60, 2])"
      ]
     },
     "execution_count": 9,
     "metadata": {},
     "output_type": "execute_result"
    }
   ],
   "source": [
    "t1 = torch.rand(2,3,4,5)\n",
    "t1.view(-1, 2).shape\n",
    "# t2 = torch.rand(5,7)\n",
    "\n",
    "# t1 @ t2"
   ]
  },
  {
   "cell_type": "code",
   "execution_count": 10,
   "id": "1da415c3",
   "metadata": {
    "scrolled": true
   },
   "outputs": [
    {
     "name": "stdout",
     "output_type": "stream",
     "text": [
      "Two tensors:\n",
      "tensor([[0.7101, 0.8630],\n",
      "        [0.6422, 0.4070]]) \n",
      "\n",
      " tensor([[1., 0.],\n",
      "        [0., 1.]]) \n",
      "\n",
      "Addition (element by element):\n",
      " tensor([[1.7101, 0.8630],\n",
      "        [0.6422, 1.4070]]) \n",
      "\n",
      "Multiplication element by element:\n",
      " tensor([[0.7101, 0.0000],\n",
      "        [0.0000, 0.4070]]) \n",
      "\n",
      "Matrix multiplication:\n",
      " tensor([[0.7101, 0.8630],\n",
      "        [0.6422, 0.4070]])\n"
     ]
    }
   ],
   "source": [
    "t1 = torch.rand(2,2)\n",
    "t2 = torch.eye(2) # identity tensor \n",
    "\n",
    "print('Two tensors:')\n",
    "print(t1, '\\n\\n', t2, '\\n')\n",
    "print('Addition (element by element):\\n', t1+t2, '\\n')\n",
    "print('Multiplication element by element:\\n', t1*t2, '\\n')\n",
    "print('Matrix multiplication:\\n', t1@t2 )\n"
   ]
  },
  {
   "cell_type": "markdown",
   "id": "cc8c719b",
   "metadata": {},
   "source": [
    "#### Reshaping tensors with [`view()`](https://pytorch.org/docs/stable/generated/torch.Tensor.view.html)\n",
    "\n",
    "If it appears, `-1` dimension is inferred from the other dimnensions of the tensor.\n"
   ]
  },
  {
   "cell_type": "code",
   "execution_count": 11,
   "id": "89bdd5eb",
   "metadata": {},
   "outputs": [
    {
     "name": "stdout",
     "output_type": "stream",
     "text": [
      "A 2x2 tensor flattened to a 1d row with 4 elements:\n",
      "tensor([8., 7., 7., 8.]) torch.Size([4]) \n",
      "\n",
      "A 2x2 tensor reshaped to a 4x1 tensor - #rows inferred:\n",
      "tensor([[8.],\n",
      "        [7.],\n",
      "        [7.],\n",
      "        [8.]]) torch.Size([4, 1]) \n",
      "\n",
      "A 2x2 tensor reshaped to a 1x4 tensor - #columns inferred:\n",
      "tensor([[8., 7., 7., 8.]]) torch.Size([1, 4]) \n",
      "\n",
      "A 2x2 tensor flattened to a 1d row - #columns inferred:\n",
      "tensor([8., 7., 7., 8.]) torch.Size([4]) \n",
      "\n"
     ]
    }
   ],
   "source": [
    "t2 = torch.eye(2)+7 # identity tensor \n",
    "\n",
    "\n",
    "print('A 2x2 tensor flattened to a 1d row with 4 elements:')\n",
    "print(t2.view(4),\n",
    "      t2.view(4).shape, '\\n') # four elements in a row\n",
    "\n",
    "print('A 2x2 tensor reshaped to a 4x1 tensor - #rows inferred:')\n",
    "print(t2.view(-1,1),\n",
    "      t2.view(-1,1).shape, '\\n') # One column, infer number of rows\n",
    "\n",
    "print('A 2x2 tensor reshaped to a 1x4 tensor - #columns inferred:')\n",
    "print(t2.view(1,-1),\n",
    "      t2.view(1,-1).shape, '\\n') # On row, infer number of columns\n",
    "\n",
    "print('A 2x2 tensor flattened to a 1d row - #columns inferred:')\n",
    "print(t2.view(-1),\n",
    "      t2.view(-1).shape, '\\n') # inferred number of elements in a row\n"
   ]
  },
  {
   "cell_type": "markdown",
   "id": "6225307a",
   "metadata": {},
   "source": [
    "#### Moving tensor to a GPU\n",
    "\n",
    "On some M1, M2, and M3 Macbooks, the MPS frameworks supports working with GPU.\n",
    "\n",
    "In that case, device='mps'.\n"
   ]
  },
  {
   "cell_type": "code",
   "execution_count": 10,
   "id": "d495bb05",
   "metadata": {},
   "outputs": [
    {
     "name": "stdout",
     "output_type": "stream",
     "text": [
      "cpu\n"
     ]
    }
   ],
   "source": [
    "if torch.cuda.is_available(): \n",
    "    device = 'cuda'\n",
    "else: \n",
    "    device = 'cpu'\n",
    "    \n",
    "print(device) \n",
    "    \n",
    "t1 = torch.rand(2,2)\n",
    "t1.to(device) # Move to GPU if available   \n",
    "# OR \n",
    "t1 = torch.rand(2,2, device=device) # Create on GPU if available\n",
    "\n"
   ]
  },
  {
   "cell_type": "markdown",
   "id": "2bda1b00",
   "metadata": {},
   "source": [
    "### Brief intro to pytorch `autograd`\n",
    "\n",
    "- Calculating gradients of loss functions using the chain rule is necessary for figuring out the contribution of the parameters to errors.\n",
    "\n",
    "$\\rightarrow$ Optimizing model parameters (typically) requires calculating gradients of loss functions using the chain rule.\n",
    "\n",
    "- The `autograd` module performs these calculations and makes the results available to the optimizer by constructing a [computational graph](https://pytorch.org/blog/computational-graphs-constructed-in-pytorch/).\n",
    "\n",
    "- The calculations are performed 'under the hood' - they do not have to be implemented explicitly for every model.\n",
    "\n",
    "#### Simple example\n",
    "\n",
    "All operations on the tensor `x` will be tracked on an operational graph.\n"
   ]
  },
  {
   "cell_type": "code",
   "execution_count": 13,
   "id": "54690fd0",
   "metadata": {},
   "outputs": [
    {
     "name": "stdout",
     "output_type": "stream",
     "text": [
      "x: tensor([0.5000, 0.5000, 0.5000, 0.5000], requires_grad=True)\n",
      "x.grad:  None\n",
      "\n",
      "First forward pass with three operations\n",
      "    Note that the operations result in a scalar:\n",
      "\n",
      "f(x) = x**2: tensor([0.2500, 0.2500, 0.2500, 0.2500], grad_fn=<PowBackward0>)\n",
      "f(x).grad_fn:  <PowBackward0 object at 0x14d138af0>\n",
      "x.grad:  None\n",
      "\n",
      "g(x) = 4*[f(x)]: tensor([1., 1., 1., 1.], grad_fn=<MulBackward0>)\n",
      "g(x).grad_fn:  <MulBackward0 object at 0x14d138a90>\n",
      "x.grad:  None\n",
      "\n",
      "h(x) = g(x).g(x): tensor(4., grad_fn=<DotBackward0>)\n",
      "<DotBackward0 object at 0x14d138af0>\n",
      "x.grad:  None\n",
      "\n",
      "\n",
      " Performing the first backward pass\n",
      "x.grad = dh/dx:  tensor([8., 8., 8., 8.])\n",
      "(the first computational graph was released.)\n",
      "\n",
      "\n",
      "Second forward pass with the same three operations:\n",
      "\n",
      "f(x) = x**2: tensor([0.2500, 0.2500, 0.2500, 0.2500], grad_fn=<PowBackward0>)\n",
      "x.grad:  tensor([8., 8., 8., 8.])\n",
      "\n",
      "g(x) = 4*[f(x)]: tensor([1., 1., 1., 1.], grad_fn=<MulBackward0>)\n",
      "x.grad:  tensor([8., 8., 8., 8.])\n",
      "\n",
      "h(x) = g(x).g(x): tensor(4., grad_fn=<DotBackward0>)\n",
      "x.grad:  tensor([8., 8., 8., 8.])\n",
      "\n",
      "\n",
      " Performing the second backward pass\n",
      "Accumulated x.grad = dh/dx:  tensor([16., 16., 16., 16.])\n",
      "(the second computational graph was released.)\n",
      "\n",
      "\n"
     ]
    }
   ],
   "source": [
    "x = torch.tensor([1/2, 1/2, 1/2, 1/2], requires_grad=True)\n",
    "print('x:', x) \n",
    "print('x.grad: ', x.grad)\n",
    "print()\n",
    "\n",
    "print('First forward pass with three operations')\n",
    "print('    Note that the operations result in a scalar:\\n')\n",
    "f_of_x = x**2\n",
    "print('f(x) = x**2:', f_of_x) \n",
    "print('f(x).grad_fn: ', f_of_x.grad_fn) # 'Pow' stands for \n",
    "                                        # power operation\n",
    "print('x.grad: ', x.grad)\n",
    "print()\n",
    "\n",
    "g_of_x = 4*f_of_x\n",
    "print('g(x) = 4*[f(x)]:', g_of_x) \n",
    "print('g(x).grad_fn: ', g_of_x.grad_fn) # 'Mul' stands for \n",
    "                                        # multiplication operation\n",
    "print('x.grad: ', x.grad)\n",
    "print()\n",
    "\n",
    "h_of_x = g_of_x @ g_of_x\n",
    "print('h(x) = g(x).g(x):', h_of_x) \n",
    "print(h_of_x.grad_fn) # 'Dot' stands for dot product operation\n",
    "print('x.grad: ', x.grad)\n",
    "print()\n",
    "\n",
    "print('\\n Performing the first backward pass')\n",
    "h_of_x.backward() # By default, the previous computational  \n",
    "                  # graph is released\n",
    "print('x.grad = dh/dx: ', x.grad) # These values can inform an \n",
    "                                  # optimizer how to adjust x. \n",
    "                                  # Of course, typically the gradient\n",
    "                                  # is calculated for a loss function \n",
    "                                  # and not for arbitrary operations. \n",
    "print('(the first computational graph was released.)\\n\\n')\n",
    "\n",
    "print('Second forward pass with the same three operations:\\n')\n",
    "f_of_x = x**2\n",
    "print('f(x) = x**2:', f_of_x) \n",
    "print('x.grad: ', x.grad)\n",
    "print()\n",
    "\n",
    "g_of_x = 4*f_of_x\n",
    "print('g(x) = 4*[f(x)]:', g_of_x) \n",
    "print('x.grad: ', x.grad)\n",
    "print()\n",
    "\n",
    "h_of_x = g_of_x @ g_of_x\n",
    "print('h(x) = g(x).g(x):', h_of_x) \n",
    "print('x.grad: ', x.grad)\n",
    "print()\n",
    "\n",
    "##################################################\n",
    "# The .backward() method calculates the gradient #\n",
    "##################################################\n",
    "\n",
    "print('\\n Performing the second backward pass')\n",
    "h_of_x.backward() # Calculate the gradient\n",
    "print('Accumulated x.grad = dh/dx: ', x.grad) # By default, the dh/dx \n",
    "                                              # are accumulated!\n",
    "print('(the second computational graph was released.)\\n\\n')\n"
   ]
  },
  {
   "cell_type": "markdown",
   "id": "0a5186b9",
   "metadata": {},
   "source": [
    "#### Why is all this information computed and stored?\n",
    "\n",
    "<details><summary><button> $\\leftarrow$ Well... </button></summary>\n",
    "\n",
    "Just in case:\n",
    "\n",
    "- The tensor in question holds model parameters (**weights**).\n",
    "- The operations performed on the tensor calculated a **loss function**.\n",
    "\n",
    "In that case, parameters will need to be gradually improved (**optimized**) and the gradients come in handy (GD).\n",
    "\n",
    "</details>\n",
    "\n",
    "<!--      -->\n",
    "\n",
    "<br>\n"
   ]
  },
  {
   "cell_type": "markdown",
   "id": "deb42185",
   "metadata": {},
   "source": [
    "### Example: linear regression with the Galton dataset\n",
    "\n",
    "The Galton dataset contains information on $\\sim 1000$ individuals that include their hights and their parents' heights.\n"
   ]
  },
  {
   "cell_type": "code",
   "execution_count": 19,
   "id": "6afc7170",
   "metadata": {},
   "outputs": [
    {
     "name": "stdout",
     "output_type": "stream",
     "text": [
      "No. of records is: 934\n",
      "No. of records after dropping missing data is: 934\n"
     ]
    },
    {
     "data": {
      "text/html": [
       "<div>\n",
       "<style scoped>\n",
       "    .dataframe tbody tr th:only-of-type {\n",
       "        vertical-align: middle;\n",
       "    }\n",
       "\n",
       "    .dataframe tbody tr th {\n",
       "        vertical-align: top;\n",
       "    }\n",
       "\n",
       "    .dataframe thead th {\n",
       "        text-align: right;\n",
       "    }\n",
       "</style>\n",
       "<table border=\"1\" class=\"dataframe\">\n",
       "  <thead>\n",
       "    <tr style=\"text-align: right;\">\n",
       "      <th></th>\n",
       "      <th>family</th>\n",
       "      <th>father</th>\n",
       "      <th>mother</th>\n",
       "      <th>midparentHeight</th>\n",
       "      <th>children</th>\n",
       "      <th>childNum</th>\n",
       "      <th>gender</th>\n",
       "      <th>childHeight</th>\n",
       "    </tr>\n",
       "  </thead>\n",
       "  <tbody>\n",
       "    <tr>\n",
       "      <th>0</th>\n",
       "      <td>1</td>\n",
       "      <td>78.5</td>\n",
       "      <td>67.0</td>\n",
       "      <td>75.43</td>\n",
       "      <td>4</td>\n",
       "      <td>1</td>\n",
       "      <td>male</td>\n",
       "      <td>73.2</td>\n",
       "    </tr>\n",
       "    <tr>\n",
       "      <th>1</th>\n",
       "      <td>1</td>\n",
       "      <td>78.5</td>\n",
       "      <td>67.0</td>\n",
       "      <td>75.43</td>\n",
       "      <td>4</td>\n",
       "      <td>2</td>\n",
       "      <td>female</td>\n",
       "      <td>69.2</td>\n",
       "    </tr>\n",
       "    <tr>\n",
       "      <th>2</th>\n",
       "      <td>1</td>\n",
       "      <td>78.5</td>\n",
       "      <td>67.0</td>\n",
       "      <td>75.43</td>\n",
       "      <td>4</td>\n",
       "      <td>3</td>\n",
       "      <td>female</td>\n",
       "      <td>69.0</td>\n",
       "    </tr>\n",
       "    <tr>\n",
       "      <th>3</th>\n",
       "      <td>1</td>\n",
       "      <td>78.5</td>\n",
       "      <td>67.0</td>\n",
       "      <td>75.43</td>\n",
       "      <td>4</td>\n",
       "      <td>4</td>\n",
       "      <td>female</td>\n",
       "      <td>69.0</td>\n",
       "    </tr>\n",
       "    <tr>\n",
       "      <th>4</th>\n",
       "      <td>2</td>\n",
       "      <td>75.5</td>\n",
       "      <td>66.5</td>\n",
       "      <td>73.66</td>\n",
       "      <td>4</td>\n",
       "      <td>1</td>\n",
       "      <td>male</td>\n",
       "      <td>73.5</td>\n",
       "    </tr>\n",
       "  </tbody>\n",
       "</table>\n",
       "</div>"
      ],
      "text/plain": [
       "  family  father  mother  midparentHeight  children  childNum  gender  \\\n",
       "0      1    78.5    67.0            75.43         4         1    male   \n",
       "1      1    78.5    67.0            75.43         4         2  female   \n",
       "2      1    78.5    67.0            75.43         4         3  female   \n",
       "3      1    78.5    67.0            75.43         4         4  female   \n",
       "4      2    75.5    66.5            73.66         4         1    male   \n",
       "\n",
       "   childHeight  \n",
       "0         73.2  \n",
       "1         69.2  \n",
       "2         69.0  \n",
       "3         69.0  \n",
       "4         73.5  "
      ]
     },
     "execution_count": 19,
     "metadata": {},
     "output_type": "execute_result"
    }
   ],
   "source": [
    "galton = pd.read_csv('/Users/giovannimaya/Downloads/data/galton.csv')\n",
    "print('No. of records is: %d'%len(galton))\n",
    "galton.dropna(inplace=True)\n",
    "print('No. of records after dropping missing data is: %d'%len(galton))\n",
    "galton.head()\n"
   ]
  },
  {
   "cell_type": "markdown",
   "id": "7c859be4",
   "metadata": {},
   "source": [
    "#### The linear regression model:\n",
    "\n",
    "$$\\text{ Child_Height } = \\beta_1 \\times \\text{ Mid_Parents_Height }$$\n",
    "\n",
    "<br>\n",
    "\n",
    "- On predictor\n",
    "- One weight/parameter\n",
    "- No intercept/bias\n"
   ]
  },
  {
   "cell_type": "code",
   "execution_count": 23,
   "id": "a67fae9f",
   "metadata": {},
   "outputs": [
    {
     "name": "stdout",
     "output_type": "stream",
     "text": [
      "Before training:\n",
      "    Linear coef = 0.74\n",
      "    Parent height=74.00 , predicted child height=55.05\n",
      "\n",
      "\n",
      "After training:\n",
      "    Linear coef = nan\n",
      "    Parent height=74.00 , predicted child height=nan\n",
      "\n",
      "\n",
      "On average, parents in the dataset were\n",
      "taller than their children by 2.46\"\n"
     ]
    },
    {
     "data": {
      "image/png": "[encoded data removed]",
      "text/plain": [
       "<Figure size 640x480 with 1 Axes>"
      ]
     },
     "metadata": {},
     "output_type": "display_data"
    }
   ],
   "source": [
    "x = torch.tensor([galton.midparentHeight])\n",
    "y = torch.tensor(galton.childHeight)\n",
    "\n",
    "w = torch.rand(1, requires_grad=True) # single weight/parameter\n",
    "\n",
    "def forward(x):\n",
    "    return w*x # Introducing a bias would require a 'data row' of 1s. \n",
    "               # For simplicity, our model will assume 0 bias. \n",
    "\n",
    "def MSE(y, y_hat): \n",
    "    return ((y-y_hat)**2).mean()\n",
    "\n",
    "parentsHeightTest = 74.00\n",
    "\n",
    "y_hat = forward(parentsHeightTest)\n",
    "print('Before training:')\n",
    "print('    Linear coef = %.2f'%(w.item()))\n",
    "print('    Parent height=%.2f , predicted child height=%.2f\\n\\n'%\\\n",
    "      (parentsHeightTest, y_hat))\n",
    "\n",
    "#############################################################\n",
    "learning_rate = 1e-3 # (try 1e-3 to see what might happen...)\n",
    "n_epochs = 50 \n",
    "#############################################################\n",
    "\n",
    "losses = []\n",
    "for epoch in range(n_epochs):\n",
    "\n",
    "    y_hat = forward(x)   # forward pass -> current prediction\n",
    "    loss = MSE(y, y_hat) # calculate loss\n",
    "    losses.append(loss.item())\n",
    "    loss.backward()      # backward pass -> calculate gradient\n",
    "    \n",
    "    with torch.no_grad():  \n",
    "        w -= learning_rate * w.grad # update weight using \n",
    "                                    # gradient descent\n",
    "     \n",
    "    w.grad.zero_() # avoid accumulating these grads into next epoch\n",
    "    \n",
    "plt.scatter(range(n_epochs), losses)\n",
    "\n",
    "y_hat = forward(parentsHeightTest)    \n",
    "print('After training:')\n",
    "print('    Linear coef = %.2f'%(w.item()))\n",
    "print('    Parent height=%.2f , predicted child height=%.2f\\n\\n'%\\\n",
    "      (parentsHeightTest, y_hat))\n",
    "\n",
    "deltaHeight = (galton.midparentHeight - galton.childHeight).mean()\n",
    "print('On average, parents in the dataset were')\n",
    "print('taller than their children by %.2f\"'%deltaHeight)\n"
   ]
  },
  {
   "cell_type": "markdown",
   "id": "e700627a",
   "metadata": {},
   "source": [
    "### Same example using a built-in loss function and an optimizer\n",
    "\n",
    "#### Design the model\n",
    "\n",
    "- Inherit from `torch.nn` basic methods and attributes for Neural Network models\n",
    "- Input shape (`torch.nn` models expect features in columns and samples in rows, like a DataFrame)\n",
    "- Forward pass\n",
    "- Output shape\n",
    "\n",
    "#### Choose the loss function\n",
    "\n",
    "- Here - built in MSE instead of our implementaiton\n",
    "\n",
    "#### Choose the optimizer\n",
    "\n",
    "- Here - [Stochastic Gradient Descent](https://pytorch.org/docs/stable/generated/torch.optim.SGD.html) instead of our implementation of the gradient descent learning rule.\n",
    "\n",
    "[Adam](https://pytorch.org/docs/stable/generated/torch.optim.Adam.html) is another popular one.\n",
    "\n",
    "#### Train the model (for each epoch)\n",
    "\n",
    "- Forward pass: calculate predictions and loss\n",
    "- Backward pass: calculate gradients\n",
    "- Optimizer step: update model parameters (weights)\n",
    "\n",
    "<br/>\n",
    "\n",
    "**Recall:**\n",
    "\n",
    "By default, PyTorch accumulates the gradients on subsequent backward passes.\n",
    "\n",
    "During training with every batch the gradients need to be explicitly set to zero using `optimizer.zero_grad()` before starting the backpropagation.\n",
    "\n",
    "The accumulating behavior can be convenient when we want to compute the gradient of the loss summed over multiple batches (or with RNNs).\n"
   ]
  },
  {
   "cell_type": "code",
   "execution_count": 24,
   "id": "86b19278",
   "metadata": {},
   "outputs": [
    {
     "name": "stdout",
     "output_type": "stream",
     "text": [
      "Before training:\n",
      "    Parent height=74.00\n",
      "    Predicted child height=-68.97\n",
      "\n",
      "\n"
     ]
    },
    {
     "name": "stdout",
     "output_type": "stream",
     "text": [
      "After training:\n",
      "    Parent height=74.00\n",
      "    Predicted child height=70.42\n",
      "\n",
      "\n",
      "Model parameter 0: 0.95\n",
      "Model parameter 1: 0.40\n"
     ]
    },
    {
     "data": {
      "image/png": "[encoded data removed]",
      "text/plain": [
       "<Figure size 640x480 with 1 Axes>"
      ]
     },
     "metadata": {},
     "output_type": "display_data"
    }
   ],
   "source": [
    "import torch.nn as nn # Neural Networks module\n",
    "\n",
    "########################################################\n",
    "# torch.nn models expect the features to be in columns #\n",
    "#                        and samples to be in rows     #\n",
    "########################################################\n",
    "\n",
    "X = torch.tensor(galton.midparentHeight, \n",
    "                 dtype=torch.float32).view(-1,1)\n",
    "Y = torch.tensor(galton.childHeight, \n",
    "                 dtype=torch.float32).view(-1,1)\n",
    "\n",
    "n_samples, n_features = X.shape # 934 samples, single feature \n",
    "\n",
    "\n",
    "######################################################\n",
    "# Define the model:                                  #\n",
    "#    - Inherit from the basic Neural Networks class  #\n",
    "#    - Define layers in the constructor              #\n",
    "#    - Apply layers in the forward pass              # \n",
    "######################################################\n",
    "\n",
    "class OurLR(nn.Module): # inherit from torch.nn.Module \n",
    "\n",
    "    def __init__(self, in_dim, out_dim): # constructor\n",
    "        super().__init__() # parent constructor\n",
    "        self.layer1 = nn.Linear(in_dim, out_dim) # one linear layer: \n",
    "                                                 # weights + bias\n",
    "                                  # If there were more layers in the \n",
    "                                  # neural network they could be \n",
    "                                  # defined here\n",
    "        \n",
    "    def forward(self, x): \n",
    "        return self.layer1(x) \n",
    "\n",
    "###################################\n",
    "# Create an instance of the model #   \n",
    "###################################\n",
    "\n",
    "in_dim, out_dim = n_features, n_features # One input, one output\n",
    "model = OurLR(in_dim, out_dim)\n",
    "\n",
    "                  ########\n",
    "                  # bias #\n",
    "                  ########\n",
    "#                    | \n",
    "######  * weight     V        #######\n",
    "# in # ---------->   + -----> # out #\n",
    "######                        #######\n",
    "\n",
    "parentsHeightTest = torch.tensor([74.00])\n",
    "y_hat = model(parentsHeightTest)\n",
    "print('Before training:')\n",
    "print('    Parent height=%.2f'%parentsHeightTest)\n",
    "print('    Predicted child height=%.2f\\n\\n'%y_hat)\n",
    "\n",
    "\n",
    "######################################################\n",
    "# Define learning rate, loss function, and optimizer #\n",
    "######################################################\n",
    "learning_rate = 1e-5 \n",
    "n_epochs = 50 \n",
    "loss_fun = nn.MSELoss()\n",
    "optimizer = torch.optim.SGD(model.parameters(), \n",
    "                            lr=learning_rate) # parameters = weight\n",
    "\n",
    "###################\n",
    "# Train the model #\n",
    "###################\n",
    "losses = []\n",
    "for epoch in range(n_epochs):\n",
    "\n",
    "    y_hat = model(X)   # forward pass -> current prediction\n",
    "    loss = loss_fun(Y, y_hat) # calculate loss\n",
    "    loss.backward()      # backward pass -> calculate gradient\n",
    "    losses.append(loss.item())\n",
    "    \n",
    "    optimizer.step() # update weight using stochastic gradient descent\n",
    "    optimizer.zero_grad() # zero the gradient so it does not accumulate\n",
    "    \n",
    "plt.scatter(range(n_epochs), losses)\n",
    "\n",
    "###################\n",
    "# Test the model  #\n",
    "###################\n",
    "y_hat = model(parentsHeightTest)    \n",
    "print('After training:')\n",
    "print('    Parent height=%.2f'%parentsHeightTest)\n",
    "print('    Predicted child height=%.2f\\n\\n'%y_hat)\n",
    "\n",
    "for count, param in enumerate(model.parameters()):\n",
    "    print('Model parameter %d: %.2f'%(count, param.item()))\n",
    "    "
   ]
  },
  {
   "cell_type": "markdown",
   "id": "5f292379",
   "metadata": {},
   "source": [
    "### Building a simple linear neural network using pytorch\n",
    "\n",
    "### Goal: to classify images of hand written digits to $10$ classes: $0, 1, 2, \\dots , 9$\n",
    "\n",
    "We'll use a subset of the MNIST datases:\n",
    "\n",
    "$28 \\times 28$ greyscale images of hand written digits.\n",
    "\n",
    "<br/>\n",
    "\n",
    "<br/>\n",
    "\n",
    "Same pipeline as before:\n",
    "\n",
    "#### Design the model\n",
    "\n",
    "- Inherit from `torch.nn` + Input/output shapes:\n",
    "  - Input $=$ image size $= 28 \\times 28 = 784$\n",
    "  - Output $=$ number of classes = $10$ <br/> Each output will be treated as a **'likelihood'** and the maximal one will determine the class.\n",
    "- Forward pass: layers and [activation functions](https://pytorch.org/docs/stable/nn.html#non-linear-activations-weighted-sum-nonlinearity)\n",
    "\n",
    "#### Choose the [loss function](https://pytorch.org/docs/stable/nn.html#loss-functions)\n",
    "\n",
    "#### Choose the [optimizer](https://pytorch.org/docs/stable/optim.html)\n",
    "\n",
    "#### Train the model (for each epoch, for each batch)\n",
    "\n",
    "- Forward pass: calculate predictions and loss\n",
    "- Backward pass: calculate gradients\n",
    "- Optimizer step: update model parameters\n"
   ]
  },
  {
   "cell_type": "code",
   "execution_count": 25,
   "id": "f8b236c4",
   "metadata": {},
   "outputs": [],
   "source": [
    "import torch\n",
    "import torch.nn as nn \n",
    "from torchvision.datasets import MNIST\n",
    "import torchvision.transforms as transforms\n",
    "from torch.utils.data import DataLoader\n",
    "\n",
    "\n"
   ]
  },
  {
   "cell_type": "markdown",
   "id": "5c267272",
   "metadata": {},
   "source": [
    "- Here, we will use the `MNIST` dataset from `torchvision.datasets`, which is already divided to training and testing sets.\n",
    "\n",
    "- Any set of images can be loaded with the (generic) dataloader provided that it is organized appropriately:\n",
    "\n",
    "[`torchvision.datasets.ImageFolder`](https://pytorch.org/vision/stable/generated/torchvision.datasets.ImageFolder.html) is a data loader for images arranged in subfolders by class. E.g.:\n",
    "\n",
    "`root/dog/xxx.png` <br/>\n",
    "`root/dog/xxy.png` <br/>\n",
    "`root/dog/[...]/xxz.png` <br/>\n",
    "\n",
    "<br/>\n",
    "\n",
    "`root/cat/123.png` <br/>\n",
    "`root/cat/nsdf3.png` <br/>\n",
    "`root/cat/[...]/asd932_.png` <br/>\n"
   ]
  },
  {
   "cell_type": "code",
   "execution_count": 26,
   "id": "c77d8ab1",
   "metadata": {},
   "outputs": [
    {
     "name": "stdout",
     "output_type": "stream",
     "text": [
      "Downloading http://yann.lecun.com/exdb/mnist/train-images-idx3-ubyte.gz\n",
      "Failed to download (trying next):\n",
      "HTTP Error 503: Service Unavailable\n",
      "\n",
      "Downloading https://ossci-datasets.s3.amazonaws.com/mnist/train-images-idx3-ubyte.gz\n",
      "Downloading https://ossci-datasets.s3.amazonaws.com/mnist/train-images-idx3-ubyte.gz to data/MNIST/MNIST/raw/train-images-idx3-ubyte.gz\n"
     ]
    },
    {
     "name": "stderr",
     "output_type": "stream",
     "text": [
      "100%|██████████| 9912422/9912422 [00:02<00:00, 4203866.20it/s]\n"
     ]
    },
    {
     "name": "stdout",
     "output_type": "stream",
     "text": [
      "Extracting data/MNIST/MNIST/raw/train-images-idx3-ubyte.gz to data/MNIST/MNIST/raw\n",
      "\n",
      "Downloading http://yann.lecun.com/exdb/mnist/train-labels-idx1-ubyte.gz\n",
      "Failed to download (trying next):\n",
      "HTTP Error 503: Service Unavailable\n",
      "\n",
      "Downloading https://ossci-datasets.s3.amazonaws.com/mnist/train-labels-idx1-ubyte.gz\n",
      "Downloading https://ossci-datasets.s3.amazonaws.com/mnist/train-labels-idx1-ubyte.gz to data/MNIST/MNIST/raw/train-labels-idx1-ubyte.gz\n"
     ]
    },
    {
     "name": "stderr",
     "output_type": "stream",
     "text": [
      "100%|██████████| 28881/28881 [00:00<00:00, 1227088.21it/s]\n"
     ]
    },
    {
     "name": "stdout",
     "output_type": "stream",
     "text": [
      "Extracting data/MNIST/MNIST/raw/train-labels-idx1-ubyte.gz to data/MNIST/MNIST/raw\n",
      "\n",
      "Downloading http://yann.lecun.com/exdb/mnist/t10k-images-idx3-ubyte.gz\n",
      "Failed to download (trying next):\n",
      "HTTP Error 503: Service Unavailable\n",
      "\n",
      "Downloading https://ossci-datasets.s3.amazonaws.com/mnist/t10k-images-idx3-ubyte.gz\n",
      "Downloading https://ossci-datasets.s3.amazonaws.com/mnist/t10k-images-idx3-ubyte.gz to data/MNIST/MNIST/raw/t10k-images-idx3-ubyte.gz\n"
     ]
    },
    {
     "name": "stderr",
     "output_type": "stream",
     "text": [
      "100%|██████████| 1648877/1648877 [00:00<00:00, 2915595.39it/s]\n"
     ]
    },
    {
     "name": "stdout",
     "output_type": "stream",
     "text": [
      "Extracting data/MNIST/MNIST/raw/t10k-images-idx3-ubyte.gz to data/MNIST/MNIST/raw\n",
      "\n",
      "Downloading http://yann.lecun.com/exdb/mnist/t10k-labels-idx1-ubyte.gz\n",
      "Failed to download (trying next):\n",
      "HTTP Error 503: Service Unavailable\n",
      "\n",
      "Downloading https://ossci-datasets.s3.amazonaws.com/mnist/t10k-labels-idx1-ubyte.gz\n",
      "Downloading https://ossci-datasets.s3.amazonaws.com/mnist/t10k-labels-idx1-ubyte.gz to data/MNIST/MNIST/raw/t10k-labels-idx1-ubyte.gz\n"
     ]
    },
    {
     "name": "stderr",
     "output_type": "stream",
     "text": [
      "100%|██████████| 4542/4542 [00:00<00:00, 1257709.70it/s]"
     ]
    },
    {
     "name": "stdout",
     "output_type": "stream",
     "text": [
      "Extracting data/MNIST/MNIST/raw/t10k-labels-idx1-ubyte.gz to data/MNIST/MNIST/raw\n",
      "\n"
     ]
    },
    {
     "name": "stderr",
     "output_type": "stream",
     "text": [
      "\n"
     ]
    }
   ],
   "source": [
    "from torchvision import transforms\n",
    "from torchvision.datasets import MNIST\n",
    "from torch.utils.data import DataLoader\n",
    "\n",
    "#########################\n",
    "# Some hyper parameters # \n",
    "#########################\n",
    "\n",
    "in_dim = 28*28 \n",
    "out_dim = 10 # there are 10 distinct digits (classes)\n",
    "hidden_dim = 300\n",
    "n_epochs = 5 \n",
    "batch_size = 100 \n",
    "learning_rate = 1e-3 \n",
    "\n",
    "# If unclear - draw the model \n",
    "# (although not every neuron in the hidden layer)\n",
    "\n",
    "\n",
    "####################################################################\n",
    "# Set up using torchvision.transforms for preprocessing each image #   \n",
    "####################################################################\n",
    "\n",
    "img_transform = transforms.Compose([\n",
    "    transforms.ToTensor(),\n",
    "    transforms.Normalize([0.5], [0.5]) # instead of greyscale \n",
    "                                       # values between 0..255\n",
    "])\n",
    "\n",
    "\n",
    "################################################\n",
    "#        Load data from a local folder         #\n",
    "#   (some sources have naming discrepancies)   #\n",
    "################################################\n",
    "\n",
    "X_train = MNIST('data/MNIST', train=True, transform=img_transform, \n",
    "                download=True)\n",
    "X_test = MNIST('data/MNIST', train=False, transform=img_transform)\n",
    "\n",
    "\n",
    "#############################\n",
    "# Specify the dataloader(s) # \n",
    "#############################\n",
    "\n",
    "loader_train = DataLoader(dataset=X_train, batch_size=batch_size, \n",
    "                          shuffle=True)\n",
    "loader_test = DataLoader(dataset=X_test, batch_size=batch_size, \n",
    "                         shuffle=False)\n"
   ]
  },
  {
   "cell_type": "code",
   "execution_count": 27,
   "id": "d049cfd1",
   "metadata": {},
   "outputs": [
    {
     "data": {
      "image/png": "[encoded data removed]",
      "text/plain": [
       "<Figure size 640x480 with 3 Axes>"
      ]
     },
     "metadata": {},
     "output_type": "display_data"
    }
   ],
   "source": [
    "########################################\n",
    "# Show a few example images and labels #\n",
    "########################################\n",
    "\n",
    "imgs, lbls = next(iter(loader_test)) # one batch\n",
    "for i in range(3): \n",
    "    plt.subplot(1,3,i+1)\n",
    "    plt.imshow(imgs[i][0], cmap='bone')\n",
    "    plt.title(lbls[i].item())\n",
    "    plt.axis('off')\n"
   ]
  },
  {
   "cell_type": "markdown",
   "id": "893c2f59",
   "metadata": {},
   "source": [
    "#### A fully connected linear network with one hidden layer:\n"
   ]
  },
  {
   "cell_type": "code",
   "execution_count": 28,
   "id": "6f56882e",
   "metadata": {},
   "outputs": [],
   "source": [
    "##########################################\n",
    "# Specify the model class (model design) #\n",
    "##########################################\n",
    "\n",
    "class SimpleLinearNN(nn.Module): \n",
    "    \n",
    "    def __init__(self, in_dim, hidden_dim, out_dim):\n",
    "        super().__init__() # inherited constructor\n",
    "        self.layer_1 = nn.Linear(in_dim, hidden_dim)\n",
    "        self.relu = nn.ReLU() # Rectifier Linear Unit \n",
    "                              # activation function \n",
    "        self.layer_2 = nn.Linear(hidden_dim, out_dim)\n",
    "        \n",
    "    def forward(self, x): \n",
    "        output = self.layer_1(x)\n",
    "        output = self.relu(output)\n",
    "        output = self.layer_2(output)\n",
    "        # No final activation function: \n",
    "        #    the loss function will expect \n",
    "        #    the unnormalized numbers as input\n",
    "        return output\n",
    "    \n",
    "    \n",
    "###################################\n",
    "# Create an instance of the model #\n",
    "###################################\n",
    "\n",
    "model = SimpleLinearNN(in_dim, hidden_dim, out_dim)\n",
    "\n",
    "\n",
    "######################################\n",
    "# Define loss function and optimizer # \n",
    "######################################\n",
    "\n",
    "loss_fun = nn.CrossEntropyLoss() # A loss function that expects \n",
    "                                 # unnormalized input  \n",
    "optimizer = torch.optim.Adam(model.parameters(), lr=learning_rate)\n"
   ]
  },
  {
   "cell_type": "markdown",
   "id": "61866f02",
   "metadata": {},
   "source": [
    "### Training the simple linear neural network using pytorch\n"
   ]
  },
  {
   "cell_type": "code",
   "execution_count": 22,
   "id": "11df79ac",
   "metadata": {},
   "outputs": [
    {
     "name": "stdout",
     "output_type": "stream",
     "text": [
      "Epoch 0, batch 0: loss = 2.373\n",
      "Epoch 0, batch 200: loss = 0.264\n",
      "Epoch 0, batch 400: loss = 0.280\n",
      "Epoch 1, batch 0: loss = 0.215\n",
      "Epoch 1, batch 200: loss = 0.136\n",
      "Epoch 1, batch 400: loss = 0.056\n",
      "Epoch 2, batch 0: loss = 0.254\n",
      "Epoch 2, batch 200: loss = 0.057\n",
      "Epoch 2, batch 400: loss = 0.185\n",
      "Epoch 3, batch 0: loss = 0.109\n",
      "Epoch 3, batch 200: loss = 0.127\n",
      "Epoch 3, batch 400: loss = 0.138\n",
      "Epoch 4, batch 0: loss = 0.034\n",
      "Epoch 4, batch 200: loss = 0.093\n",
      "Epoch 4, batch 400: loss = 0.038\n",
      "CPU times: user 38.5 s, sys: 1min 49s, total: 2min 28s\n",
      "Wall time: 10.9 s\n"
     ]
    }
   ],
   "source": [
    "%%time \n",
    "\n",
    "###################\n",
    "# Train the model # \n",
    "###################\n",
    "\n",
    "losses = [] \n",
    "for epoch in range(n_epochs): \n",
    "    for k, (imgs, lbls) in enumerate(loader_train): \n",
    "        \n",
    "        # Forward pass and loss\n",
    "        imgs = imgs.view(-1, 28*28) # each row will contain one \n",
    "                                    # 'flattened' image from batch\n",
    "        network_outputs = model(imgs) # one prediction per image \n",
    "                                      # from the batch\n",
    "        loss = loss_fun(network_outputs, lbls) # compare predictions \n",
    "                                               # and labels\n",
    "        \n",
    "        # Backward pass and parameter adjustment\n",
    "        loss.backward()\n",
    "        optimizer.step()\n",
    "        optimizer.zero_grad() # so as not to accumulate grads \n",
    "                              # between batches\n",
    "        \n",
    "        # Indicate progress\n",
    "        if k%200 == 0: \n",
    "            print('Epoch %d, batch %d: loss = %.3f'%\\\n",
    "                  (epoch, k, loss.item()))\n",
    "        losses.append(loss)\n",
    "        \n",
    "\n"
   ]
  },
  {
   "cell_type": "code",
   "execution_count": 23,
   "id": "47924a76",
   "metadata": {},
   "outputs": [
    {
     "data": {
      "image/png": "[encoded data removed]",
      "text/plain": [
       "<Figure size 640x480 with 1 Axes>"
      ]
     },
     "metadata": {},
     "output_type": "display_data"
    }
   ],
   "source": [
    "##########################\n",
    "# Plot (smoothed) losses #\n",
    "##########################\n",
    "\n",
    "win = 10\n",
    "\n",
    "losses_values = [x.detach().numpy() for x in losses] # remove the computational graph from each tensor\n",
    "losses_values = np.convolve(losses_values, np.ones(win), 'valid') / win # rolling window average\n",
    "iters = np.array(range(len(losses_values)))\n",
    "losses_values = losses_values[::win]\n",
    "iters = iters[::win] \n",
    "\n",
    "plt.figure()\n",
    "plt.plot(iters, losses_values) \n",
    "plt.xlabel('Iterations')\n",
    "plt.ylabel('Loss');\n",
    "\n"
   ]
  },
  {
   "cell_type": "markdown",
   "id": "52755fd4",
   "metadata": {},
   "source": [
    "### Testing the simple linear neural network using pytorch\n",
    "\n",
    "**Note (I):**\n",
    "After training we do not need the gradient calculations to be performed so we can\n",
    "\n",
    "- `.detach()` (creates a new copy of the tensor) or\n",
    "- set `.requires_grad_(False)` (sets the flag in place) or\n",
    "- use `with torch.no_grad():` (skips the calculations without copying or changing the tensor)\n",
    "\n",
    "<br/>\n",
    "\n",
    "**Note (II):**\n",
    "\n",
    "When `dim` (dimension to maximize over) is specified in `torch.max()`, the function returns the max value and index:\n"
   ]
  },
  {
   "cell_type": "code",
   "execution_count": 24,
   "id": "273524ef",
   "metadata": {},
   "outputs": [
    {
     "name": "stdout",
     "output_type": "stream",
     "text": [
      "tensor([[0.0475, 0.2900, 0.1858]])\n",
      "Max value = 0.290 , Index of max = 1\n"
     ]
    }
   ],
   "source": [
    "random_tensor = torch.rand(1, 3)\n",
    "print(random_tensor)\n",
    "val, idx = torch.max(random_tensor, dim=1) # maximize over columns \n",
    "                                           # and (!) return indices\n",
    "print('Max value = %.3f , Index of max = %d'%(val, idx))\n"
   ]
  },
  {
   "cell_type": "code",
   "execution_count": 25,
   "id": "2292d2ee",
   "metadata": {},
   "outputs": [
    {
     "name": "stdout",
     "output_type": "stream",
     "text": [
      "Accuracy = 0.970  (yay!)\n"
     ]
    }
   ],
   "source": [
    "##################\n",
    "# Test the model # \n",
    "##################\n",
    "\n",
    "accuracy = 0 \n",
    "with torch.no_grad(): \n",
    "    for imgs, lbls in loader_test:\n",
    "        imgs = imgs.view(-1, 28*28)\n",
    "        network_outputs = model(imgs)\n",
    "        _, y_hats = torch.max(network_outputs, dim=1) # pick class \n",
    "                                                      # with maxinal \n",
    "                                                      # likelihood\n",
    "        accuracy += (y_hats == lbls).sum().item()\n",
    "\n",
    "accuracy = accuracy / len(loader_test.dataset)    \n",
    "mystr = ' (yay!)' if accuracy>=0.95 else '' \n",
    "print('Accuracy = %.3f'%accuracy, mystr)        "
   ]
  },
  {
   "cell_type": "markdown",
   "id": "a96e64e4",
   "metadata": {},
   "source": [
    "### Building a simple convolutional neural network using pytorch\n",
    "\n",
    "A few clarifications (see links for mpore details):\n",
    "\n",
    "- [Convolutional layers](https://www.ibm.com/topics/convolutional-neural-networks#:~:text=The%20convolutional%20layer%20is%20the%20core%20building%20block%20of%20a,filter%2C%20and%20a%20feature%20map.) are a building block that make CNNs less sensitive to translation (where a feature is on a particular image) by implementing filters that can detect various features regardless of their exact position in the image.\n",
    "\n",
    "  - A $3\\times 3$ filter (kernel) size will be able to work on the image starting from the second pixel and ending at the pixel-before-last in every dimension. Therefore, the output image will be smaller by $2$ pixels in every dimension.\n",
    "\n",
    "- Max pooling: [`torch.nn.MaxPool2d`](https://pytorch.org/docs/stable/generated/torch.nn.MaxPool2d.html) downsamples evey $2\\times2$ square of pixels to one pixel equal to the maximal of the four. This is a simple (and common) way of reducing the number of parameters and computations in the network.\n",
    "  - A $2\\times 2$ max pooling filter will shrink every dimension by a factor of $2$.\n",
    "- For the overall architecture to make sense, it is necessary to keep track of the data size after each operation. These sizes are noted in comments alongside the implementation of each layer/operation in the forward pass.\n",
    "\n",
    "- The exact architecture implemented below is, by and large, arbitrary. Classifying hand written digits turns out to be not a very hard problem.\n"
   ]
  },
  {
   "cell_type": "code",
   "execution_count": 26,
   "id": "323a614b",
   "metadata": {},
   "outputs": [],
   "source": [
    "#########################\n",
    "# Some hyper parameters # \n",
    "#########################\n",
    "\n",
    "img_dim = 28 \n",
    "out_dim = 10 # there are 10 distinct digits (classes)\n",
    "n_epochs = 3 \n",
    "batch_size = 100 \n",
    "learning_rate = 1e-3 \n",
    "\n",
    "################################################\n",
    "#        Load data from a local folder         #\n",
    "#   (some sources have naming discrepancies)   #\n",
    "################################################\n",
    "\n",
    "img_transform = transforms.Compose([\n",
    "    transforms.ToTensor(),\n",
    "    transforms.Normalize([0.5], [0.5]), # instead of greyscale \n",
    "                                        # values between 0..255\n",
    "    transforms.Resize((img_dim, img_dim)) \n",
    "])\n",
    "\n",
    "X_train = MNIST('data/MNIST', train=True, transform=img_transform, \n",
    "                download=True)\n",
    "X_test = MNIST('data/MNIST', train=False, transform=img_transform)\n",
    "\n",
    "\n",
    "#############################\n",
    "# Specify the dataloader(s) # \n",
    "#############################\n",
    "\n",
    "loader_train = DataLoader(dataset=X_train, batch_size=batch_size, \n",
    "                          shuffle=True)\n",
    "loader_test = DataLoader(dataset=X_test, batch_size=batch_size, \n",
    "                         shuffle=False)\n",
    "\n",
    "\n",
    "##########################################\n",
    "# Specify the model class (model design) #\n",
    "##########################################\n",
    "\n",
    "class SimpleConvolutionalNN(nn.Module): \n",
    "    \n",
    "    def __init__(self):\n",
    "        super().__init__() # inherited constructor\n",
    "        self.convLayer_1 = nn.Conv2d(in_channels=1, out_channels=30, \n",
    "                                     kernel_size=3)\n",
    "        self.pool = nn.MaxPool2d(kernel_size=2, stride=2)\n",
    "        self.relu = nn.ReLU()\n",
    "        self.convLayer_2 = nn.Conv2d(in_channels=30, out_channels=60, \n",
    "                                     kernel_size=3)\n",
    "        self.convLayer_3 = nn.Conv2d(in_channels=60, out_channels=60, \n",
    "                                     kernel_size=3)\n",
    "        self.LinLayer_4 = nn.Linear(540, 60)\n",
    "        self.LinLayer_5 = nn.Linear(60, 10)\n",
    "        \n",
    "    def forward(self, x): \n",
    "        output = x                         # batch_size x 1 x 28 x 28\n",
    "        output = self.convLayer_1(output)  # batch_size x 30 x 26 x 26\n",
    "        output = self.relu(output)         # batch_size x 30 x 26 x 26\n",
    "        output = self.pool(output)         # batch_size x 30 x 13 x 13\n",
    "        output = self.convLayer_2(output)  # batch_size x 60 x 11 x 11 \n",
    "        output = self.relu(output)         # batch_size x 30 x 11 x 11\n",
    "        output = self.pool(output)         # batch_size x 30 x 5 x 5\n",
    "        output = self.convLayer_3(output)  # batch_size x 60 x 3 x 3\n",
    "        output = torch.flatten(output, 1)  # batch_size x 540\n",
    "        output = self.LinLayer_4(output)   # batch_size x 60 \n",
    "        output = self.relu(output)         # batch_size x 60\n",
    "        output = self.LinLayer_5(output)   # batch_size x 10 \n",
    "        # No final activation function: \n",
    "        #     the loss function will expect \n",
    "        #     the unnormalized numbers as input\n",
    "        return output\n",
    "      \n",
    "###################################\n",
    "# Create an instance of the model #\n",
    "###################################\n",
    "\n",
    "model = SimpleConvolutionalNN()\n",
    "\n",
    "\n",
    "######################################\n",
    "# Define loss function and optimizer # \n",
    "######################################\n",
    "\n",
    "loss_fun = nn.CrossEntropyLoss() # A loss function that expects \n",
    "                                 # unnormalized input  \n",
    "optimizer = torch.optim.Adam(model.parameters(), lr=learning_rate)\n",
    "\n"
   ]
  },
  {
   "cell_type": "code",
   "execution_count": 27,
   "id": "33691e9d",
   "metadata": {},
   "outputs": [
    {
     "name": "stdout",
     "output_type": "stream",
     "text": [
      "Epoch 0, batch 0: loss = 2.304\n",
      "Epoch 0, batch 200: loss = 0.122\n",
      "Epoch 0, batch 400: loss = 0.177\n",
      "Epoch 1, batch 0: loss = 0.089\n",
      "Epoch 1, batch 200: loss = 0.009\n",
      "Epoch 1, batch 400: loss = 0.015\n",
      "Epoch 2, batch 0: loss = 0.016\n",
      "Epoch 2, batch 200: loss = 0.034\n",
      "Epoch 2, batch 400: loss = 0.248\n",
      "\n",
      "CPU times: user 2min 50s, sys: 8min 10s, total: 11min\n",
      "Wall time: 49.4 s\n"
     ]
    },
    {
     "data": {
      "image/png": "[encoded data removed]",
      "text/plain": [
       "<Figure size 640x480 with 1 Axes>"
      ]
     },
     "metadata": {},
     "output_type": "display_data"
    }
   ],
   "source": [
    "%%time \n",
    "\n",
    "###################\n",
    "# Train the model # \n",
    "###################\n",
    "\n",
    "losses = [] \n",
    "for epoch in range(n_epochs): \n",
    "    for k, (imgs, lbls) in enumerate(loader_train): \n",
    "        \n",
    "        # Forward pass and loss\n",
    "        network_outputs = model(imgs) # one prediction per image \n",
    "                                      # from the batch\n",
    "        loss = loss_fun(network_outputs, lbls) # compare predictions \n",
    "                                               # and labels\n",
    "        \n",
    "        # Backward pass and parameter adjustment\n",
    "        loss.backward()\n",
    "        optimizer.step()\n",
    "        optimizer.zero_grad() # so as not to accumulate grads \n",
    "                              # between batches\n",
    "        \n",
    "        # Indicate progress\n",
    "        if k%200 == 0: \n",
    "            print('Epoch %d, batch %d: loss = %.3f'%\\\n",
    "                  (epoch, k, loss.item()))\n",
    "        losses.append(loss)\n",
    "print()\n",
    "        \n",
    "##########################\n",
    "# Plot (smoothed) losses #\n",
    "##########################\n",
    "\n",
    "win = 10\n",
    "\n",
    "losses_values = [x.detach().numpy() for x in losses] # remove the \n",
    "                                            # computational graph \n",
    "                                            # from each tensor\n",
    "losses_values = np.convolve(losses_values, \n",
    "                            np.ones(win), \n",
    "                            'valid')/win # rolling window average\n",
    "\n",
    "iters = np.array(range(len(losses_values)))\n",
    "losses_values = losses_values[::win]\n",
    "iters = iters[::win] \n",
    "\n",
    "plt.figure()\n",
    "plt.plot(iters, losses_values) \n",
    "plt.xlabel('Iterations')\n",
    "plt.ylabel('Loss');\n"
   ]
  },
  {
   "cell_type": "markdown",
   "id": "d6b9c4d6",
   "metadata": {},
   "source": [
    "### Testing the simple convolutional neural network using pytorch\n",
    "\n",
    "(Same as before)\n"
   ]
  },
  {
   "cell_type": "code",
   "execution_count": 29,
   "id": "99b2d71a",
   "metadata": {},
   "outputs": [
    {
     "name": "stdout",
     "output_type": "stream",
     "text": [
      "Accuracy = 0.988  (yay!)\n"
     ]
    }
   ],
   "source": [
    "##################\n",
    "# Test the model # \n",
    "##################\n",
    "\n",
    "accuracy = 0 \n",
    "with torch.no_grad(): \n",
    "    for imgs, lbls in loader_test:\n",
    "        network_outputs = model(imgs)\n",
    "        _, y_hats = torch.max(network_outputs, dim=1) # pick class \n",
    "                                                      # with maxinal \n",
    "                                                      # likelihood\n",
    "        accuracy += (y_hats == lbls).sum().item()\n",
    "\n",
    "accuracy = accuracy / len(loader_test.dataset)    \n",
    "mystr = ' (yay!)' if accuracy>=0.95 else '' \n",
    "print('Accuracy = %.3f'%(accuracy), mystr)        "
   ]
  },
  {
   "cell_type": "markdown",
   "id": "28398f40",
   "metadata": {},
   "source": [
    "### Summary\n",
    "\n",
    "- **Design the model** (input, hidden layers, activation functions, output...)\n",
    "- **Create instances** of the:\n",
    "  - Model\n",
    "  - Loss function\n",
    "  - Optimizer\n",
    "- **Train the model.** <br/> For each epoch: <br/> $ \\hspace{8mm}$ For each sample or batch of samples: <br/> $ \\hspace{16mm} \\circ$ Forward pass (calculate predictions) <br/> $ \\hspace{16mm} \\circ$ Calculate loss <br/> $ \\hspace{16mm} \\circ$ Backward pass (calculate gradients) <br/> $ \\hspace{16mm} \\circ$ Optimizer step (update weights) <br/> $ \\hspace{16mm} \\circ$ (zero the gradients)\n",
    "- **Test/evaluate the model** using a testing dataset that was set aside\n"
   ]
  },
  {
   "cell_type": "code",
   "execution_count": null,
   "id": "d78b6b41",
   "metadata": {},
   "outputs": [],
   "source": []
  }
 ],
 "metadata": {
  "kernelspec": {
   "display_name": "Python 3 (ipykernel)",
   "language": "python",
   "name": "python3"
  },
  "language_info": {
   "codemirror_mode": {
    "name": "ipython",
    "version": 3
   },
   "file_extension": ".py",
   "mimetype": "text/x-python",
   "name": "python",
   "nbconvert_exporter": "python",
   "pygments_lexer": "ipython3",
   "version": "3.11.5"
  }
 },
 "nbformat": 4,
 "nbformat_minor": 5
}
