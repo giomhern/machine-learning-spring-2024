{
 "cells": [
  {
   "cell_type": "code",
   "execution_count": 1,
   "metadata": {},
   "outputs": [],
   "source": [
    "import numpy as np\n",
    "import numpy.random as rn\n",
    "import matplotlib.pyplot as plt\n",
    "import seaborn as sns\n",
    "import pandas as pd\n",
    "from math import log, factorial\n",
    "from scipy.optimize import minimize"
   ]
  },
  {
   "cell_type": "code",
   "execution_count": null,
   "metadata": {},
   "outputs": [],
   "source": [
    "## q1"
   ]
  },
  {
   "cell_type": "code",
   "execution_count": 3,
   "metadata": {},
   "outputs": [
    {
     "name": "stdout",
     "output_type": "stream",
     "text": [
      "Conditional Probabilities for Vaccinated Patients:\n",
      "PCCsymp        Less      More      Same\n",
      "WBscore                                \n",
      "Improved   0.750000  0.000000  0.027778\n",
      "Unchanged  0.083333  0.027778  0.027778\n",
      "Worsened   0.027778  0.027778  0.027778\n",
      "\n",
      "Conditional Probabilities for Unvaccinated Patients:\n",
      "PCCsymp        Less      More      Same\n",
      "WBscore                                \n",
      "Improved   0.076923  0.025641  0.076923\n",
      "Unchanged  0.128205  0.102564  0.282051\n",
      "Worsened   0.000000  0.153846  0.153846\n"
     ]
    }
   ],
   "source": [
    "train_data = pd.read_csv(\n",
    "    '/Users/giovannimaya/Downloads/data/PCC_study_train.csv')\n",
    "train_data = train_data.drop(columns='Unnamed: 0')\n",
    "vaccinated_train_data = train_data[train_data['vax_status'] == 'Vaccinated']\n",
    "unvaccinated_train_data = train_data[train_data['vax_status']\n",
    "                                     == 'Unvaccinated']\n",
    "\n",
    "vax_cond_probs = vaccinated_train_data.groupby(\n",
    "    ['WBscore', 'PCCsymp']).size() / len(vaccinated_train_data)\n",
    "unvax_cond_probs = unvaccinated_train_data.groupby(\n",
    "    ['WBscore', 'PCCsymp']).size() / len(unvaccinated_train_data)\n",
    "\n",
    "vax_cond_probs_table = vax_cond_probs.unstack().fillna(0)\n",
    "unvax_cond_probs_table = unvax_cond_probs.unstack().fillna(0)\n",
    "\n",
    "print(\"Conditional Probabilities for Vaccinated Patients:\")\n",
    "print(vax_cond_probs_table)\n",
    "print(\"\\nConditional Probabilities for Unvaccinated Patients:\")\n",
    "print(unvax_cond_probs_table)\n",
    "\n",
    "train_data_pivot = pd.pivot_table(train_data,\n",
    "                                  index=['WBscore', 'PCCsymp'],\n",
    "                                  columns='vax_status',\n",
    "                                  aggfunc='size',\n",
    "                                  fill_value=0)\n",
    "\n",
    "\n",
    "total_num_yes = (train_data['vax_status'] == 'Vaccinated').sum()\n",
    "total_num_no = (train_data['vax_status'] == 'Unvaccinated').sum()\n",
    "\n",
    "class_prob_yes = total_num_yes / (total_num_yes + total_num_no)\n",
    "class_prob_no = 1 - class_prob_yes\n",
    "class_prob_yes, class_prob_no"
   ]
  },
  {
   "cell_type": "code",
   "execution_count": 5,
   "metadata": {},
   "outputs": [],
   "source": [
    "def calculate_likelihood(outcomes, cond_probs_table, class_prob):\n",
    "    likelihood = class_prob\n",
    "    for outcome in outcomes:\n",
    "        wb_score = outcome['WBscore']\n",
    "        pcc_symp = outcome['PCCsymp']\n",
    "        if wb_score in cond_probs_table.index and pcc_symp in cond_probs_table.columns:\n",
    "            likelihood *= cond_probs_table.loc[wb_score, pcc_symp]\n",
    "        else:\n",
    "            likelihood *= 0\n",
    "        return likelihood"
   ]
  },
  {
   "cell_type": "code",
   "execution_count": 6,
   "metadata": {},
   "outputs": [
    {
     "name": "stdout",
     "output_type": "stream",
     "text": [
      "Likelihood vaccinated: 0.013333333333333332\n",
      "Likelihood unvaccinated: 0.04\n"
     ]
    }
   ],
   "source": [
    "example_input = [{'WBscore': 'Improved', 'PCCsymp': 'Same'}]\n",
    "prob_vaccinated = len(vaccinated_train_data) / len(train_data)\n",
    "prob_unvaccinated = len(unvaccinated_train_data) / len(train_data)\n",
    "\n",
    "likelihood_vaccinated = calculate_likelihood(\n",
    "    example_input, vax_cond_probs_table, prob_vaccinated)\n",
    "likelihood_unvaccinated = calculate_likelihood(\n",
    "    example_input, unvax_cond_probs_table, prob_unvaccinated)\n",
    "\n",
    "print(f\"Likelihood vaccinated: {likelihood_vaccinated}\")\n",
    "print(f\"Likelihood unvaccinated: {likelihood_unvaccinated}\")"
   ]
  },
  {
   "cell_type": "code",
   "execution_count": null,
   "metadata": {},
   "outputs": [],
   "source": [
    "WBscore_mapping = {'Improved': 0, 'Unchanged': 1, 'Worsened': 2}\n",
    "PCCsymp_mapping = {'Less': 0, 'Same': 1, 'More': 2}\n",
    "vax_status_mapping = {'Vaccinated': 0, 'Unvaccinated': 1}\n",
    "\n",
    "train_data['WBscore_encoded'] = train_data['WBscore'].map(WBscore_mapping)\n",
    "train_data['PCCsymp_encoded'] = train_data['PCCsymp'].map(PCCsymp_mapping)\n",
    "train_data['vax_status_encoded'] = train_data['vax_status'].map(\n",
    "    vax_status_mapping)\n",
    "\n",
    "\n",
    "def calculate_conditional_probabilities(data, feature, target):\n",
    "    probabilities = {}\n",
    "    for target_value in data[target].unique():\n",
    "        target_data = data[data[target] == target_value]\n",
    "        counts = target_data[feature].value_counts()\n",
    "        total = counts.sum()\n",
    "        probabilities[target_value] = (counts / total).to_dict()\n",
    "    return probabilities\n",
    "\n",
    "\n",
    "cond_probs_wbscore = calculate_conditional_probabilities(\n",
    "    train_data, 'WBscore_encoded', 'vax_status_encoded')\n",
    "cond_probs_pccsymp = calculate_conditional_probabilities(\n",
    "    train_data, 'PCCsymp_encoded', 'vax_status_encoded')\n",
    "\n",
    "prob_vax = (train_data['vax_status_encoded'] ==\n",
    "            vax_status_mapping['Vaccinated']).mean()\n",
    "prob_unvax = 1 - prob_vax\n",
    "\n",
    "wbscore_encoded = WBscore_mapping[row['WBscore']]\n",
    "pccsymp_encoded = PCCsymp_mapping[row['PCCsymp']]\n",
    "likelihood_vax = (cond_probs_wbscore[vax_status_mapping['Vaccinated']].get(wbscore_encoded, 0) *\n",
    "                      cond_probs_pccsymp[vax_status_mapping['Vaccinated']].get(pccsymp_encoded, 0) * prob_vax)\n",
    "likelihood_unvax = (cond_probs_wbscore[vax_status_mapping['Unvaccinated']].get(wbscore_encoded, 0) *\n",
    "                        cond_probs_pccsymp[vax_status_mapping['Unvaccinated']].get(pccsymp_encoded, 0) * prob_unvax)"
   ]
  },
  {
   "cell_type": "code",
   "execution_count": 96,
   "metadata": {},
   "outputs": [
    {
     "name": "stdout",
     "output_type": "stream",
     "text": [
      "0.48\n",
      "     WBscore PCCsymp  Prediction\n",
      "0   Improved    Less  Vaccinated\n",
      "1   Improved    Less  Vaccinated\n",
      "2   Improved    Less  Vaccinated\n",
      "3   Worsened    Less  Vaccinated\n",
      "4  Unchanged    Less  Vaccinated\n"
     ]
    }
   ],
   "source": [
    "train_data = pd.read_csv(\n",
    "    '/Users/giovannimaya/Downloads/data/PCC_study_train.csv')\n",
    "test_data = pd.read_csv(\n",
    "    '/Users/giovannimaya/Downloads/data/PCC_study_test.csv')\n",
    "\n",
    "WBscore_mapping = {'Improved': 0, 'Unchanged': 1, 'Worsened': 2}\n",
    "PCCsymp_mapping = {'Less': 0, 'Same': 1, 'More': 2}\n",
    "vax_status_mapping = {'Vaccinated': 0, 'Unvaccinated': 1}\n",
    "\n",
    "train_data['WBscore_encoded'] = train_data['WBscore'].map(WBscore_mapping)\n",
    "train_data['PCCsymp_encoded'] = train_data['PCCsymp'].map(PCCsymp_mapping)\n",
    "train_data['vax_status_encoded'] = train_data['vax_status'].map(\n",
    "    vax_status_mapping)\n",
    "\n",
    "\n",
    "def calculate_conditional_probabilities(data, feature, target):\n",
    "    probabilities = {}\n",
    "    for target_value in data[target].unique():\n",
    "        target_data = data[data[target] == target_value]\n",
    "        counts = target_data[feature].value_counts()\n",
    "        total = counts.sum()\n",
    "        probabilities[target_value] = (counts / total).to_dict()\n",
    "    return probabilities\n",
    "\n",
    "\n",
    "cond_probs_wbscore = calculate_conditional_probabilities(\n",
    "    train_data, 'WBscore_encoded', 'vax_status_encoded')\n",
    "cond_probs_pccsymp = calculate_conditional_probabilities(\n",
    "    train_data, 'PCCsymp_encoded', 'vax_status_encoded')\n",
    "\n",
    "prob_vax = (train_data['vax_status_encoded'] ==\n",
    "            vax_status_mapping['Vaccinated']).mean()\n",
    "prob_unvax = 1 - prob_vax\n",
    "\n",
    "\n",
    "def predict(row, prob_vax, prob_unvax):\n",
    "    wbscore_encoded = WBscore_mapping[row['WBscore']]\n",
    "    pccsymp_encoded = PCCsymp_mapping[row['PCCsymp']]\n",
    "\n",
    "    likelihood_vax = (cond_probs_wbscore[vax_status_mapping['Vaccinated']].get(wbscore_encoded, 0) *\n",
    "                      cond_probs_pccsymp[vax_status_mapping['Vaccinated']].get(pccsymp_encoded, 0) * prob_vax)\n",
    "    likelihood_unvax = (cond_probs_wbscore[vax_status_mapping['Unvaccinated']].get(wbscore_encoded, 0) *\n",
    "                        cond_probs_pccsymp[vax_status_mapping['Unvaccinated']].get(pccsymp_encoded, 0) * prob_unvax)\n",
    "\n",
    "    predicted_class = vax_status_mapping['Vaccinated'] if likelihood_vax > likelihood_unvax else vax_status_mapping['Unvaccinated']\n",
    "    return predicted_class\n",
    "\n",
    "test_data['Prediction'] = test_data.apply(predict, args=(prob_vax, prob_unvax), axis=1).map({\n",
    "    v: k for k, v in vax_status_mapping.items()})\n",
    "\n",
    "print(test_data[['WBscore', 'PCCsymp', 'Prediction']].head())"
   ]
  },
  {
   "cell_type": "code",
   "execution_count": 98,
   "metadata": {},
   "outputs": [
    {
     "name": "stdout",
     "output_type": "stream",
     "text": [
      "(0.031111111111111107, 0.04786324786324786)\n"
     ]
    }
   ],
   "source": [
    "def calc_likelihood(outcome, prob_vax, prob_unvax):\n",
    "    wbscore_encoded = WBscore_mapping[outcome['WBscore']]\n",
    "    pccsymp_encoded = PCCsymp_mapping[outcome['PCCsymp']]\n",
    "\n",
    "    likelihood_vax = (cond_probs_wbscore[vax_status_mapping['Vaccinated']].get(wbscore_encoded, 0) *\n",
    "                      cond_probs_pccsymp[vax_status_mapping['Vaccinated']].get(pccsymp_encoded, 0) * prob_vax)\n",
    "    likelihood_unvax = (cond_probs_wbscore[vax_status_mapping['Unvaccinated']].get(wbscore_encoded, 0) *\n",
    "                        cond_probs_pccsymp[vax_status_mapping['Unvaccinated']].get(pccsymp_encoded, 0) * prob_unvax)\n",
    "\n",
    "    return likelihood_vax, likelihood_unvax\n",
    "\n",
    "\n",
    "example_input = {'WBscore': 'Improved', 'PCCsymp': 'Same'}\n",
    "print(calc_likelihood(example_input, prob_vax, prob_unvax))"
   ]
  },
  {
   "cell_type": "code",
   "execution_count": 86,
   "metadata": {},
   "outputs": [
    {
     "name": "stdout",
     "output_type": "stream",
     "text": [
      "     WBscore PCCsymp cnb_predicted_vax_status\n",
      "0   Improved    Less               Vaccinated\n",
      "1   Improved    Less               Vaccinated\n",
      "2   Improved    Less               Vaccinated\n",
      "3   Worsened    Less               Vaccinated\n",
      "4  Unchanged    Less               Vaccinated\n"
     ]
    }
   ],
   "source": [
    "# sklearn  of bayes \n",
    "from sklearn.preprocessing import LabelEncoder\n",
    "from sklearn.naive_bayes import CategoricalNB\n",
    "\n",
    "train_data_2 = pd.read_csv(\n",
    "    '/Users/giovannimaya/Downloads/data/PCC_study_train.csv')\n",
    "test_data_2 = pd.read_csv(\n",
    "    '/Users/giovannimaya/Downloads/data/PCC_study_test.csv')\n",
    "\n",
    "le_WBscore = LabelEncoder()\n",
    "le_PCCsymp = LabelEncoder()\n",
    "le_vax_status = LabelEncoder()\n",
    "\n",
    "train_data_2['WBscore_encoded'] = le_WBscore.fit_transform(train_data_2['WBscore'])\n",
    "train_data_2['PCCsymp_encoded'] = le_PCCsymp.fit_transform(train_data_2['PCCsymp'])\n",
    "train_data_2['vax_status_encoded'] = le_vax_status.fit_transform(\n",
    "    train_data_2['vax_status'])\n",
    "\n",
    "test_data_2['WBscore_encoded'] = le_WBscore.transform(test_data_2['WBscore'])\n",
    "test_data_2['PCCsymp_encoded'] = le_PCCsymp.transform(test_data_2['PCCsymp'])\n",
    "\n",
    "X_train = train_data_2[['WBscore_encoded', 'PCCsymp_encoded']]\n",
    "y_train = train_data_2['vax_status_encoded']\n",
    "\n",
    "cnb_classifier = CategoricalNB()\n",
    "cnb_classifier.fit(X_train, y_train)\n",
    "\n",
    "X_test = test_data_2[['WBscore_encoded', 'PCCsymp_encoded']]\n",
    "\n",
    "cnb_predictions_encoded = cnb_classifier.predict(X_test)\n",
    "\n",
    "test_data_2['cnb_predicted_vax_status'] = le_vax_status.inverse_transform(\n",
    "    cnb_predictions_encoded)\n",
    "\n",
    "print(test_data_2[['WBscore', 'PCCsymp', 'cnb_predicted_vax_status']].head())"
   ]
  },
  {
   "cell_type": "code",
   "execution_count": 11,
   "metadata": {},
   "outputs": [],
   "source": [
    "# end of q1"
   ]
  },
  {
   "cell_type": "code",
   "execution_count": 183,
   "metadata": {},
   "outputs": [
    {
     "data": {
      "text/html": [
       "<div>\n",
       "<style scoped>\n",
       "    .dataframe tbody tr th:only-of-type {\n",
       "        vertical-align: middle;\n",
       "    }\n",
       "\n",
       "    .dataframe tbody tr th {\n",
       "        vertical-align: top;\n",
       "    }\n",
       "\n",
       "    .dataframe thead th {\n",
       "        text-align: right;\n",
       "    }\n",
       "</style>\n",
       "<table border=\"1\" class=\"dataframe\">\n",
       "  <thead>\n",
       "    <tr style=\"text-align: right;\">\n",
       "      <th></th>\n",
       "      <th>Sepal.Length</th>\n",
       "      <th>Sepal.Width</th>\n",
       "      <th>Petal.Length</th>\n",
       "      <th>Petal.Width</th>\n",
       "      <th>Species</th>\n",
       "    </tr>\n",
       "  </thead>\n",
       "  <tbody>\n",
       "    <tr>\n",
       "      <th>0</th>\n",
       "      <td>5.1</td>\n",
       "      <td>3.5</td>\n",
       "      <td>1.4</td>\n",
       "      <td>0.2</td>\n",
       "      <td>setosa</td>\n",
       "    </tr>\n",
       "    <tr>\n",
       "      <th>1</th>\n",
       "      <td>4.9</td>\n",
       "      <td>3.0</td>\n",
       "      <td>1.4</td>\n",
       "      <td>0.2</td>\n",
       "      <td>setosa</td>\n",
       "    </tr>\n",
       "    <tr>\n",
       "      <th>2</th>\n",
       "      <td>4.7</td>\n",
       "      <td>3.2</td>\n",
       "      <td>1.3</td>\n",
       "      <td>0.2</td>\n",
       "      <td>setosa</td>\n",
       "    </tr>\n",
       "    <tr>\n",
       "      <th>3</th>\n",
       "      <td>4.6</td>\n",
       "      <td>3.1</td>\n",
       "      <td>1.5</td>\n",
       "      <td>0.2</td>\n",
       "      <td>setosa</td>\n",
       "    </tr>\n",
       "    <tr>\n",
       "      <th>4</th>\n",
       "      <td>5.0</td>\n",
       "      <td>3.6</td>\n",
       "      <td>1.4</td>\n",
       "      <td>0.2</td>\n",
       "      <td>setosa</td>\n",
       "    </tr>\n",
       "  </tbody>\n",
       "</table>\n",
       "</div>"
      ],
      "text/plain": [
       "   Sepal.Length  Sepal.Width  Petal.Length  Petal.Width Species\n",
       "0           5.1          3.5           1.4          0.2  setosa\n",
       "1           4.9          3.0           1.4          0.2  setosa\n",
       "2           4.7          3.2           1.3          0.2  setosa\n",
       "3           4.6          3.1           1.5          0.2  setosa\n",
       "4           5.0          3.6           1.4          0.2  setosa"
      ]
     },
     "execution_count": 183,
     "metadata": {},
     "output_type": "execute_result"
    }
   ],
   "source": [
    "from sklearn.model_selection import train_test_split\n",
    "iris_df = pd.read_csv(\"/Users/giovannimaya/Downloads/data/iris.csv\")\n",
    "iris_df = iris_df.drop(columns=['rownames'])\n",
    "iris_df.head()"
   ]
  },
  {
   "cell_type": "code",
   "execution_count": 184,
   "metadata": {},
   "outputs": [
    {
     "data": {
      "text/html": [
       "<div>\n",
       "<style scoped>\n",
       "    .dataframe tbody tr th:only-of-type {\n",
       "        vertical-align: middle;\n",
       "    }\n",
       "\n",
       "    .dataframe tbody tr th {\n",
       "        vertical-align: top;\n",
       "    }\n",
       "\n",
       "    .dataframe thead th {\n",
       "        text-align: right;\n",
       "    }\n",
       "</style>\n",
       "<table border=\"1\" class=\"dataframe\">\n",
       "  <thead>\n",
       "    <tr style=\"text-align: right;\">\n",
       "      <th></th>\n",
       "      <th>Sepal.Length</th>\n",
       "      <th>Sepal.Width</th>\n",
       "      <th>Petal.Length</th>\n",
       "      <th>Petal.Width</th>\n",
       "      <th>Species</th>\n",
       "    </tr>\n",
       "  </thead>\n",
       "  <tbody>\n",
       "    <tr>\n",
       "      <th>98</th>\n",
       "      <td>5.1</td>\n",
       "      <td>2.5</td>\n",
       "      <td>3.0</td>\n",
       "      <td>1.1</td>\n",
       "      <td>versicolor</td>\n",
       "    </tr>\n",
       "    <tr>\n",
       "      <th>68</th>\n",
       "      <td>6.2</td>\n",
       "      <td>2.2</td>\n",
       "      <td>4.5</td>\n",
       "      <td>1.5</td>\n",
       "      <td>versicolor</td>\n",
       "    </tr>\n",
       "    <tr>\n",
       "      <th>19</th>\n",
       "      <td>5.1</td>\n",
       "      <td>3.8</td>\n",
       "      <td>1.5</td>\n",
       "      <td>0.3</td>\n",
       "      <td>setosa</td>\n",
       "    </tr>\n",
       "    <tr>\n",
       "      <th>143</th>\n",
       "      <td>6.8</td>\n",
       "      <td>3.2</td>\n",
       "      <td>5.9</td>\n",
       "      <td>2.3</td>\n",
       "      <td>virginica</td>\n",
       "    </tr>\n",
       "    <tr>\n",
       "      <th>99</th>\n",
       "      <td>5.7</td>\n",
       "      <td>2.8</td>\n",
       "      <td>4.1</td>\n",
       "      <td>1.3</td>\n",
       "      <td>versicolor</td>\n",
       "    </tr>\n",
       "    <tr>\n",
       "      <th>...</th>\n",
       "      <td>...</td>\n",
       "      <td>...</td>\n",
       "      <td>...</td>\n",
       "      <td>...</td>\n",
       "      <td>...</td>\n",
       "    </tr>\n",
       "    <tr>\n",
       "      <th>37</th>\n",
       "      <td>4.9</td>\n",
       "      <td>3.6</td>\n",
       "      <td>1.4</td>\n",
       "      <td>0.1</td>\n",
       "      <td>setosa</td>\n",
       "    </tr>\n",
       "    <tr>\n",
       "      <th>79</th>\n",
       "      <td>5.7</td>\n",
       "      <td>2.6</td>\n",
       "      <td>3.5</td>\n",
       "      <td>1.0</td>\n",
       "      <td>versicolor</td>\n",
       "    </tr>\n",
       "    <tr>\n",
       "      <th>33</th>\n",
       "      <td>5.5</td>\n",
       "      <td>4.2</td>\n",
       "      <td>1.4</td>\n",
       "      <td>0.2</td>\n",
       "      <td>setosa</td>\n",
       "    </tr>\n",
       "    <tr>\n",
       "      <th>94</th>\n",
       "      <td>5.6</td>\n",
       "      <td>2.7</td>\n",
       "      <td>4.2</td>\n",
       "      <td>1.3</td>\n",
       "      <td>versicolor</td>\n",
       "    </tr>\n",
       "    <tr>\n",
       "      <th>3</th>\n",
       "      <td>4.6</td>\n",
       "      <td>3.1</td>\n",
       "      <td>1.5</td>\n",
       "      <td>0.2</td>\n",
       "      <td>setosa</td>\n",
       "    </tr>\n",
       "  </tbody>\n",
       "</table>\n",
       "<p>105 rows × 5 columns</p>\n",
       "</div>"
      ],
      "text/plain": [
       "     Sepal.Length  Sepal.Width  Petal.Length  Petal.Width     Species\n",
       "98            5.1          2.5           3.0          1.1  versicolor\n",
       "68            6.2          2.2           4.5          1.5  versicolor\n",
       "19            5.1          3.8           1.5          0.3      setosa\n",
       "143           6.8          3.2           5.9          2.3   virginica\n",
       "99            5.7          2.8           4.1          1.3  versicolor\n",
       "..            ...          ...           ...          ...         ...\n",
       "37            4.9          3.6           1.4          0.1      setosa\n",
       "79            5.7          2.6           3.5          1.0  versicolor\n",
       "33            5.5          4.2           1.4          0.2      setosa\n",
       "94            5.6          2.7           4.2          1.3  versicolor\n",
       "3             4.6          3.1           1.5          0.2      setosa\n",
       "\n",
       "[105 rows x 5 columns]"
      ]
     },
     "execution_count": 184,
     "metadata": {},
     "output_type": "execute_result"
    }
   ],
   "source": [
    "X_train, X_test, y_train, y_test = train_test_split(\n",
    "    iris_df.drop('Species', axis=1), iris_df['Species'], test_size=0.3, random_state=42, stratify=iris_df['Species'])\n",
    "train_data = X_train.copy()\n",
    "train_data['Species'] = y_train\n",
    "train_data"
   ]
  },
  {
   "cell_type": "code",
   "execution_count": 185,
   "metadata": {},
   "outputs": [
    {
     "name": "stderr",
     "output_type": "stream",
     "text": [
      "/Users/giovannimaya/anaconda3/lib/python3.11/site-packages/seaborn/_oldcore.py:1119: FutureWarning: use_inf_as_na option is deprecated and will be removed in a future version. Convert inf values to NaN before operating instead.\n",
      "  with pd.option_context('mode.use_inf_as_na', True):\n",
      "/Users/giovannimaya/anaconda3/lib/python3.11/site-packages/seaborn/_oldcore.py:1119: FutureWarning: use_inf_as_na option is deprecated and will be removed in a future version. Convert inf values to NaN before operating instead.\n",
      "  with pd.option_context('mode.use_inf_as_na', True):\n",
      "/Users/giovannimaya/anaconda3/lib/python3.11/site-packages/seaborn/_oldcore.py:1119: FutureWarning: use_inf_as_na option is deprecated and will be removed in a future version. Convert inf values to NaN before operating instead.\n",
      "  with pd.option_context('mode.use_inf_as_na', True):\n"
     ]
    },
    {
     "data": {
      "image/png": "[encoded data removed]",
      "text/plain": [
       "<Figure size 1000x600 with 1 Axes>"
      ]
     },
     "metadata": {},
     "output_type": "display_data"
    }
   ],
   "source": [
    "plt.figure(figsize=(10, 6))\n",
    "\n",
    "for species in train_data['Species'].unique():\n",
    "    subset = train_data[train_data['Species'] == species]\n",
    "    sns.kdeplot(subset['Petal.Length'], label=species, fill=True)\n",
    "\n",
    "plt.title('Empirical Density of Petal Length by Species')\n",
    "plt.xlabel('Petal Length (cm)')\n",
    "plt.ylabel('Density')\n",
    "plt.legend(title='Species')\n",
    "plt.show()"
   ]
  },
  {
   "cell_type": "code",
   "execution_count": 187,
   "metadata": {},
   "outputs": [
    {
     "name": "stdout",
     "output_type": "stream",
     "text": [
      "      Species      mean       std\n",
      "0      setosa  1.485714  0.153667\n",
      "1  versicolor  4.237143  0.466581\n",
      "2   virginica  5.631429  0.576384\n"
     ]
    }
   ],
   "source": [
    "petal_length_stats = train_data.groupby('Species')['Petal.Length'].agg([\n",
    "    'mean', 'std']).reset_index()\n",
    "\n",
    "print(petal_length_stats)"
   ]
  },
  {
   "cell_type": "code",
   "execution_count": 188,
   "metadata": {},
   "outputs": [
    {
     "data": {
      "text/plain": [
       "{'setosa': 1.1542161536898683e-73,\n",
       " 'versicolor': 0.8446730137297308,\n",
       " 'virginica': 0.04998625890120865}"
      ]
     },
     "execution_count": 188,
     "metadata": {},
     "output_type": "execute_result"
    }
   ],
   "source": [
    "from scipy.stats import norm\n",
    "\n",
    "petal_length_to_classify = 4.31\n",
    "\n",
    "likelihoods = {\n",
    "    species: norm.pdf(petal_length_to_classify,\n",
    "                      loc=row['mean'], scale=row['std'])\n",
    "   for species, row in petal_length_stats.set_index('Species').iterrows()\n",
    "}\n",
    "\n",
    "likelihoods"
   ]
  },
  {
   "cell_type": "code",
   "execution_count": 127,
   "metadata": {},
   "outputs": [
    {
     "name": "stderr",
     "output_type": "stream",
     "text": [
      "/Users/giovannimaya/anaconda3/lib/python3.11/site-packages/seaborn/_oldcore.py:1119: FutureWarning: use_inf_as_na option is deprecated and will be removed in a future version. Convert inf values to NaN before operating instead.\n",
      "  with pd.option_context('mode.use_inf_as_na', True):\n",
      "/Users/giovannimaya/anaconda3/lib/python3.11/site-packages/seaborn/_oldcore.py:1119: FutureWarning: use_inf_as_na option is deprecated and will be removed in a future version. Convert inf values to NaN before operating instead.\n",
      "  with pd.option_context('mode.use_inf_as_na', True):\n",
      "/Users/giovannimaya/anaconda3/lib/python3.11/site-packages/seaborn/_oldcore.py:1119: FutureWarning: use_inf_as_na option is deprecated and will be removed in a future version. Convert inf values to NaN before operating instead.\n",
      "  with pd.option_context('mode.use_inf_as_na', True):\n",
      "/Users/giovannimaya/anaconda3/lib/python3.11/site-packages/seaborn/_oldcore.py:1119: FutureWarning: use_inf_as_na option is deprecated and will be removed in a future version. Convert inf values to NaN before operating instead.\n",
      "  with pd.option_context('mode.use_inf_as_na', True):\n",
      "/Users/giovannimaya/anaconda3/lib/python3.11/site-packages/seaborn/_oldcore.py:1119: FutureWarning: use_inf_as_na option is deprecated and will be removed in a future version. Convert inf values to NaN before operating instead.\n",
      "  with pd.option_context('mode.use_inf_as_na', True):\n",
      "/Users/giovannimaya/anaconda3/lib/python3.11/site-packages/seaborn/_oldcore.py:1119: FutureWarning: use_inf_as_na option is deprecated and will be removed in a future version. Convert inf values to NaN before operating instead.\n",
      "  with pd.option_context('mode.use_inf_as_na', True):\n",
      "/Users/giovannimaya/anaconda3/lib/python3.11/site-packages/seaborn/_oldcore.py:1119: FutureWarning: use_inf_as_na option is deprecated and will be removed in a future version. Convert inf values to NaN before operating instead.\n",
      "  with pd.option_context('mode.use_inf_as_na', True):\n",
      "/Users/giovannimaya/anaconda3/lib/python3.11/site-packages/seaborn/_oldcore.py:1119: FutureWarning: use_inf_as_na option is deprecated and will be removed in a future version. Convert inf values to NaN before operating instead.\n",
      "  with pd.option_context('mode.use_inf_as_na', True):\n",
      "/Users/giovannimaya/anaconda3/lib/python3.11/site-packages/seaborn/_oldcore.py:1119: FutureWarning: use_inf_as_na option is deprecated and will be removed in a future version. Convert inf values to NaN before operating instead.\n",
      "  with pd.option_context('mode.use_inf_as_na', True):\n",
      "/Users/giovannimaya/anaconda3/lib/python3.11/site-packages/seaborn/_oldcore.py:1119: FutureWarning: use_inf_as_na option is deprecated and will be removed in a future version. Convert inf values to NaN before operating instead.\n",
      "  with pd.option_context('mode.use_inf_as_na', True):\n",
      "/Users/giovannimaya/anaconda3/lib/python3.11/site-packages/seaborn/_oldcore.py:1119: FutureWarning: use_inf_as_na option is deprecated and will be removed in a future version. Convert inf values to NaN before operating instead.\n",
      "  with pd.option_context('mode.use_inf_as_na', True):\n",
      "/Users/giovannimaya/anaconda3/lib/python3.11/site-packages/seaborn/_oldcore.py:1119: FutureWarning: use_inf_as_na option is deprecated and will be removed in a future version. Convert inf values to NaN before operating instead.\n",
      "  with pd.option_context('mode.use_inf_as_na', True):\n"
     ]
    },
    {
     "data": {
      "image/png": "[encoded data removed]",
      "text/plain": [
       "<Figure size 1500x1000 with 4 Axes>"
      ]
     },
     "metadata": {},
     "output_type": "display_data"
    }
   ],
   "source": [
    "variables = ['Sepal.Length', 'Sepal.Width', 'Petal.Length', 'Petal.Width']\n",
    "titles = ['Sepal Length', 'Sepal Width', 'Petal Length', 'Petal Width']\n",
    "\n",
    "fig, axs = plt.subplots(2, 2, figsize=(15, 10))\n",
    "\n",
    "for ax, var, title in zip(axs.flatten(), variables, titles):\n",
    "    for species in train_data['Species'].unique():\n",
    "        subset = train_data[train_data['Species'] == species]\n",
    "        sns.kdeplot(subset[var], ax=ax, label=species, fill=True)\n",
    "    ax.set_title(f'Empirical Density of {title} by Species')\n",
    "    ax.set_xlabel(f'{title} (cm)')\n",
    "    ax.set_ylabel('Density')\n",
    "    ax.legend(title='Species')\n",
    "\n",
    "plt.tight_layout()\n",
    "plt.show()"
   ]
  },
  {
   "cell_type": "code",
   "execution_count": 128,
   "metadata": {},
   "outputs": [
    {
     "name": "stdout",
     "output_type": "stream",
     "text": [
      "Predicted species for the given iris measurements: versicolor\n",
      "Confusion Matrix for the Test Set:\n",
      "            setosa  versicolor  virginica\n",
      "setosa          15           0          0\n",
      "versicolor       0          14          1\n",
      "virginica        0           3         12\n"
     ]
    },
    {
     "name": "stderr",
     "output_type": "stream",
     "text": [
      "/Users/giovannimaya/anaconda3/lib/python3.11/site-packages/sklearn/base.py:439: UserWarning: X does not have valid feature names, but GaussianNB was fitted with feature names\n",
      "  warnings.warn(\n"
     ]
    }
   ],
   "source": [
    "from sklearn.model_selection import train_test_split\n",
    "from sklearn.naive_bayes import GaussianNB\n",
    "from sklearn.metrics import confusion_matrix\n",
    "import pandas as pd\n",
    "\n",
    "X = iris_df.drop('Species', axis=1)\n",
    "y = iris_df['Species']\n",
    "\n",
    "X_train, X_test, y_train, y_test = train_test_split(\n",
    "    X, y, test_size=0.3, random_state=42, stratify=y)\n",
    "\n",
    "gnb = GaussianNB()\n",
    "gnb.fit(X_train, y_train)\n",
    "\n",
    "iris_to_classify = [[6.56, 3.18, 4.31, 1.32]]\n",
    "predicted_species = gnb.predict(iris_to_classify)\n",
    "print(\"Predicted species for the given iris measurements:\",\n",
    "      predicted_species[0])\n",
    "\n",
    "y_pred = gnb.predict(X_test)\n",
    "\n",
    "conf_matrix = confusion_matrix(y_test, y_pred, labels=gnb.classes_)\n",
    "conf_matrix_df = pd.DataFrame(\n",
    "    conf_matrix, index=gnb.classes_, columns=gnb.classes_)\n",
    "\n",
    "print(\"Confusion Matrix for the Test Set:\")\n",
    "print(conf_matrix_df)"
   ]
  },
  {
   "cell_type": "code",
   "execution_count": 189,
   "metadata": {},
   "outputs": [
    {
     "name": "stdout",
     "output_type": "stream",
     "text": [
      "    Predicted Species\n",
      "107         virginica\n",
      "63         versicolor\n",
      "133        versicolor\n",
      "56         versicolor\n",
      "127         virginica\n"
     ]
    }
   ],
   "source": [
    "predictions_df = pd.DataFrame(\n",
    "    {'Predicted Species': y_pred}, index=X_test.index)\n",
    "print(predictions_df.head())"
   ]
  },
  {
   "cell_type": "code",
   "execution_count": 130,
   "metadata": {},
   "outputs": [
    {
     "name": "stdout",
     "output_type": "stream",
     "text": [
      "Accuracy of the Gaussian Naive Bayes classifier: 0.9111111111111111\n"
     ]
    }
   ],
   "source": [
    "from sklearn.metrics import accuracy_score\n",
    "\n",
    "# Assuming y_test contains the true species labels and y_pred contains the predicted species labels from the test set\n",
    "accuracy = accuracy_score(y_test, y_pred)\n",
    "\n",
    "print(\"Accuracy of the Gaussian Naive Bayes classifier:\", accuracy)"
   ]
  },
  {
   "cell_type": "code",
   "execution_count": 76,
   "metadata": {},
   "outputs": [
    {
     "data": {
      "text/html": [
       "<div>\n",
       "<style scoped>\n",
       "    .dataframe tbody tr th:only-of-type {\n",
       "        vertical-align: middle;\n",
       "    }\n",
       "\n",
       "    .dataframe tbody tr th {\n",
       "        vertical-align: top;\n",
       "    }\n",
       "\n",
       "    .dataframe thead th {\n",
       "        text-align: right;\n",
       "    }\n",
       "</style>\n",
       "<table border=\"1\" class=\"dataframe\">\n",
       "  <thead>\n",
       "    <tr style=\"text-align: right;\">\n",
       "      <th></th>\n",
       "      <th>Class</th>\n",
       "      <th>Text</th>\n",
       "    </tr>\n",
       "  </thead>\n",
       "  <tbody>\n",
       "    <tr>\n",
       "      <th>0</th>\n",
       "      <td>ham</td>\n",
       "      <td>Go until jurong point, crazy.. Available only ...</td>\n",
       "    </tr>\n",
       "    <tr>\n",
       "      <th>1</th>\n",
       "      <td>ham</td>\n",
       "      <td>Ok lar... Joking wif u oni...</td>\n",
       "    </tr>\n",
       "    <tr>\n",
       "      <th>2</th>\n",
       "      <td>spam</td>\n",
       "      <td>Free entry in 2 a wkly comp to win FA Cup fina...</td>\n",
       "    </tr>\n",
       "    <tr>\n",
       "      <th>3</th>\n",
       "      <td>ham</td>\n",
       "      <td>U dun say so early hor... U c already then say...</td>\n",
       "    </tr>\n",
       "    <tr>\n",
       "      <th>4</th>\n",
       "      <td>ham</td>\n",
       "      <td>Nah I don't think he goes to usf, he lives aro...</td>\n",
       "    </tr>\n",
       "    <tr>\n",
       "      <th>...</th>\n",
       "      <td>...</td>\n",
       "      <td>...</td>\n",
       "    </tr>\n",
       "    <tr>\n",
       "      <th>5567</th>\n",
       "      <td>spam</td>\n",
       "      <td>This is the 2nd time we have tried 2 contact u...</td>\n",
       "    </tr>\n",
       "    <tr>\n",
       "      <th>5568</th>\n",
       "      <td>ham</td>\n",
       "      <td>Will Ì_ b going to esplanade fr home?</td>\n",
       "    </tr>\n",
       "    <tr>\n",
       "      <th>5569</th>\n",
       "      <td>ham</td>\n",
       "      <td>Pity, * was in mood for that. So...any other s...</td>\n",
       "    </tr>\n",
       "    <tr>\n",
       "      <th>5570</th>\n",
       "      <td>ham</td>\n",
       "      <td>The guy did some bitching but I acted like i'd...</td>\n",
       "    </tr>\n",
       "    <tr>\n",
       "      <th>5571</th>\n",
       "      <td>ham</td>\n",
       "      <td>Rofl. Its true to its name</td>\n",
       "    </tr>\n",
       "  </tbody>\n",
       "</table>\n",
       "<p>5572 rows × 2 columns</p>\n",
       "</div>"
      ],
      "text/plain": [
       "     Class                                               Text\n",
       "0      ham  Go until jurong point, crazy.. Available only ...\n",
       "1      ham                      Ok lar... Joking wif u oni...\n",
       "2     spam  Free entry in 2 a wkly comp to win FA Cup fina...\n",
       "3      ham  U dun say so early hor... U c already then say...\n",
       "4      ham  Nah I don't think he goes to usf, he lives aro...\n",
       "...    ...                                                ...\n",
       "5567  spam  This is the 2nd time we have tried 2 contact u...\n",
       "5568   ham              Will Ì_ b going to esplanade fr home?\n",
       "5569   ham  Pity, * was in mood for that. So...any other s...\n",
       "5570   ham  The guy did some bitching but I acted like i'd...\n",
       "5571   ham                         Rofl. Its true to its name\n",
       "\n",
       "[5572 rows x 2 columns]"
      ]
     },
     "execution_count": 76,
     "metadata": {},
     "output_type": "execute_result"
    }
   ],
   "source": [
    "## end of q2 and q3\n",
    "ham_spam_df = pd.read_csv(\n",
    "    '/Users/giovannimaya/Downloads/spam.csv', encoding=\"latin-1\")\n",
    "ham_spam_df = ham_spam_df[['v1', 'v2']].rename(\n",
    "    columns={'v1': 'Class', 'v2': 'Text'})\n",
    "ham_spam_df"
   ]
  },
  {
   "cell_type": "code",
   "execution_count": 148,
   "metadata": {},
   "outputs": [
    {
     "name": "stdout",
     "output_type": "stream",
     "text": [
      "[('go', 246), ('until', 21), ('jurong', 1), ('point', 11), ('crazy', 9), ('available', 15), ('only', 130), ('in', 808), ('bugis', 7), ('n', 139)]\n",
      "8461\n",
      "The total number of words in ham is 70635.\n",
      "The total number of words in spam is 18678.\n",
      "'Sorry' apppears a fraction 1.64e-03 of all words.\n",
      "'Sorry' appears 116 times.\n",
      "'Sorry' apppears a fraction 5.35e-05 of all words.\n",
      "'Sorry' appears 30 times.\n"
     ]
    }
   ],
   "source": [
    "import nltk\n",
    "from itertools import islice\n",
    "ham_spam_df = pd.read_csv(\n",
    "    '/Users/giovannimaya/Downloads/spam.csv', encoding=\"latin-1\")\n",
    "ham_spam_df = ham_spam_df[['v1', 'v2']].rename(\n",
    "    columns={'v1': 'Class', 'v2': 'Text'})\n",
    "\n",
    "ham_spam_df['Text'] = ham_spam_df['Text'].apply(\n",
    "    lambda x: x.replace('.', ' ').replace(',', ' '))\n",
    "ham_spam_df['Text'] = ham_spam_df['Text'].apply(\n",
    "    lambda x: x.replace(':', ' ').replace(';', ' '))\n",
    "ham_spam_df['Text'] = ham_spam_df['Text'].apply(\n",
    "    lambda x: x.replace('?', ' ').replace('!', ' '))  # are these pertinent?\n",
    "ham_spam_df['Text'] = ham_spam_df['Text'].apply(\n",
    "    lambda x: x.replace('(', ' ').replace(')', ' '))\n",
    "ham_spam_df['Text'] = ham_spam_df['Text'].apply(\n",
    "    lambda x: x.replace('\"', ' ').replace('/', ' '))\n",
    "ham_spam_df['Text'] = ham_spam_df['Text'].apply(lambda x: x.lower())\n",
    "\n",
    "\n",
    "def tokenize_ham_spam(df, clss):\n",
    "    '''\n",
    "    Input: a dataframe with the spam.csv data (cleaned up) and \n",
    "           the required class ('ham' or 'spam'). \n",
    "    Output: a ham or spam dataframes, a ham or spam token list, and \n",
    "            a ham or spam frequency distribution object\n",
    "    '''\n",
    "    clss_df = df[df.Class == clss]\n",
    "    # token object, behaves like a dictionary\n",
    "    clss_tok = nltk.word_tokenize(clss_df.Text.sum())\n",
    "    clss_freq_dist_obj = nltk.probability.FreqDist(\n",
    "        clss_tok)  # frequency distribution object\n",
    "    return (clss_df, clss_tok, clss_freq_dist_obj)\n",
    "\n",
    "\n",
    "ham_df,  ham_tok,  ham_freqs = tokenize_ham_spam(ham_spam_df, 'ham')\n",
    "spam_df, spam_tok, spam_freqs = tokenize_ham_spam(ham_spam_df, 'spam')\n",
    "\n",
    "# See https://www.nltk.org/api/nltk.probability.FreqDist.html for more functions\n",
    "print(list(islice(ham_freqs.items(), 10)))\n",
    "print(len(ham_freqs.keys()))\n",
    "print(\"The total number of words in ham is %d.\" % ham_freqs.N())\n",
    "print(\"The total number of words in spam is %d.\" % spam_freqs.N())\n",
    "print(\"'Sorry' apppears a fraction %.2e of all words.\" %\n",
    "      (ham_freqs.freq('sorry')))\n",
    "print(\"'Sorry' appears %d times.\" %\n",
    "      (ham_freqs.N() * ham_freqs.freq('sorry')))\n",
    "print(\"'Sorry' apppears a fraction %.2e of all words.\" %\n",
    "      (spam_freqs.freq('sorry')))\n",
    "print(\"'Sorry' appears %d times.\" %\n",
    "      (spam_freqs.N() * ham_freqs.freq('sorry')))"
   ]
  },
  {
   "cell_type": "code",
   "execution_count": 190,
   "metadata": {},
   "outputs": [
    {
     "name": "stdout",
     "output_type": "stream",
     "text": [
      "747 4825\n"
     ]
    },
    {
     "data": {
      "text/plain": [
       "(2.2066341522197914e-33, 0.0)"
      ]
     },
     "execution_count": 190,
     "metadata": {},
     "output_type": "execute_result"
    }
   ],
   "source": [
    "import string\n",
    "spam_only = ham_spam_df[ham_spam_df['Class'] == 'spam']\n",
    "ham_only = ham_spam_df[ham_spam_df['Class'] == 'ham']\n",
    "print(len(spam_only), len(ham_only))\n",
    "spam_messages = spam_only['Class'].str.cat(sep=' ')\n",
    "ham_messages = ham_only['Class'].str.cat(sep=' ')\n",
    "\n",
    "def simple_tokenize(text):\n",
    "    return text.replace(',', '').replace('?', '').lower().split()\n",
    "\n",
    "def calculate_message_probability(message, freq_dist):\n",
    "    message_tokens = simple_tokenize(message)\n",
    "    probability = 1\n",
    "    for token in message_tokens:\n",
    "        word_probability = freq_dist.freq(token)\n",
    "        probability *= word_probability\n",
    "    return probability\n",
    "\n",
    "\n",
    "example_message = \"Sorry my roommates took forever, it ok if I come by now?\"\n",
    "ham_probability = calculate_message_probability(\n",
    "    example_message, ham_freqs)\n",
    "spam_probability = calculate_message_probability(\n",
    "    example_message, spam_freqs)\n",
    "\n",
    "ham_probability, spam_probability"
   ]
  },
  {
   "cell_type": "code",
   "execution_count": 191,
   "metadata": {},
   "outputs": [
    {
     "ename": "ValueError",
     "evalue": "math domain error",
     "output_type": "error",
     "traceback": [
      "\u001b[0;31m---------------------------------------------------------------------------\u001b[0m",
      "\u001b[0;31mValueError\u001b[0m                                Traceback (most recent call last)",
      "Cell \u001b[0;32mIn[191], line 14\u001b[0m\n\u001b[1;32m      9\u001b[0m     \u001b[38;5;28;01mreturn\u001b[39;00m log_probability\n\u001b[1;32m     12\u001b[0m ham_log_probability \u001b[38;5;241m=\u001b[39m log_odds(\n\u001b[1;32m     13\u001b[0m     example_message, ham_freqs)\n\u001b[0;32m---> 14\u001b[0m spam_log_probability \u001b[38;5;241m=\u001b[39m log_odds(\n\u001b[1;32m     15\u001b[0m     example_message, spam_freqs)\n\u001b[1;32m     17\u001b[0m ham_log_probability, spam_log_probability\n",
      "Cell \u001b[0;32mIn[191], line 8\u001b[0m, in \u001b[0;36mlog_odds\u001b[0;34m(message, freq_dist)\u001b[0m\n\u001b[1;32m      6\u001b[0m \u001b[38;5;28;01mfor\u001b[39;00m token \u001b[38;5;129;01min\u001b[39;00m message_tokens:\n\u001b[1;32m      7\u001b[0m     word_probability \u001b[38;5;241m=\u001b[39m (freq_dist\u001b[38;5;241m.\u001b[39mfreq(token))\n\u001b[0;32m----> 8\u001b[0m     log_probability \u001b[38;5;241m+\u001b[39m\u001b[38;5;241m=\u001b[39m math\u001b[38;5;241m.\u001b[39mlog(word_probability)\n\u001b[1;32m      9\u001b[0m \u001b[38;5;28;01mreturn\u001b[39;00m log_probability\n",
      "\u001b[0;31mValueError\u001b[0m: math domain error"
     ]
    }
   ],
   "source": [
    "import math\n",
    "\n",
    "def log_odds(message, freq_dist):\n",
    "    message_tokens = simple_tokenize(message)\n",
    "    log_probability = 0\n",
    "    for token in message_tokens:\n",
    "        word_probability = (freq_dist.freq(token))\n",
    "        log_probability += math.log(word_probability)\n",
    "    return log_probability\n",
    "\n",
    "\n",
    "ham_log_probability = log_odds(\n",
    "    example_message, ham_freqs)\n",
    "spam_log_probability = log_odds(\n",
    "    example_message, spam_freqs)\n",
    "\n",
    "ham_log_probability, spam_log_probability"
   ]
  },
  {
   "cell_type": "code",
   "execution_count": 71,
   "metadata": {},
   "outputs": [
    {
     "data": {
      "text/plain": [
       "0.5108535299381884"
      ]
     },
     "execution_count": 71,
     "metadata": {},
     "output_type": "execute_result"
    }
   ],
   "source": [
    "def score_message(message, ham_freq_dist, spam_freq_dist):\n",
    "    log_odds_ham = log_odds(\n",
    "        message, ham_freq_dist)\n",
    "    log_odds_spam = log_odds(\n",
    "        message, spam_freq_dist)\n",
    "\n",
    "    return log_odds_ham - log_odds_spam\n",
    "\n",
    "\n",
    "message_score = score_message(example_message, ham_freqs,\n",
    "                              spam_freqs)\n",
    "\n",
    "message_score"
   ]
  },
  {
   "cell_type": "code",
   "execution_count": 131,
   "metadata": {},
   "outputs": [],
   "source": [
    "# redo of question 4 & 5"
   ]
  },
  {
   "cell_type": "code",
   "execution_count": 152,
   "metadata": {},
   "outputs": [
    {
     "data": {
      "text/html": [
       "<div>\n",
       "<style scoped>\n",
       "    .dataframe tbody tr th:only-of-type {\n",
       "        vertical-align: middle;\n",
       "    }\n",
       "\n",
       "    .dataframe tbody tr th {\n",
       "        vertical-align: top;\n",
       "    }\n",
       "\n",
       "    .dataframe thead th {\n",
       "        text-align: right;\n",
       "    }\n",
       "</style>\n",
       "<table border=\"1\" class=\"dataframe\">\n",
       "  <thead>\n",
       "    <tr style=\"text-align: right;\">\n",
       "      <th></th>\n",
       "      <th>Class</th>\n",
       "      <th>Message</th>\n",
       "    </tr>\n",
       "  </thead>\n",
       "  <tbody>\n",
       "    <tr>\n",
       "      <th>0</th>\n",
       "      <td>ham</td>\n",
       "      <td>Go until jurong point, crazy.. Available only ...</td>\n",
       "    </tr>\n",
       "    <tr>\n",
       "      <th>1</th>\n",
       "      <td>ham</td>\n",
       "      <td>Ok lar... Joking wif u oni...</td>\n",
       "    </tr>\n",
       "    <tr>\n",
       "      <th>2</th>\n",
       "      <td>spam</td>\n",
       "      <td>Free entry in 2 a wkly comp to win FA Cup fina...</td>\n",
       "    </tr>\n",
       "    <tr>\n",
       "      <th>3</th>\n",
       "      <td>ham</td>\n",
       "      <td>U dun say so early hor... U c already then say...</td>\n",
       "    </tr>\n",
       "    <tr>\n",
       "      <th>4</th>\n",
       "      <td>ham</td>\n",
       "      <td>Nah I don't think he goes to usf, he lives aro...</td>\n",
       "    </tr>\n",
       "    <tr>\n",
       "      <th>...</th>\n",
       "      <td>...</td>\n",
       "      <td>...</td>\n",
       "    </tr>\n",
       "    <tr>\n",
       "      <th>5567</th>\n",
       "      <td>spam</td>\n",
       "      <td>This is the 2nd time we have tried 2 contact u...</td>\n",
       "    </tr>\n",
       "    <tr>\n",
       "      <th>5568</th>\n",
       "      <td>ham</td>\n",
       "      <td>Will Ì_ b going to esplanade fr home?</td>\n",
       "    </tr>\n",
       "    <tr>\n",
       "      <th>5569</th>\n",
       "      <td>ham</td>\n",
       "      <td>Pity, * was in mood for that. So...any other s...</td>\n",
       "    </tr>\n",
       "    <tr>\n",
       "      <th>5570</th>\n",
       "      <td>ham</td>\n",
       "      <td>The guy did some bitching but I acted like i'd...</td>\n",
       "    </tr>\n",
       "    <tr>\n",
       "      <th>5571</th>\n",
       "      <td>ham</td>\n",
       "      <td>Rofl. Its true to its name</td>\n",
       "    </tr>\n",
       "  </tbody>\n",
       "</table>\n",
       "<p>5572 rows × 2 columns</p>\n",
       "</div>"
      ],
      "text/plain": [
       "     Class                                            Message\n",
       "0      ham  Go until jurong point, crazy.. Available only ...\n",
       "1      ham                      Ok lar... Joking wif u oni...\n",
       "2     spam  Free entry in 2 a wkly comp to win FA Cup fina...\n",
       "3      ham  U dun say so early hor... U c already then say...\n",
       "4      ham  Nah I don't think he goes to usf, he lives aro...\n",
       "...    ...                                                ...\n",
       "5567  spam  This is the 2nd time we have tried 2 contact u...\n",
       "5568   ham              Will Ì_ b going to esplanade fr home?\n",
       "5569   ham  Pity, * was in mood for that. So...any other s...\n",
       "5570   ham  The guy did some bitching but I acted like i'd...\n",
       "5571   ham                         Rofl. Its true to its name\n",
       "\n",
       "[5572 rows x 2 columns]"
      ]
     },
     "execution_count": 152,
     "metadata": {},
     "output_type": "execute_result"
    }
   ],
   "source": [
    "from itertools import islice\n",
    "import nltk\n",
    "import pandas as pd\n",
    "\n",
    "file_path = '/Users/giovannimaya/Downloads/data/spam.csv'\n",
    "spam_ham_data = pd.read_csv(file_path, encoding=\"latin-1\")\n",
    "# nltk.download(\"punkt\") # had to download this resource\n",
    "# first time around\n",
    "\n",
    "###########################\n",
    "#   Rudimentary Clean up  #\n",
    "# (much more can be done) #\n",
    "###########################\n",
    "ham_spam_df = pd.read_csv('data/spam.csv', encoding='ISO-8859-1')\n",
    "ham_spam_df = ham_spam_df[['v1', 'v2']].rename(\n",
    "    columns={'v1': 'Class', 'v2': 'Text'})\n",
    "\n",
    "ham_spam_df['Text'] = ham_spam_df['Text'].apply(\n",
    "    lambda x: x.replace('.', ' ').replace(',', ' '))\n",
    "ham_spam_df['Text'] = ham_spam_df['Text'].apply(\n",
    "    lambda x: x.replace(':', ' ').replace(';', ' '))\n",
    "ham_spam_df['Text'] = ham_spam_df['Text'].apply(\n",
    "    lambda x: x.replace('?', ' ').replace('!', ' '))  # are these pertinent?\n",
    "ham_spam_df['Text'] = ham_spam_df['Text'].apply(\n",
    "    lambda x: x.replace('(', ' ').replace(')', ' '))\n",
    "ham_spam_df['Text'] = ham_spam_df['Text'].apply(\n",
    "    lambda x: x.replace('\"', ' ').replace('/', ' '))\n",
    "ham_spam_df['Text'] = ham_spam_df['Text'].apply(lambda x: x.lower())\n",
    "\n",
    "\n",
    "def tokenize_ham_spam(df, clss):\n",
    "    '''\n",
    "    Input: a dataframe with the spam.csv data (cleaned up) and \n",
    "           the required class ('ham' or 'spam'). \n",
    "    Output: a ham or spam dataframes, a ham or spam token list, and \n",
    "            a ham or spam frequency distribution object\n",
    "    '''\n",
    "    clss_df = df[df.Class == clss]\n",
    "    # token object, behaves like a dictionary\n",
    "    clss_tok = nltk.word_tokenize(clss_df.Text.sum())\n",
    "    clss_freq_dist_obj = nltk.probability.FreqDist(\n",
    "        clss_tok)  # frequency distribution object\n",
    "    return (clss_df, clss_tok, clss_freq_dist_obj)\n",
    "\n",
    "\n",
    "ham_df,  ham_tok,  ham_freqs = tokenize_ham_spam(ham_spam_df, 'ham')\n",
    "spam_df, spam_tok, spam_freqs = tokenize_ham_spam(ham_spam_df, 'spam')"
   ]
  },
  {
   "cell_type": "code",
   "execution_count": 153,
   "metadata": {},
   "outputs": [
    {
     "data": {
      "text/plain": [
       "(747, 4825)"
      ]
     },
     "execution_count": 153,
     "metadata": {},
     "output_type": "execute_result"
    }
   ],
   "source": [
    "labels_column = spam_ham_data.columns[0]\n",
    "text_column = spam_ham_data.columns[1]\n",
    "\n",
    "# Splitting the spam_ham_dataset\n",
    "spam_df = spam_ham_data[spam_ham_data[labels_column] == \"spam\"]\n",
    "ham_df = spam_ham_data[spam_ham_data[labels_column] == \"ham\"]\n",
    "\n",
    "# Number of messages in each spam_ham_data frame\n",
    "num_spam = spam_df.shape[0]\n",
    "num_ham = ham_df.shape[0]\n",
    "\n",
    "num_spam, num_ham"
   ]
  },
  {
   "cell_type": "code",
   "execution_count": 169,
   "metadata": {},
   "outputs": [
    {
     "data": {
      "text/plain": [
       "(['Free', 'entry', 'in', '2', 'a', 'wkly', 'comp', 'to', 'win', 'FA'],\n",
       " ['Go',\n",
       "  'until',\n",
       "  'jurong',\n",
       "  'point',\n",
       "  'crazy',\n",
       "  'Available',\n",
       "  'only',\n",
       "  'in',\n",
       "  'bugis',\n",
       "  'n'])"
      ]
     },
     "execution_count": 169,
     "metadata": {},
     "output_type": "execute_result"
    }
   ],
   "source": [
    "import string\n",
    "long_string_spam = spam_df[text_column].str.cat(sep=' ')\n",
    "long_string_ham = ham_df[text_column].str.cat(sep=' ')\n",
    "\n",
    "tokens_spam = long_string_spam.split()\n",
    "tokens_ham = long_string_ham.split()\n",
    "\n",
    "def remove_punctuation(tokens):\n",
    "    table = str.maketrans('', '', string.punctuation)\n",
    "    return [word.translate(table) for word in tokens]\n",
    "\n",
    "tokens_spam = remove_punctuation(tokens_spam)\n",
    "tokens_ham = remove_punctuation(tokens_ham)\n",
    "\n",
    "tokens_spam[:10], tokens_ham[:10]\n"
   ]
  },
  {
   "cell_type": "code",
   "execution_count": 175,
   "metadata": {},
   "outputs": [
    {
     "data": {
      "text/plain": [
       "(9129, 3641, 0.0015908228494702123, 0.00016837851490149856)"
      ]
     },
     "execution_count": 175,
     "metadata": {},
     "output_type": "execute_result"
    }
   ],
   "source": [
    "from nltk import FreqDist\n",
    "\n",
    "# Counting the frequency of each word in both spam and ham tokens\n",
    "freq_dist_spam = FreqDist(tokens_ham)\n",
    "freq_dist_ham = FreqDist(tokens_spam)\n",
    "\n",
    "# Number of unique tokens in each dictionary\n",
    "num_tokens_spam = len(freq_dist_spam)\n",
    "num_tokens_ham = len(freq_dist_ham)\n",
    "\n",
    "# Calculating the probability of the word \"Sorry\" occurring in each dictionary\n",
    "prob_sorry_spam = freq_dist_spam['Sorry'] / sum(freq_dist_spam.values())\n",
    "prob_sorry_ham = freq_dist_ham['Sorry'] / sum(freq_dist_ham.values())\n",
    "\n",
    "num_tokens_spam, num_tokens_ham, prob_sorry_spam, prob_sorry_ham"
   ]
  },
  {
   "cell_type": "code",
   "execution_count": 192,
   "metadata": {},
   "outputs": [
    {
     "data": {
      "text/html": [
       "<div>\n",
       "<style scoped>\n",
       "    .dataframe tbody tr th:only-of-type {\n",
       "        vertical-align: middle;\n",
       "    }\n",
       "\n",
       "    .dataframe tbody tr th {\n",
       "        vertical-align: top;\n",
       "    }\n",
       "\n",
       "    .dataframe thead th {\n",
       "        text-align: right;\n",
       "    }\n",
       "</style>\n",
       "<table border=\"1\" class=\"dataframe\">\n",
       "  <thead>\n",
       "    <tr style=\"text-align: right;\">\n",
       "      <th></th>\n",
       "      <th>Category</th>\n",
       "      <th>Message</th>\n",
       "    </tr>\n",
       "  </thead>\n",
       "  <tbody>\n",
       "    <tr>\n",
       "      <th>0</th>\n",
       "      <td>ham</td>\n",
       "      <td>Go until jurong point, crazy.. Available only ...</td>\n",
       "    </tr>\n",
       "    <tr>\n",
       "      <th>1</th>\n",
       "      <td>ham</td>\n",
       "      <td>Ok lar... Joking wif u oni...</td>\n",
       "    </tr>\n",
       "    <tr>\n",
       "      <th>2</th>\n",
       "      <td>spam</td>\n",
       "      <td>Free entry in 2 a wkly comp to win FA Cup fina...</td>\n",
       "    </tr>\n",
       "    <tr>\n",
       "      <th>3</th>\n",
       "      <td>ham</td>\n",
       "      <td>U dun say so early hor... U c already then say...</td>\n",
       "    </tr>\n",
       "    <tr>\n",
       "      <th>4</th>\n",
       "      <td>ham</td>\n",
       "      <td>Nah I don't think he goes to usf, he lives aro...</td>\n",
       "    </tr>\n",
       "    <tr>\n",
       "      <th>...</th>\n",
       "      <td>...</td>\n",
       "      <td>...</td>\n",
       "    </tr>\n",
       "    <tr>\n",
       "      <th>5567</th>\n",
       "      <td>spam</td>\n",
       "      <td>This is the 2nd time we have tried 2 contact u...</td>\n",
       "    </tr>\n",
       "    <tr>\n",
       "      <th>5568</th>\n",
       "      <td>ham</td>\n",
       "      <td>Will Ì_ b going to esplanade fr home?</td>\n",
       "    </tr>\n",
       "    <tr>\n",
       "      <th>5569</th>\n",
       "      <td>ham</td>\n",
       "      <td>Pity, * was in mood for that. So...any other s...</td>\n",
       "    </tr>\n",
       "    <tr>\n",
       "      <th>5570</th>\n",
       "      <td>ham</td>\n",
       "      <td>The guy did some bitching but I acted like i'd...</td>\n",
       "    </tr>\n",
       "    <tr>\n",
       "      <th>5571</th>\n",
       "      <td>ham</td>\n",
       "      <td>Rofl. Its true to its name</td>\n",
       "    </tr>\n",
       "  </tbody>\n",
       "</table>\n",
       "<p>5572 rows × 2 columns</p>\n",
       "</div>"
      ],
      "text/plain": [
       "     Category                                            Message\n",
       "0         ham  Go until jurong point, crazy.. Available only ...\n",
       "1         ham                      Ok lar... Joking wif u oni...\n",
       "2        spam  Free entry in 2 a wkly comp to win FA Cup fina...\n",
       "3         ham  U dun say so early hor... U c already then say...\n",
       "4         ham  Nah I don't think he goes to usf, he lives aro...\n",
       "...       ...                                                ...\n",
       "5567     spam  This is the 2nd time we have tried 2 contact u...\n",
       "5568      ham              Will Ì_ b going to esplanade fr home?\n",
       "5569      ham  Pity, * was in mood for that. So...any other s...\n",
       "5570      ham  The guy did some bitching but I acted like i'd...\n",
       "5571      ham                         Rofl. Its true to its name\n",
       "\n",
       "[5572 rows x 2 columns]"
      ]
     },
     "execution_count": 192,
     "metadata": {},
     "output_type": "execute_result"
    }
   ],
   "source": [
    "# --- START OF Q4 ----\n",
    "\n",
    "# q1\n",
    "spam_data = pd.read_csv(\n",
    "    '/Users/giovannimaya/Downloads/spam.csv', encoding=\"latin-1\")\n",
    "spam_data = spam_data.rename(columns={'v1': 'Category', 'v2': 'Message'})\n",
    "spam_data = spam_data.drop(columns=['Unnamed: 2', 'Unnamed: 3', 'Unnamed: 4'])\n",
    "spam_data"
   ]
  },
  {
   "cell_type": "code",
   "execution_count": 193,
   "metadata": {},
   "outputs": [
    {
     "data": {
      "text/html": [
       "<div>\n",
       "<style scoped>\n",
       "    .dataframe tbody tr th:only-of-type {\n",
       "        vertical-align: middle;\n",
       "    }\n",
       "\n",
       "    .dataframe tbody tr th {\n",
       "        vertical-align: top;\n",
       "    }\n",
       "\n",
       "    .dataframe thead th {\n",
       "        text-align: right;\n",
       "    }\n",
       "</style>\n",
       "<table border=\"1\" class=\"dataframe\">\n",
       "  <thead>\n",
       "    <tr style=\"text-align: right;\">\n",
       "      <th></th>\n",
       "      <th>Category</th>\n",
       "      <th>Message</th>\n",
       "    </tr>\n",
       "  </thead>\n",
       "  <tbody>\n",
       "    <tr>\n",
       "      <th>0</th>\n",
       "      <td>ham</td>\n",
       "      <td>Go until jurong point, crazy.. Available only ...</td>\n",
       "    </tr>\n",
       "    <tr>\n",
       "      <th>1</th>\n",
       "      <td>ham</td>\n",
       "      <td>Ok lar... Joking wif u oni...</td>\n",
       "    </tr>\n",
       "    <tr>\n",
       "      <th>3</th>\n",
       "      <td>ham</td>\n",
       "      <td>U dun say so early hor... U c already then say...</td>\n",
       "    </tr>\n",
       "    <tr>\n",
       "      <th>4</th>\n",
       "      <td>ham</td>\n",
       "      <td>Nah I don't think he goes to usf, he lives aro...</td>\n",
       "    </tr>\n",
       "    <tr>\n",
       "      <th>6</th>\n",
       "      <td>ham</td>\n",
       "      <td>Even my brother is not like to speak with me. ...</td>\n",
       "    </tr>\n",
       "    <tr>\n",
       "      <th>...</th>\n",
       "      <td>...</td>\n",
       "      <td>...</td>\n",
       "    </tr>\n",
       "    <tr>\n",
       "      <th>5565</th>\n",
       "      <td>ham</td>\n",
       "      <td>Huh y lei...</td>\n",
       "    </tr>\n",
       "    <tr>\n",
       "      <th>5568</th>\n",
       "      <td>ham</td>\n",
       "      <td>Will Ì_ b going to esplanade fr home?</td>\n",
       "    </tr>\n",
       "    <tr>\n",
       "      <th>5569</th>\n",
       "      <td>ham</td>\n",
       "      <td>Pity, * was in mood for that. So...any other s...</td>\n",
       "    </tr>\n",
       "    <tr>\n",
       "      <th>5570</th>\n",
       "      <td>ham</td>\n",
       "      <td>The guy did some bitching but I acted like i'd...</td>\n",
       "    </tr>\n",
       "    <tr>\n",
       "      <th>5571</th>\n",
       "      <td>ham</td>\n",
       "      <td>Rofl. Its true to its name</td>\n",
       "    </tr>\n",
       "  </tbody>\n",
       "</table>\n",
       "<p>4825 rows × 2 columns</p>\n",
       "</div>"
      ],
      "text/plain": [
       "     Category                                            Message\n",
       "0         ham  Go until jurong point, crazy.. Available only ...\n",
       "1         ham                      Ok lar... Joking wif u oni...\n",
       "3         ham  U dun say so early hor... U c already then say...\n",
       "4         ham  Nah I don't think he goes to usf, he lives aro...\n",
       "6         ham  Even my brother is not like to speak with me. ...\n",
       "...       ...                                                ...\n",
       "5565      ham                                       Huh y lei...\n",
       "5568      ham              Will Ì_ b going to esplanade fr home?\n",
       "5569      ham  Pity, * was in mood for that. So...any other s...\n",
       "5570      ham  The guy did some bitching but I acted like i'd...\n",
       "5571      ham                         Rofl. Its true to its name\n",
       "\n",
       "[4825 rows x 2 columns]"
      ]
     },
     "execution_count": 193,
     "metadata": {},
     "output_type": "execute_result"
    }
   ],
   "source": [
    "# q2\n",
    "\n",
    "ham = spam_data[spam_data['Category'] == 'ham']\n",
    "spam = spam_data[spam_data['Category'] == 'spam']\n",
    "ham"
   ]
  },
  {
   "cell_type": "code",
   "execution_count": 195,
   "metadata": {},
   "outputs": [],
   "source": [
    "ham_text = ham['Message'].str.cat(sep=' ').split()\n",
    "spam_text = spam['Message'].str.cat(sep=' ').split()"
   ]
  },
  {
   "cell_type": "code",
   "execution_count": 197,
   "metadata": {},
   "outputs": [
    {
     "data": {
      "text/plain": [
       "(4312, 12479, 5.6126171633832856e-05, 0.0007443299570915672)"
      ]
     },
     "execution_count": 197,
     "metadata": {},
     "output_type": "execute_result"
    }
   ],
   "source": [
    "from nltk.probability import FreqDist\n",
    "\n",
    "freq_ham = FreqDist(ham_text)\n",
    "freq_spam = FreqDist(spam_text)\n",
    "spam_token_count = len(freq_spam)\n",
    "ham_token_count = len(freq_ham)\n",
    "sorry_spam_prob = freq_spam['Sorry'] / \\\n",
    "    sum(freq_spam.values()) \n",
    "sorry_ham_prob = freq_ham['Sorry'] / \\\n",
    "    sum(freq_ham.values()) \n",
    "spam_token_count, ham_token_count, sorry_spam_prob, sorry_ham_prob"
   ]
  },
  {
   "cell_type": "code",
   "execution_count": 216,
   "metadata": {},
   "outputs": [
    {
     "data": {
      "text/plain": [
       "(6.101500750438656e-37, 0.0)"
      ]
     },
     "execution_count": 216,
     "metadata": {},
     "output_type": "execute_result"
    }
   ],
   "source": [
    "def calculate_message_probability(message, freq_dist):\n",
    "    message_tokens = message.split()\n",
    "    message_probability = 1\n",
    "    total_token_count = sum(freq_dist.values())\n",
    "\n",
    "    for token in message_tokens:\n",
    "        token_probability = (\n",
    "            freq_dist[token]) / (total_token_count)\n",
    "        message_probability *= token_probability\n",
    "\n",
    "    return message_probability\n",
    "\n",
    "\n",
    "example_message = \"Sorry my roommates took forever, it ok if I come by now?\"\n",
    "\n",
    "\n",
    "def calculate_log_odds(message, freq_dist, total_token_count, vocab_size, alpha=1):\n",
    "    message_tokens = message.split()\n",
    "    log_odds = 0\n",
    "\n",
    "    for token in message_tokens:\n",
    "        token_probability = (\n",
    "            freq_dist[token] + alpha) / (total_token_count + alpha * vocab_size)\n",
    "        log_odds += log(token_probability)\n",
    "\n",
    "    return log_odds\n",
    "prob_message_ham = calculate_message_probability(\n",
    "    example_message, freq_ham)\n",
    "prob_message_spam = calculate_message_probability(\n",
    "    example_message, freq_spam)\n",
    "\n",
    "prob_message_ham, prob_message_spam"
   ]
  },
  {
   "cell_type": "code",
   "execution_count": 217,
   "metadata": {},
   "outputs": [],
   "source": [
    "from math import log\n",
    "\n",
    "\n",
    "def calculate_log_odds(message, freq_dist):\n",
    "    message_tokens = message.split()\n",
    "    log_odds = 0\n",
    "    alpha = min(freq_dist.values()) / 10\n",
    "\n",
    "    for token in message_tokens:\n",
    "        token_probability = (\n",
    "            freq_dist[token] + alpha) / (sum(freq_dist.values()) + alpha)\n",
    "        log_odds += log(token_probability)\n",
    "\n",
    "    return log_odds"
   ]
  },
  {
   "cell_type": "code",
   "execution_count": 218,
   "metadata": {},
   "outputs": [
    {
     "data": {
      "text/plain": [
       "(-83.24320252246679, -110.702301585505)"
      ]
     },
     "execution_count": 218,
     "metadata": {},
     "output_type": "execute_result"
    }
   ],
   "source": [
    "example_message = \"Sorry my roommates took forever, it ok if I come by now?\"\n",
    "log_odds_ham = calculate_log_odds(\n",
    "    example_message, freq_ham)\n",
    "log_odds_spam = calculate_log_odds(\n",
    "    example_message, freq_spam)\n",
    "\n",
    "log_odds_ham, log_odds_spam"
   ]
  },
  {
   "cell_type": "code",
   "execution_count": 219,
   "metadata": {},
   "outputs": [
    {
     "data": {
      "text/plain": [
       "27.45909906303821"
      ]
     },
     "execution_count": 219,
     "metadata": {},
     "output_type": "execute_result"
    }
   ],
   "source": [
    "def score_message(message, ham_freq_dist, spam_freq_dist):\n",
    "    log_odds_ham = calculate_log_odds(message, ham_freq_dist)\n",
    "    log_odds_spam = calculate_log_odds(message, spam_freq_dist)\n",
    "\n",
    "    return log_odds_ham - log_odds_spam\n",
    "\n",
    "message_score = score_message(example_message, freq_ham,\n",
    "                              freq_spam)\n",
    "\n",
    "message_score"
   ]
  },
  {
   "cell_type": "code",
   "execution_count": 220,
   "metadata": {},
   "outputs": [
    {
     "name": "stderr",
     "output_type": "stream",
     "text": [
      "/var/folders/c1/5zzf4b396wdgc4t2xxg1dqw00000gn/T/ipykernel_4553/3037325275.py:4: SettingWithCopyWarning: \n",
      "A value is trying to be set on a copy of a slice from a DataFrame.\n",
      "Try using .loc[row_indexer,col_indexer] = value instead\n",
      "\n",
      "See the caveats in the documentation: https://pandas.pydata.org/pandas-docs/stable/user_guide/indexing.html#returning-a-view-versus-a-copy\n",
      "  filtered_data['score'] = filtered_data.apply(lambda row: score_message(\n"
     ]
    },
    {
     "data": {
      "image/png": "[encoded data removed]",
      "text/plain": [
       "<Figure size 1000x600 with 1 Axes>"
      ]
     },
     "metadata": {},
     "output_type": "display_data"
    }
   ],
   "source": [
    "spam_data['tokens'] = spam_data['Message'].apply(lambda x: x.split())\n",
    "spam_data['token_count'] = spam_data['tokens'].apply(len)\n",
    "filtered_data = spam_data[spam_data['token_count'] < 75]\n",
    "filtered_data['score'] = filtered_data.apply(lambda row: score_message(\n",
    "    row['Message'], freq_ham, freq_spam), axis=1)\n",
    "\n",
    "ham_scores = filtered_data[filtered_data['Category'] == 'ham']['score']\n",
    "spam_scores = filtered_data[filtered_data['Category'] == 'spam']['score']\n",
    "\n",
    "plt.figure(figsize=(10, 6))\n",
    "plt.hist(ham_scores, bins=50, alpha=0.5, label='Ham')\n",
    "plt.hist(spam_scores, bins=50, alpha=0.5, label='Spam')\n",
    "plt.xlabel('Score')\n",
    "plt.ylabel('Frequency')\n",
    "plt.legend()\n",
    "plt.title('Distributions of Scores for Ham and Spam Messages')\n",
    "plt.savefig('foo.png', bbox_inches='tight')"
   ]
  },
  {
   "cell_type": "code",
   "execution_count": 224,
   "metadata": {},
   "outputs": [
    {
     "name": "stdout",
     "output_type": "stream",
     "text": [
      "[[4786   23]\n",
      " [   6  741]]\n"
     ]
    },
    {
     "name": "stderr",
     "output_type": "stream",
     "text": [
      "/var/folders/c1/5zzf4b396wdgc4t2xxg1dqw00000gn/T/ipykernel_4553/3129518842.py:1: SettingWithCopyWarning: \n",
      "A value is trying to be set on a copy of a slice from a DataFrame.\n",
      "Try using .loc[row_indexer,col_indexer] = value instead\n",
      "\n",
      "See the caveats in the documentation: https://pandas.pydata.org/pandas-docs/stable/user_guide/indexing.html#returning-a-view-versus-a-copy\n",
      "  filtered_data['predicted'] = filtered_data['score'].apply(\n"
     ]
    }
   ],
   "source": [
    "filtered_data['predicted'] = filtered_data['score'].apply(\n",
    "    lambda x: 'ham' if x > 1 else 'spam')\n",
    "\n",
    "conf_matrix = confusion_matrix(\n",
    "    filtered_data['Category'], filtered_data['predicted'], labels=['ham', 'spam'])\n",
    "tn, fp, fn, tp = conf_matrix.ravel()\n",
    "\n",
    "# Calculating accuracy, sensitivity (recall or true positive rate), and specificity (true negative rate)\n",
    "accuracy = (tp + tn) / (tp + tn + fp + fn)\n",
    "sensitivity = tp / (tp + fn)\n",
    "specificity = tn / (tn + fp)\n",
    "\n",
    "print(conf_matrix)"
   ]
  },
  {
   "cell_type": "code",
   "execution_count": 223,
   "metadata": {},
   "outputs": [
    {
     "name": "stdout",
     "output_type": "stream",
     "text": [
      "0.9947804175665946 0.9919678714859438 0.9952173008941568\n"
     ]
    }
   ],
   "source": [
    "print(accuracy, sensitivity, specificity)"
   ]
  },
  {
   "cell_type": "code",
   "execution_count": 227,
   "metadata": {},
   "outputs": [
    {
     "name": "stdout",
     "output_type": "stream",
     "text": [
      "[[3657 1152]\n",
      " [   4  743]] 0.7919366450683946 0.9946452476572959 0.7604491578290705\n"
     ]
    },
    {
     "name": "stderr",
     "output_type": "stream",
     "text": [
      "/var/folders/c1/5zzf4b396wdgc4t2xxg1dqw00000gn/T/ipykernel_4553/2243022235.py:17: SettingWithCopyWarning: \n",
      "A value is trying to be set on a copy of a slice from a DataFrame.\n",
      "Try using .loc[row_indexer,col_indexer] = value instead\n",
      "\n",
      "See the caveats in the documentation: https://pandas.pydata.org/pandas-docs/stable/user_guide/indexing.html#returning-a-view-versus-a-copy\n",
      "  filtered_data['score'] = filtered_data.apply(lambda row: score_message(\n",
      "/var/folders/c1/5zzf4b396wdgc4t2xxg1dqw00000gn/T/ipykernel_4553/2243022235.py:23: SettingWithCopyWarning: \n",
      "A value is trying to be set on a copy of a slice from a DataFrame.\n",
      "Try using .loc[row_indexer,col_indexer] = value instead\n",
      "\n",
      "See the caveats in the documentation: https://pandas.pydata.org/pandas-docs/stable/user_guide/indexing.html#returning-a-view-versus-a-copy\n",
      "  filtered_data['predicted'] = filtered_data['score'].apply(\n"
     ]
    }
   ],
   "source": [
    "def calculate_log_odds(message, freq_dist):\n",
    "    message_tokens = message.split()\n",
    "    log_odds = 0\n",
    "    alpha = 2\n",
    "\n",
    "    for token in message_tokens:\n",
    "        token_probability = (\n",
    "            freq_dist[token] + alpha) / (sum(freq_dist.values()) + alpha)\n",
    "        log_odds += log(token_probability)\n",
    "\n",
    "    return log_odds\n",
    "\n",
    "\n",
    "spam_data['tokens'] = spam_data['Message'].apply(lambda x: x.split())\n",
    "spam_data['token_count'] = spam_data['tokens'].apply(len)\n",
    "filtered_data = spam_data[spam_data['token_count'] < 75]\n",
    "filtered_data['score'] = filtered_data.apply(lambda row: score_message(\n",
    "    row['Message'], freq_ham, freq_spam), axis=1)\n",
    "\n",
    "ham_scores = filtered_data[filtered_data['Category'] == 'ham']['score']\n",
    "spam_scores = filtered_data[filtered_data['Category'] == 'spam']['score']\n",
    "\n",
    "filtered_data['predicted'] = filtered_data['score'].apply(\n",
    "    lambda x: 'ham' if x > 1 else 'spam')\n",
    "\n",
    "conf_matrix = confusion_matrix(\n",
    "    filtered_data['Category'], filtered_data['predicted'], labels=['ham', 'spam'])\n",
    "tn, fp, fn, tp = conf_matrix.ravel()\n",
    "\n",
    "# Calculating accuracy, sensitivity (recall or true positive rate), and specificity (true negative rate)\n",
    "accuracy = (tp + tn) / (tp + tn + fp + fn)\n",
    "sensitivity = tp / (tp + fn)\n",
    "specificity = tn / (tn + fp)\n",
    "\n",
    "print(conf_matrix, accuracy, sensitivity, specificity)"
   ]
  },
  {
   "cell_type": "code",
   "execution_count": null,
   "metadata": {},
   "outputs": [],
   "source": []
  }
 ],
 "metadata": {
  "kernelspec": {
   "display_name": "base",
   "language": "python",
   "name": "python3"
  },
  "language_info": {
   "codemirror_mode": {
    "name": "ipython",
    "version": 3
   },
   "file_extension": ".py",
   "mimetype": "text/x-python",
   "name": "python",
   "nbconvert_exporter": "python",
   "pygments_lexer": "ipython3",
   "version": "3.11.5"
  }
 },
 "nbformat": 4,
 "nbformat_minor": 2
}
