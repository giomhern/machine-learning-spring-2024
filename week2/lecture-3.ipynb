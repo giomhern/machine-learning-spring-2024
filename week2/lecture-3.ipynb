{
 "cells": [
  {
   "cell_type": "markdown",
   "id": "11ce827a",
   "metadata": {},
   "source": [
    "<div style=\"text-align: right\"> \n",
    "\n",
    "### DATA 22100 - Introduction to Machine Learning\n",
    "\n",
    "</div>\n",
    "\n",
    "<img src=\"https://github.com/david-biron/DATA221imgs/blob/main/UChicago_DSI.png?raw=true\" align=\"right\" alt=\"UC-DSI\" width=\"300\">\n"
   ]
  },
  {
   "cell_type": "markdown",
   "id": "5bb79567",
   "metadata": {},
   "source": [
    "<center> \n",
    "\n",
    "# Naive Bayes Classifier and Gaussians \n",
    "    \n",
    "</center> \n",
    "\n",
    "    "
   ]
  },
  {
   "cell_type": "markdown",
   "id": "d4b3e5ef",
   "metadata": {},
   "source": [
    "## Symptoms of sleep deprivation\n",
    "\n"
   ]
  },
  {
   "cell_type": "code",
   "execution_count": 8,
   "id": "c167e704",
   "metadata": {},
   "outputs": [
    {
     "data": {
      "text/html": [
       "<div>\n",
       "<style scoped>\n",
       "    .dataframe tbody tr th:only-of-type {\n",
       "        vertical-align: middle;\n",
       "    }\n",
       "\n",
       "    .dataframe tbody tr th {\n",
       "        vertical-align: top;\n",
       "    }\n",
       "\n",
       "    .dataframe thead th {\n",
       "        text-align: right;\n",
       "    }\n",
       "</style>\n",
       "<table border=\"1\" class=\"dataframe\">\n",
       "  <thead>\n",
       "    <tr style=\"text-align: right;\">\n",
       "      <th></th>\n",
       "      <th>Slowed thinking</th>\n",
       "      <th>Reduced attention span</th>\n",
       "      <th>Worsened memory</th>\n",
       "      <th>Risky decision-making</th>\n",
       "      <th>Lack of energy</th>\n",
       "      <th>Mood changes</th>\n",
       "      <th>Sleep Deprived</th>\n",
       "    </tr>\n",
       "  </thead>\n",
       "  <tbody>\n",
       "    <tr>\n",
       "      <th>0</th>\n",
       "      <td>Mild</td>\n",
       "      <td>None</td>\n",
       "      <td>Mild</td>\n",
       "      <td>None</td>\n",
       "      <td>None</td>\n",
       "      <td>Severe</td>\n",
       "      <td>No</td>\n",
       "    </tr>\n",
       "    <tr>\n",
       "      <th>1</th>\n",
       "      <td>None</td>\n",
       "      <td>Severe</td>\n",
       "      <td>Mild</td>\n",
       "      <td>None</td>\n",
       "      <td>Severe</td>\n",
       "      <td>None</td>\n",
       "      <td>No</td>\n",
       "    </tr>\n",
       "    <tr>\n",
       "      <th>2</th>\n",
       "      <td>None</td>\n",
       "      <td>Mild</td>\n",
       "      <td>None</td>\n",
       "      <td>Mild</td>\n",
       "      <td>Mild</td>\n",
       "      <td>Severe</td>\n",
       "      <td>No</td>\n",
       "    </tr>\n",
       "    <tr>\n",
       "      <th>3</th>\n",
       "      <td>None</td>\n",
       "      <td>None</td>\n",
       "      <td>Mild</td>\n",
       "      <td>Severe</td>\n",
       "      <td>Mild</td>\n",
       "      <td>Mild</td>\n",
       "      <td>No</td>\n",
       "    </tr>\n",
       "    <tr>\n",
       "      <th>4</th>\n",
       "      <td>None</td>\n",
       "      <td>Severe</td>\n",
       "      <td>None</td>\n",
       "      <td>Severe</td>\n",
       "      <td>Severe</td>\n",
       "      <td>Severe</td>\n",
       "      <td>Yes</td>\n",
       "    </tr>\n",
       "  </tbody>\n",
       "</table>\n",
       "</div>"
      ],
      "text/plain": [
       "  Slowed thinking Reduced attention span Worsened memory  \\\n",
       "0            Mild                   None            Mild   \n",
       "1            None                 Severe            Mild   \n",
       "2            None                   Mild            None   \n",
       "3            None                   None            Mild   \n",
       "4            None                 Severe            None   \n",
       "\n",
       "  Risky decision-making Lack of energy Mood changes Sleep Deprived  \n",
       "0                  None           None       Severe             No  \n",
       "1                  None         Severe         None             No  \n",
       "2                  Mild           Mild       Severe             No  \n",
       "3                Severe           Mild         Mild             No  \n",
       "4                Severe         Severe       Severe            Yes  "
      ]
     },
     "execution_count": 8,
     "metadata": {},
     "output_type": "execute_result"
    }
   ],
   "source": [
    "import numpy as np \n",
    "import pandas as pd\n",
    "\n",
    "# Sleep deprivation symptoms and class (Yes/No sleep deprived data): \n",
    "sleep_dep_df = pd.DataFrame({\n",
    "    'Slowed thinking': [\n",
    "        'Mild',   'None', 'None',   'None',   'None',   'None',   'Severe', 'Mild',   'Severe', 'None', \n",
    "        'None',   'None', 'Severe', 'Severe', 'Severe', 'Mild',   'Mild',   'Mild',   'Severe', 'None',\n",
    "        'Severe', 'None', 'Mild',   'None',   'None',   'Severe', 'Mild',   'None',   'Mild',   'Severe', \n",
    "        'None',   'None', 'Severe', 'Severe', 'Mild',   'None',   'Severe', 'Mild',   'Severe', 'None', \n",
    "        'Mild',   'None', 'Severe', 'Severe', 'None',   'None',   'None',   'Severe', 'Mild',   'None'\n",
    "    ], \n",
    "    'Reduced attention span': [\n",
    "        'None',   'Severe', 'Mild',   'None',   'Severe', 'Severe', 'None',   'None',   'None',   'Mild',\n",
    "        'Severe', 'None',   'Mild',   'Severe', 'None',   'Severe', 'Severe', 'Severe', 'None',   'Severe',\n",
    "        'Mild',   'None',   'Severe', 'Mild',   'Mild',   'Severe', 'Mild',   'None',   'Severe', 'None', \n",
    "        'None',   'Mild',   'Severe', 'None',   'Severe', 'None',   'Severe', 'Severe', 'Severe', 'Severe', \n",
    "        'Severe', 'None',   'Mild',   'None',   'Severe', 'Severe', 'None',   'Mild',   'Mild',   'None'\n",
    "    ],\n",
    "    'Worsened memory': [\n",
    "        'Mild',   'Mild',   'None',   'Mild',   'None',   'Mild',  'Severe',  'Severe', 'Mild',   'Mild', \n",
    "        'Severe', 'Mild',   'Severe', 'None',   'Mild',   'None',  'Severe',  'None',   'None',   'Mild',\n",
    "        'None',   'None',   'Mild',   'Severe', 'Severe', 'Mild',  'Mild',    'Severe', 'Severe', 'Mild', \n",
    "        'Severe', 'Severe', 'Mild',   'Severe', 'Severe', 'None',  'Severe',  'Severe', 'None',   'None', \n",
    "        'None',   'Mild',   'None',   'None',   'None',   'Severe', 'Severe', 'Mild',   'None',   'Severe'  \n",
    "    ],\n",
    "    'Risky decision-making': [\n",
    "        'None',   'None',   'Mild', 'Severe', 'Severe', 'Mild',   'Severe', 'None',   'None',   'Severe', \n",
    "        'None',   'Severe', 'Mild', 'Severe', 'None',   'Severe', 'Severe', 'None',   'Severe', 'Mild',\n",
    "        'Severe', 'None',   'None',   'Mild', 'None',   'None',   'Severe', 'None',   'None',   'Mild', \n",
    "        'Mild',   'Severe', 'Severe', 'Mild', 'None',   'Mild',   'Mild',   'None',   'Severe', 'Severe', \n",
    "        'None',   'Mild',   'Severe', 'None', 'None',   'Mild',   'Severe', 'Severe', 'None',   'Mild'  \n",
    "    ],\n",
    "    'Lack of energy': [\n",
    "        'None',   'Severe', 'Mild',   'Mild',  'Severe', 'None',   'Severe', 'Mild',   'Severe', 'None', \n",
    "        'Mild',   'None',   'Severe', 'Severe','None',   'Mild',   'None',   'Severe', 'Severe', 'Severe',\n",
    "        'None',   'Severe', 'Mild',   'None',  'Severe', 'Severe', 'None',   'Mild',   'Severe', 'Mild', \n",
    "        'Severe', 'None',   'Mild',   'None',  'Mild',   'None',   'Mild',   'None',   'Mild',  'Severe', \n",
    "        'None',   'Severe', 'Severe', 'Mild', 'Severe',  'Severe', 'Severe', 'Severe', 'Severe', 'Severe'  \n",
    "    ],\n",
    "    'Mood changes': [\n",
    "        'Severe', 'None',   'Severe', 'Mild',   'Severe', 'Mild',   'Severe', 'Mild', 'None',   'None', \n",
    "        'Mild',   'Severe', 'None',   'Severe', 'None',   'None',   'Mild',   'None', 'Mild',   'Mild',\n",
    "        'None',   'Mild',   'None',   'Mild',   'Severe', 'Mild',   'None',   'Mild', 'None',   'None', \n",
    "        'None',   'Mild',   'Mild',   'None',   'None',   'None',   'None',   'None', 'Severe', 'None', \n",
    "        'None',   'None',   'None',   'Mild',   'Severe', 'Severe', 'Mild',   'Mild', 'None',   'None'\n",
    "    ],\n",
    "    'Sleep Deprived': ['No',  'No', 'No', 'No', 'Yes', 'No',  'Yes', 'Yes', 'Yes', 'No', \n",
    "                       'Yes', 'No', 'Yes', 'Yes', 'No',  'Yes', 'No',  'No',  'Yes', 'Yes',\n",
    "                       'No',  'No', 'Yes', 'Yes', 'No', 'Yes', 'Yes', 'No',  'Yes', 'Yes',\n",
    "                       'Yes',  'Yes', 'Yes', 'No', 'Yes', 'No',  'Yes', 'No',  'Yes', 'Yes', \n",
    "                       'No',  'No',  'Yes', 'No',  'No', 'Yes', 'Yes', 'Yes', 'No',  'Yes'\n",
    "                      ]\n",
    "})\n",
    "\n",
    "sleep_dep_df.head()\n",
    "\n"
   ]
  },
  {
   "cell_type": "markdown",
   "id": "1af964f7",
   "metadata": {},
   "source": [
    "## New person comes along with a list of symptoms. Are they sleep deprived?\n",
    "\n",
    "### We want a model for *conditional probabilities* \n",
    "\n",
    "I.e., the probability of being sleep deprived **given** the symptoms: \n",
    "\n",
    "$${\\large P_\\theta(\\text{Sleep Deprived} \\mid symptom_1, symptom_2, symptom_3, \\dots)}$$\n",
    "\n",
    "* The model has **parameters** $\\theta$\n",
    "* The symptoms are the **features**\n",
    "* Sleep Deprived is the **discrete label** (that we wish to predict)\n"
   ]
  },
  {
   "cell_type": "markdown",
   "id": "1983cccc",
   "metadata": {},
   "source": [
    "### Naive Bayes classifiers begin with Bayes rule...\n",
    "${\\large P_\\theta(\\text{Sleep Deprived} \\mid symptom_1, symptom_2, symptom_3, \\dots) \\overbrace{=}^{\\text{Bayes}} }$\n",
    "\n",
    "</br> \n",
    "\n",
    "\n",
    "$$ \\frac{\\overbrace{P_\\theta( symptom_1, symptom_2, symptom_3, \\dots \\mid \\text{Sleep Deprived})}^{\\text{\"class conditional probability\"}} \\, \\, P_\\theta(\\text{Sleep Deprived})}{P_\\theta(symptom_1, symptom_2, symptom_3,\\dots)}$$\n",
    "\n",
    "<br>"
   ]
  },
  {
   "cell_type": "markdown",
   "id": "1b3cce45",
   "metadata": {},
   "source": [
    "### The main assumption: features are **conditionally independent** given the label. \n",
    "**Note:** This assumption is rarely \"true\" in real-world situations, but often works well in practice.\n",
    "\n",
    "\n",
    "${\\large P_\\theta( symptom_1, symptom_2, symptom_3, \\dots \\mid \\text{Sleep Deprived}) } = $\n",
    "\n",
    "$${\\large = \\prod_j P_\\theta(symptom_j \\mid \\text{Sleep Deprived})}$$\n",
    "\n",
    "**Note:** Different types of naive Bayes classifiers differ mainly assuming different distributions for the conditional probabilities, $P_\\theta(symptom_j \\mid \\text{Sleep Deprived})$. "
   ]
  },
  {
   "cell_type": "markdown",
   "id": "2f243614",
   "metadata": {},
   "source": [
    "### Why does this assumption help? Makes learning easy...\n",
    "\n",
    "Think about the terms we need to compute $P_\\theta(\\text{Sleep Deprived} \\mid symptom_1, symptom_2, symptom_3, \\dots)$:\n",
    "\n",
    "*  ${\\large P_\\theta(\\text{Sleep Deprived})}$ (base rate)\n",
    "* ${\\large P_\\theta(symptom_j \\mid \\text{Sleep Deprived})}$ (class conditional probability $j$)\n",
    "\n",
    "...what about...? \n",
    "* ${\\large P_\\theta(symptom_1, symptom_2, symptom_3,\\dots)}$\n",
    "\n",
    "<br>\n",
    "\n"
   ]
  },
  {
   "cell_type": "markdown",
   "id": "34cff773",
   "metadata": {},
   "source": [
    "We can compute this using **marginalization:**\n",
    "\n",
    "$ P_\\theta(symptom_1, symptom_2, symptom_3,\\dots) = $\n",
    "$$P_\\theta(symptom_1, symptom_2, symptom_3,\\dots \\mid \\text{Sleep Deprived = yes}) \\, P_\\theta(\\text{Sleep Deprived = yes}) + \\,P_\\theta(symptom_1, symptom_2, symptom_3,\\dots \\mid \\text{Sleep Deprived = no})\\,P_\\theta(\\text{Sleep Deprived = no})$$\n",
    "\n"
   ]
  },
  {
   "cell_type": "markdown",
   "id": "97403446",
   "metadata": {},
   "source": [
    "\n",
    "<br>\n",
    "\n",
    "...and by our independence assumption...:\n",
    "\n",
    "$$\\left[\\prod_j P_\\theta(symptom_j \\mid  \\text{Sleep Deprived = yes})\\right] \\, P_\\theta(\\text{Sleep Deprived = yes}) +\\\\ \\,\\left[\\prod_j P_\\theta(symptom_j \\mid  \\text{Sleep Deprived = no})\\right]\\,P_\\theta(\\text{Sleep Deprived = no})$$\n"
   ]
  },
  {
   "cell_type": "markdown",
   "id": "e9a7e70f",
   "metadata": {},
   "source": [
    "### To summarize: we just need to learn:\n",
    "*  ${\\large P_\\theta(\\text{Sleep Deprived})}$ (base rate)\n",
    "* ${\\large P_\\theta(symptom_j \\mid \\text{Sleep Deprived})}$ (class conditional probability $j$)"
   ]
  },
  {
   "cell_type": "markdown",
   "id": "7ecb043f",
   "metadata": {},
   "source": [
    "### Given a training data set, how might we learn ${P_\\theta(\\text{Sleep Deprived})}$?\n",
    "\n",
    "Here, the label is *binary*, so there is only one (scalar) parameter to learn. Let's call it $\\pi$\n",
    "\n",
    "$$\\large {P_\\theta(\\text{Sleep Deprived} = \\text{yes})} = \\pi$$\n",
    "\n",
    "$$\\large {P_\\theta(\\text{Sleep Deprived} = \\text{no})} = 1-\\pi$$\n",
    "\n",
    "#### How do we learn $\\pi$?"
   ]
  },
  {
   "cell_type": "markdown",
   "id": "c4820c92",
   "metadata": {},
   "source": [
    "Count!\n",
    "\n",
    "$$\\large \\hat{\\pi} \\leftarrow \\frac{\\text{# training data points with Sleep Deprived = yes}}{\\text{# training data points}}$$"
   ]
  },
  {
   "cell_type": "markdown",
   "id": "c886beef",
   "metadata": {},
   "source": [
    "### If the features are also discrete / categorical...\n",
    "\n",
    "$${\\large symptom_j \\in \\{\\text{None}, \\text{Mild}, \\text{Severe}\\}}$$\n",
    "\n",
    "Then we can introduce parameters: \n",
    "$${\\large P_\\theta(symptom_j = \\text{None} \\mid \\text{Sleep Deprived = yes}) = \\psi_{j,\\,\\text{none, yes}}}$$\n",
    "$${\\large P_\\theta(symptom_j = \\text{Mild} \\mid \\text{Sleep Deprived = yes}) = \\psi_{j,\\,\\text{mild, yes}}}$$\n",
    "$${\\large P_\\theta(symptom_j = \\text{Severe} \\mid \\text{Sleep Deprived = yes}) = \\psi_{j,\\,\\text{severe, yes}}}$$\n",
    "$${\\large P_\\theta(symptom_j = \\text{None} \\mid \\text{Sleep Deprived = no}) = \\psi_{j,\\,\\text{none, no}}}$$\n",
    "$${\\large P_\\theta(symptom_j = \\text{Mild} \\mid \\text{Sleep Deprived = no}) = \\psi_{j,\\,\\text{mild, no}}}$$\n",
    "$${\\large P_\\theta(symptom_j = \\text{Severe} \\mid \\text{Sleep Deprived = no}) = \\psi_{j,\\,\\text{severe, no}}}$$\n"
   ]
  },
  {
   "cell_type": "markdown",
   "id": "75875fed",
   "metadata": {},
   "source": [
    "#### How do we learn $\\psi_{\\text{j, severe, no}}$?"
   ]
  },
  {
   "cell_type": "markdown",
   "id": "cccfbc5d",
   "metadata": {},
   "source": [
    "Count!\n",
    "\n",
    "$$ \\hat{\\psi}_{\\text{j, severe, no}} \\leftarrow \\frac{\\text{# training data with ($symptom_j$ = Severe) and (Sleep Deprived = no)}}{\\text{# training data with Sleep Deprived = no}}$$"
   ]
  },
  {
   "cell_type": "markdown",
   "id": "66fdc1bc",
   "metadata": {},
   "source": [
    "### Implementing the (Categorical) Naive Bayes Classifier pretty much from scratch \n",
    "\n",
    "We will need to count the **frequencies** that each symptom presents in either sleep deprived or well rested people:  \n"
   ]
  },
  {
   "cell_type": "markdown",
   "id": "7a26893b",
   "metadata": {},
   "source": [
    "### Using [`pandas.DataFrame.melt`](https://pandas.pydata.org/docs/reference/api/pandas.melt.html) and [`pandas.pivot_table`](https://pandas.pydata.org/pandas-docs/stable/reference/api/pandas.DataFrame.pivot.html) to compute the counts\n",
    "\n",
    "Since we only need the *pairwise* counts for ($symptom_j$, Sleep Deprived), we can first use  [`pandas.DataFrame.melt`](https://pandas.pydata.org/docs/reference/api/pandas.melt.html), which will create a flat list of all pairwise occurrences in the original dataframe:"
   ]
  },
  {
   "cell_type": "code",
   "execution_count": 9,
   "id": "2da3fb71",
   "metadata": {},
   "outputs": [
    {
     "data": {
      "text/html": [
       "<div>\n",
       "<style scoped>\n",
       "    .dataframe tbody tr th:only-of-type {\n",
       "        vertical-align: middle;\n",
       "    }\n",
       "\n",
       "    .dataframe tbody tr th {\n",
       "        vertical-align: top;\n",
       "    }\n",
       "\n",
       "    .dataframe thead th {\n",
       "        text-align: right;\n",
       "    }\n",
       "</style>\n",
       "<table border=\"1\" class=\"dataframe\">\n",
       "  <thead>\n",
       "    <tr style=\"text-align: right;\">\n",
       "      <th></th>\n",
       "      <th>Sleep Deprived</th>\n",
       "      <th>symptom_type</th>\n",
       "      <th>symptom_value</th>\n",
       "    </tr>\n",
       "  </thead>\n",
       "  <tbody>\n",
       "    <tr>\n",
       "      <th>0</th>\n",
       "      <td>No</td>\n",
       "      <td>Slowed thinking</td>\n",
       "      <td>Mild</td>\n",
       "    </tr>\n",
       "    <tr>\n",
       "      <th>1</th>\n",
       "      <td>No</td>\n",
       "      <td>Slowed thinking</td>\n",
       "      <td>None</td>\n",
       "    </tr>\n",
       "    <tr>\n",
       "      <th>2</th>\n",
       "      <td>No</td>\n",
       "      <td>Slowed thinking</td>\n",
       "      <td>None</td>\n",
       "    </tr>\n",
       "    <tr>\n",
       "      <th>3</th>\n",
       "      <td>No</td>\n",
       "      <td>Slowed thinking</td>\n",
       "      <td>None</td>\n",
       "    </tr>\n",
       "    <tr>\n",
       "      <th>4</th>\n",
       "      <td>Yes</td>\n",
       "      <td>Slowed thinking</td>\n",
       "      <td>None</td>\n",
       "    </tr>\n",
       "    <tr>\n",
       "      <th>...</th>\n",
       "      <td>...</td>\n",
       "      <td>...</td>\n",
       "      <td>...</td>\n",
       "    </tr>\n",
       "    <tr>\n",
       "      <th>295</th>\n",
       "      <td>Yes</td>\n",
       "      <td>Mood changes</td>\n",
       "      <td>Severe</td>\n",
       "    </tr>\n",
       "    <tr>\n",
       "      <th>296</th>\n",
       "      <td>Yes</td>\n",
       "      <td>Mood changes</td>\n",
       "      <td>Mild</td>\n",
       "    </tr>\n",
       "    <tr>\n",
       "      <th>297</th>\n",
       "      <td>Yes</td>\n",
       "      <td>Mood changes</td>\n",
       "      <td>Mild</td>\n",
       "    </tr>\n",
       "    <tr>\n",
       "      <th>298</th>\n",
       "      <td>No</td>\n",
       "      <td>Mood changes</td>\n",
       "      <td>None</td>\n",
       "    </tr>\n",
       "    <tr>\n",
       "      <th>299</th>\n",
       "      <td>Yes</td>\n",
       "      <td>Mood changes</td>\n",
       "      <td>None</td>\n",
       "    </tr>\n",
       "  </tbody>\n",
       "</table>\n",
       "<p>300 rows × 3 columns</p>\n",
       "</div>"
      ],
      "text/plain": [
       "    Sleep Deprived     symptom_type symptom_value\n",
       "0               No  Slowed thinking          Mild\n",
       "1               No  Slowed thinking          None\n",
       "2               No  Slowed thinking          None\n",
       "3               No  Slowed thinking          None\n",
       "4              Yes  Slowed thinking          None\n",
       "..             ...              ...           ...\n",
       "295            Yes     Mood changes        Severe\n",
       "296            Yes     Mood changes          Mild\n",
       "297            Yes     Mood changes          Mild\n",
       "298             No     Mood changes          None\n",
       "299            Yes     Mood changes          None\n",
       "\n",
       "[300 rows x 3 columns]"
      ]
     },
     "execution_count": 9,
     "metadata": {},
     "output_type": "execute_result"
    }
   ],
   "source": [
    "sleep_dep_df_melted = sleep_dep_df.melt(id_vars='Sleep Deprived', \n",
    "                                        var_name='symptom_type', \n",
    "                                        value_name='symptom_value')\n",
    "\n",
    "sleep_dep_df_melted"
   ]
  },
  {
   "cell_type": "markdown",
   "id": "9990146e",
   "metadata": {},
   "source": [
    "#### We can then use [`pandas.pivot`](https://pandas.pydata.org/pandas-docs/stable/reference/api/pandas.DataFrame.pivot.html) on the melted dataframe to obtain a multilevel table of counts:\n",
    "\n",
    "(This is an efficient way to do it but it is also a bit ocnfusing. Feel free to calculate the frequencies with `for` loops if it helps your understading.)"
   ]
  },
  {
   "cell_type": "code",
   "execution_count": 10,
   "id": "d3ad799f",
   "metadata": {},
   "outputs": [
    {
     "data": {
      "text/html": [
       "<div>\n",
       "<style scoped>\n",
       "    .dataframe tbody tr th:only-of-type {\n",
       "        vertical-align: middle;\n",
       "    }\n",
       "\n",
       "    .dataframe tbody tr th {\n",
       "        vertical-align: top;\n",
       "    }\n",
       "\n",
       "    .dataframe thead th {\n",
       "        text-align: right;\n",
       "    }\n",
       "</style>\n",
       "<table border=\"1\" class=\"dataframe\">\n",
       "  <thead>\n",
       "    <tr style=\"text-align: right;\">\n",
       "      <th></th>\n",
       "      <th>Sleep Deprived</th>\n",
       "      <th>No</th>\n",
       "      <th>Yes</th>\n",
       "    </tr>\n",
       "    <tr>\n",
       "      <th>symptom_type</th>\n",
       "      <th>symptom_value</th>\n",
       "      <th></th>\n",
       "      <th></th>\n",
       "    </tr>\n",
       "  </thead>\n",
       "  <tbody>\n",
       "    <tr>\n",
       "      <th rowspan=\"3\" valign=\"top\">Lack of energy</th>\n",
       "      <th>Mild</th>\n",
       "      <td>4</td>\n",
       "      <td>9</td>\n",
       "    </tr>\n",
       "    <tr>\n",
       "      <th>None</th>\n",
       "      <td>11</td>\n",
       "      <td>3</td>\n",
       "    </tr>\n",
       "    <tr>\n",
       "      <th>Severe</th>\n",
       "      <td>7</td>\n",
       "      <td>16</td>\n",
       "    </tr>\n",
       "    <tr>\n",
       "      <th rowspan=\"3\" valign=\"top\">Mood changes</th>\n",
       "      <th>Mild</th>\n",
       "      <td>6</td>\n",
       "      <td>10</td>\n",
       "    </tr>\n",
       "    <tr>\n",
       "      <th>None</th>\n",
       "      <td>11</td>\n",
       "      <td>13</td>\n",
       "    </tr>\n",
       "    <tr>\n",
       "      <th>Severe</th>\n",
       "      <td>5</td>\n",
       "      <td>5</td>\n",
       "    </tr>\n",
       "    <tr>\n",
       "      <th rowspan=\"3\" valign=\"top\">Reduced attention span</th>\n",
       "      <th>Mild</th>\n",
       "      <td>5</td>\n",
       "      <td>6</td>\n",
       "    </tr>\n",
       "    <tr>\n",
       "      <th>None</th>\n",
       "      <td>10</td>\n",
       "      <td>8</td>\n",
       "    </tr>\n",
       "    <tr>\n",
       "      <th>Severe</th>\n",
       "      <td>7</td>\n",
       "      <td>14</td>\n",
       "    </tr>\n",
       "    <tr>\n",
       "      <th rowspan=\"3\" valign=\"top\">Risky decision-making</th>\n",
       "      <th>Mild</th>\n",
       "      <td>5</td>\n",
       "      <td>8</td>\n",
       "    </tr>\n",
       "    <tr>\n",
       "      <th>None</th>\n",
       "      <td>12</td>\n",
       "      <td>7</td>\n",
       "    </tr>\n",
       "    <tr>\n",
       "      <th>Severe</th>\n",
       "      <td>5</td>\n",
       "      <td>13</td>\n",
       "    </tr>\n",
       "    <tr>\n",
       "      <th rowspan=\"3\" valign=\"top\">Slowed thinking</th>\n",
       "      <th>Mild</th>\n",
       "      <td>6</td>\n",
       "      <td>6</td>\n",
       "    </tr>\n",
       "    <tr>\n",
       "      <th>None</th>\n",
       "      <td>12</td>\n",
       "      <td>10</td>\n",
       "    </tr>\n",
       "    <tr>\n",
       "      <th>Severe</th>\n",
       "      <td>4</td>\n",
       "      <td>12</td>\n",
       "    </tr>\n",
       "    <tr>\n",
       "      <th rowspan=\"3\" valign=\"top\">Worsened memory</th>\n",
       "      <th>Mild</th>\n",
       "      <td>8</td>\n",
       "      <td>8</td>\n",
       "    </tr>\n",
       "    <tr>\n",
       "      <th>None</th>\n",
       "      <td>9</td>\n",
       "      <td>7</td>\n",
       "    </tr>\n",
       "    <tr>\n",
       "      <th>Severe</th>\n",
       "      <td>5</td>\n",
       "      <td>13</td>\n",
       "    </tr>\n",
       "  </tbody>\n",
       "</table>\n",
       "</div>"
      ],
      "text/plain": [
       "Sleep Deprived                        No  Yes\n",
       "symptom_type           symptom_value         \n",
       "Lack of energy         Mild            4    9\n",
       "                       None           11    3\n",
       "                       Severe          7   16\n",
       "Mood changes           Mild            6   10\n",
       "                       None           11   13\n",
       "                       Severe          5    5\n",
       "Reduced attention span Mild            5    6\n",
       "                       None           10    8\n",
       "                       Severe          7   14\n",
       "Risky decision-making  Mild            5    8\n",
       "                       None           12    7\n",
       "                       Severe          5   13\n",
       "Slowed thinking        Mild            6    6\n",
       "                       None           12   10\n",
       "                       Severe          4   12\n",
       "Worsened memory        Mild            8    8\n",
       "                       None            9    7\n",
       "                       Severe          5   13"
      ]
     },
     "execution_count": 10,
     "metadata": {},
     "output_type": "execute_result"
    }
   ],
   "source": [
    "sleep_dp_pivot = pd.pivot_table(sleep_dep_df_melted, \n",
    "                        index=['symptom_type', 'symptom_value'], \n",
    "                        columns='Sleep Deprived', \n",
    "                        aggfunc='size',\n",
    "                        fill_value=0)\n",
    "sleep_dp_pivot"
   ]
  },
  {
   "cell_type": "markdown",
   "id": "375fa6fa",
   "metadata": {},
   "source": [
    "### First calculate the base rates"
   ]
  },
  {
   "cell_type": "code",
   "execution_count": 11,
   "id": "3a0c118a",
   "metadata": {},
   "outputs": [
    {
     "data": {
      "text/plain": [
       "(0.56, 0.43999999999999995)"
      ]
     },
     "execution_count": 11,
     "metadata": {},
     "output_type": "execute_result"
    }
   ],
   "source": [
    "total_num_yes = (sleep_dep_df['Sleep Deprived'] == 'Yes').sum() \n",
    "total_num_no = (sleep_dep_df['Sleep Deprived'] == 'No').sum() \n",
    "\n",
    "class_prob_yes = total_num_yes / (total_num_yes + total_num_no)\n",
    "class_prob_no = 1 - class_prob_yes \n",
    "class_prob_yes, class_prob_no #  Just to check for class imbalance "
   ]
  },
  {
   "cell_type": "markdown",
   "id": "8270ede2",
   "metadata": {},
   "source": [
    "### Then divide the counts by the base rates to get the conditional probabilities\n"
   ]
  },
  {
   "cell_type": "code",
   "execution_count": 12,
   "id": "b1620a13",
   "metadata": {},
   "outputs": [
    {
     "data": {
      "text/html": [
       "<div>\n",
       "<style scoped>\n",
       "    .dataframe tbody tr th:only-of-type {\n",
       "        vertical-align: middle;\n",
       "    }\n",
       "\n",
       "    .dataframe tbody tr th {\n",
       "        vertical-align: top;\n",
       "    }\n",
       "\n",
       "    .dataframe thead th {\n",
       "        text-align: right;\n",
       "    }\n",
       "</style>\n",
       "<table border=\"1\" class=\"dataframe\">\n",
       "  <thead>\n",
       "    <tr style=\"text-align: right;\">\n",
       "      <th></th>\n",
       "      <th>Sleep Deprived</th>\n",
       "      <th>No</th>\n",
       "      <th>Yes</th>\n",
       "    </tr>\n",
       "    <tr>\n",
       "      <th>symptom_type</th>\n",
       "      <th>symptom_value</th>\n",
       "      <th></th>\n",
       "      <th></th>\n",
       "    </tr>\n",
       "  </thead>\n",
       "  <tbody>\n",
       "    <tr>\n",
       "      <th rowspan=\"3\" valign=\"top\">Lack of energy</th>\n",
       "      <th>Mild</th>\n",
       "      <td>0.181818</td>\n",
       "      <td>0.321429</td>\n",
       "    </tr>\n",
       "    <tr>\n",
       "      <th>None</th>\n",
       "      <td>0.500000</td>\n",
       "      <td>0.107143</td>\n",
       "    </tr>\n",
       "    <tr>\n",
       "      <th>Severe</th>\n",
       "      <td>0.318182</td>\n",
       "      <td>0.571429</td>\n",
       "    </tr>\n",
       "    <tr>\n",
       "      <th rowspan=\"3\" valign=\"top\">Mood changes</th>\n",
       "      <th>Mild</th>\n",
       "      <td>0.272727</td>\n",
       "      <td>0.357143</td>\n",
       "    </tr>\n",
       "    <tr>\n",
       "      <th>None</th>\n",
       "      <td>0.500000</td>\n",
       "      <td>0.464286</td>\n",
       "    </tr>\n",
       "    <tr>\n",
       "      <th>Severe</th>\n",
       "      <td>0.227273</td>\n",
       "      <td>0.178571</td>\n",
       "    </tr>\n",
       "    <tr>\n",
       "      <th rowspan=\"3\" valign=\"top\">Reduced attention span</th>\n",
       "      <th>Mild</th>\n",
       "      <td>0.227273</td>\n",
       "      <td>0.214286</td>\n",
       "    </tr>\n",
       "    <tr>\n",
       "      <th>None</th>\n",
       "      <td>0.454545</td>\n",
       "      <td>0.285714</td>\n",
       "    </tr>\n",
       "    <tr>\n",
       "      <th>Severe</th>\n",
       "      <td>0.318182</td>\n",
       "      <td>0.500000</td>\n",
       "    </tr>\n",
       "    <tr>\n",
       "      <th rowspan=\"3\" valign=\"top\">Risky decision-making</th>\n",
       "      <th>Mild</th>\n",
       "      <td>0.227273</td>\n",
       "      <td>0.285714</td>\n",
       "    </tr>\n",
       "    <tr>\n",
       "      <th>None</th>\n",
       "      <td>0.545455</td>\n",
       "      <td>0.250000</td>\n",
       "    </tr>\n",
       "    <tr>\n",
       "      <th>Severe</th>\n",
       "      <td>0.227273</td>\n",
       "      <td>0.464286</td>\n",
       "    </tr>\n",
       "    <tr>\n",
       "      <th rowspan=\"3\" valign=\"top\">Slowed thinking</th>\n",
       "      <th>Mild</th>\n",
       "      <td>0.272727</td>\n",
       "      <td>0.214286</td>\n",
       "    </tr>\n",
       "    <tr>\n",
       "      <th>None</th>\n",
       "      <td>0.545455</td>\n",
       "      <td>0.357143</td>\n",
       "    </tr>\n",
       "    <tr>\n",
       "      <th>Severe</th>\n",
       "      <td>0.181818</td>\n",
       "      <td>0.428571</td>\n",
       "    </tr>\n",
       "    <tr>\n",
       "      <th rowspan=\"3\" valign=\"top\">Worsened memory</th>\n",
       "      <th>Mild</th>\n",
       "      <td>0.363636</td>\n",
       "      <td>0.285714</td>\n",
       "    </tr>\n",
       "    <tr>\n",
       "      <th>None</th>\n",
       "      <td>0.409091</td>\n",
       "      <td>0.250000</td>\n",
       "    </tr>\n",
       "    <tr>\n",
       "      <th>Severe</th>\n",
       "      <td>0.227273</td>\n",
       "      <td>0.464286</td>\n",
       "    </tr>\n",
       "  </tbody>\n",
       "</table>\n",
       "</div>"
      ],
      "text/plain": [
       "Sleep Deprived                              No       Yes\n",
       "symptom_type           symptom_value                    \n",
       "Lack of energy         Mild           0.181818  0.321429\n",
       "                       None           0.500000  0.107143\n",
       "                       Severe         0.318182  0.571429\n",
       "Mood changes           Mild           0.272727  0.357143\n",
       "                       None           0.500000  0.464286\n",
       "                       Severe         0.227273  0.178571\n",
       "Reduced attention span Mild           0.227273  0.214286\n",
       "                       None           0.454545  0.285714\n",
       "                       Severe         0.318182  0.500000\n",
       "Risky decision-making  Mild           0.227273  0.285714\n",
       "                       None           0.545455  0.250000\n",
       "                       Severe         0.227273  0.464286\n",
       "Slowed thinking        Mild           0.272727  0.214286\n",
       "                       None           0.545455  0.357143\n",
       "                       Severe         0.181818  0.428571\n",
       "Worsened memory        Mild           0.363636  0.285714\n",
       "                       None           0.409091  0.250000\n",
       "                       Severe         0.227273  0.464286"
      ]
     },
     "execution_count": 12,
     "metadata": {},
     "output_type": "execute_result"
    }
   ],
   "source": [
    "# copy the pivot table of counts\n",
    "sleep_dp_cond_probs_pivot = sleep_dp_pivot.copy() \n",
    "\n",
    "# divide all the \"Yes\" counts by total number of Yes\n",
    "sleep_dp_cond_probs_pivot['Yes'] /= total_num_yes \n",
    "\n",
    "# divide all the \"No\" counts by total number of No\n",
    "sleep_dp_cond_probs_pivot['No'] /= total_num_no    \n",
    "\n",
    "# this is now a pivot table containing conditional \n",
    "# probabilities P(symptom | Sleep Deprived)\n",
    "sleep_dp_cond_probs_pivot"
   ]
  },
  {
   "cell_type": "code",
   "execution_count": 15,
   "id": "c73c3f75",
   "metadata": {},
   "outputs": [],
   "source": [
    "# just for sanity, check that every  \n",
    "# conditional distribution sums to 1\n",
    "\n",
    "symptoms = sleep_dep_df.columns[:-1]\n",
    "for symptom in symptoms:\n",
    "    cond_dist_yes = sleep_dp_cond_probs_pivot['Yes'][symptom]\n",
    "    cond_dist_no = sleep_dp_cond_probs_pivot['No'][symptom]\n",
    "    \n",
    "    assert np.allclose(cond_dist_yes.sum(), 1) # does nothing \n",
    "                                               # if True\n",
    "    assert np.allclose(cond_dist_no.sum(), 1)  # does nothing \n",
    "                                               # if True\n",
    "        "
   ]
  },
  {
   "cell_type": "markdown",
   "id": "d00c109d",
   "metadata": {},
   "source": [
    "### Let's predict"
   ]
  },
  {
   "cell_type": "code",
   "execution_count": 16,
   "id": "ed052ff7",
   "metadata": {},
   "outputs": [
    {
     "name": "stdout",
     "output_type": "stream",
     "text": [
      "P(Sleep Deprived = Yes | symptoms) = 0.89\n",
      "Odds in favor of Yes: 8.30\n",
      "Prediction: Yes\n"
     ]
    }
   ],
   "source": [
    "test_case = ['Mild', 'None', 'Mild', 'None', 'Mild', 'None']\n",
    "test_case = ['Severe', 'Mild', 'None', 'Severe', 'Severe', 'Mild']\n",
    "\n",
    "f_y, f_n = class_prob_yes, class_prob_no\n",
    "\n",
    "for j, symptom_name in enumerate(sleep_dep_df.columns[:-1]):\n",
    "    f_y *= sleep_dp_cond_probs_pivot['Yes'][symptom_name][test_case[j]] \n",
    "    f_n *= sleep_dp_cond_probs_pivot['No'][symptom_name][test_case[j]]\n",
    "\n",
    "# Normalize the probabilities (marginalization)\n",
    "# (This is only necessary for obtaining theprobabilities)\n",
    "# (For merely comparing likelihoods, normalization is redundant)\n",
    "p_y = f_y / (f_y + f_n)\n",
    "p_n = f_n / (f_y + f_n)\n",
    "\n",
    "\n",
    "print('P(Sleep Deprived = Yes | symptoms) = %.2f'%(p_y))\n",
    "print('Odds in favor of Yes: %.2f'%(p_y / p_n))\n",
    "    \n",
    "if p_y > p_n:\n",
    "    print('Prediction: Yes')  \n",
    "else:\n",
    "    print('Prediction: No') \n"
   ]
  },
  {
   "cell_type": "markdown",
   "id": "3cc23a94",
   "metadata": {},
   "source": [
    "### Implementing the *Categorical* Naive Bayes classifier with sklearn \n",
    "\n",
    "If we try to use `sleep_dep_df` as is we will get a `ValueError: invalid literal for int() with base 10`, meaning that a string was provided to `int()` that could not be parsed as an integer. \n",
    "\n",
    "Aparently, `sklearn.naive_bayes.CategoricalNB` likes its input in numerical types (perhaps even integers). "
   ]
  },
  {
   "cell_type": "code",
   "execution_count": 17,
   "id": "21c94366",
   "metadata": {},
   "outputs": [
    {
     "name": "stdout",
     "output_type": "stream",
     "text": [
      "Testing datapoint:      Slowed thinking  Reduced attention span  Worsened memory  \\\n",
      "11                0                       0                1   \n",
      "\n",
      "    Risky decision-making  Lack of energy  Mood changes  \n",
      "11                      2               0             2   Model prediction:  [0] \n",
      "\n"
     ]
    }
   ],
   "source": [
    "from sklearn.model_selection import train_test_split\n",
    "from sklearn.naive_bayes import CategoricalNB # <--- the model is \n",
    "                                               # implemented here\n",
    "\n",
    "to_int_dict = {'None': 0, 'Mild': 1, 'Severe': 2, 'Yes': 1, 'No': 0}\n",
    "int_sleep_dep_df = sleep_dep_df.applymap(lambda x: to_int_dict[x])\n",
    "\n",
    "predictors = int_sleep_dep_df.columns[:-1]\n",
    "outcome = int_sleep_dep_df.columns[-1]\n",
    "\n",
    "###############################################\n",
    "# Split data to training and testing datasets #\n",
    "###############################################\n",
    "X_train, X_test, y_train, y_test = \\\n",
    "    train_test_split(int_sleep_dep_df[predictors], \n",
    "                     int_sleep_dep_df[outcome], \n",
    "                     test_size=0.02) # tiny test set: one record\n",
    "\n",
    "##############################################\n",
    "# Initialize an instance of the model object #\n",
    "##############################################\n",
    "model = CategoricalNB()\n",
    "\n",
    "##########################################\n",
    "# Train the model / fit model parameters #\n",
    "##########################################\n",
    "model.fit(X_train, y_train)\n",
    "\n",
    "##################\n",
    "# Test the model #\n",
    "##################\n",
    "print('Testing datapoint: ', X_test, 'Model prediction: ', \n",
    "      model.predict(X_test), '\\n')\n",
    "\n"
   ]
  },
  {
   "cell_type": "markdown",
   "id": "2d1070c6",
   "metadata": {},
   "source": [
    "### Pros and cons of the Naive Bayes Classifier\n",
    "\n",
    "\n",
    "#### Pros\n",
    "\n",
    "* Extensive training not required.  \n",
    "* Relatively fast. \n",
    "* Works with either categorical (se above) or continuous (see below) data. \n",
    "* Not sensitive to irrelevant data. \n",
    "\n",
    "#### Cons\n",
    "\n",
    "* Can have trouble with zero probabilities for categorical variables in the training dataset (data not available). This can be circumvented. \n",
    "* Assumes that all the attributes are independent, which rarely happens. When features are correlated, this assumption will skew predictions (two in fact correlated columns can get more of a 'say' than they should if they are assumed to be independent).\n",
    "* The actual values of the probabilities it produces are often (very) wrong - they should only be used for classification decisions.\n"
   ]
  },
  {
   "cell_type": "markdown",
   "id": "a6a5505e",
   "metadata": {},
   "source": [
    "### Types of the Naive Bayes classifier\n",
    "\n",
    "#### Categorical Naive Bayes \n",
    "\n",
    "**Used:** when the attributes are categorical, i.e., have discrete values that are associated with categories.\n",
    "\n",
    "#### Gaussian Naive Bayes\n",
    "\n",
    "**Used:** when the attributes are continuous. \n",
    "\n",
    "**Assumes:** the attributes $\\sim$ come from Gaussian distributions. Or at least similar. \n",
    "\n",
    "#### Bernoulli Naive Bayes\n",
    "\n",
    "**Used:** when the attributes are binary / boolean.  \n",
    "\n",
    "#### Multinominal Naive Bayes\n",
    "\n",
    "**Used:** when the attributes are frequencies of rare events, such as frequencies of words in document classification.\n",
    "\n",
    "#### Complement Naive Bayes\n",
    " \n",
    "An adaptation of Multinomial NB **used** for imbalanced data sets, i.e., when some classes are much smaller than the others (such that their class probabilities, or weights, require adjustments). \n",
    "\n",
    "#### Optimal Naive Bayes\n",
    "\n",
    "Selects the class that has the best predictions. It is slow because it will go through all the possibilities.\n",
    "\n",
    "\n"
   ]
  },
  {
   "cell_type": "markdown",
   "id": "18077157",
   "metadata": {},
   "source": [
    "## The Gaussian Naive Bayes Classifier\n",
    "\n",
    "### What if the features (symptoms) are continuous variables?\n",
    "\n",
    "|   |   |\n",
    "|:--|:--|\n",
    "| <img src=\"imgs/icon_example.png\" width=\"40\" height=\"\"> | Consider a set of questionnaires / tasks / tests designed to assess symptoms of sleep deprivation. The tests provide scores for Reactions times, Memory, Attention span, and slowed thinking. Calibration (say, by testing $100$ sleep deprived and $100$ well rested people) suggest that: |\n",
    "\n",
    "|                 | Sleep deprived ($\\mu \\pm \\sigma$) | Well rested ($\\mu \\pm \\sigma$) |\n",
    "|:----------------|:----------------------------------|--------------------------------|\n",
    "| Reactions times | $10.5 \\pm 3.2$                    | $7.6 \\pm 1.6$                  |  \n",
    "| Memory          | $7.3 \\pm 2.0$                     | $9.1 \\pm 0.7$                  |\n",
    "| Attention span  | $15.4 \\pm 7.4$                    | $29.9 \\pm 6.8$                 |\n",
    "| Slowed thinking | $6.8 \\pm 2.1$                     | $9.6 \\pm 1.3$                  |  \n",
    "\n",
    "\n",
    "\n"
   ]
  },
  {
   "cell_type": "code",
   "execution_count": 18,
   "id": "d18636d7",
   "metadata": {},
   "outputs": [
    {
     "data": {
      "text/html": [
       "<div>\n",
       "<style scoped>\n",
       "    .dataframe tbody tr th:only-of-type {\n",
       "        vertical-align: middle;\n",
       "    }\n",
       "\n",
       "    .dataframe tbody tr th {\n",
       "        vertical-align: top;\n",
       "    }\n",
       "\n",
       "    .dataframe thead th {\n",
       "        text-align: right;\n",
       "    }\n",
       "</style>\n",
       "<table border=\"1\" class=\"dataframe\">\n",
       "  <thead>\n",
       "    <tr style=\"text-align: right;\">\n",
       "      <th></th>\n",
       "      <th>Reaction time</th>\n",
       "      <th>Memory</th>\n",
       "      <th>Attention span</th>\n",
       "      <th>Slowed thinking</th>\n",
       "      <th>Sleep deprived?</th>\n",
       "    </tr>\n",
       "  </thead>\n",
       "  <tbody>\n",
       "    <tr>\n",
       "      <th>0</th>\n",
       "      <td>8.394743</td>\n",
       "      <td>9.350451</td>\n",
       "      <td>19.057892</td>\n",
       "      <td>10.584085</td>\n",
       "      <td>0.0</td>\n",
       "    </tr>\n",
       "    <tr>\n",
       "      <th>1</th>\n",
       "      <td>7.378777</td>\n",
       "      <td>9.492549</td>\n",
       "      <td>25.824250</td>\n",
       "      <td>8.401185</td>\n",
       "      <td>0.0</td>\n",
       "    </tr>\n",
       "    <tr>\n",
       "      <th>2</th>\n",
       "      <td>8.636302</td>\n",
       "      <td>9.858136</td>\n",
       "      <td>29.935657</td>\n",
       "      <td>10.730488</td>\n",
       "      <td>0.0</td>\n",
       "    </tr>\n",
       "    <tr>\n",
       "      <th>3</th>\n",
       "      <td>10.036848</td>\n",
       "      <td>9.837661</td>\n",
       "      <td>30.219468</td>\n",
       "      <td>11.362329</td>\n",
       "      <td>0.0</td>\n",
       "    </tr>\n",
       "    <tr>\n",
       "      <th>4</th>\n",
       "      <td>7.225355</td>\n",
       "      <td>8.135631</td>\n",
       "      <td>26.839555</td>\n",
       "      <td>10.137465</td>\n",
       "      <td>0.0</td>\n",
       "    </tr>\n",
       "    <tr>\n",
       "      <th>...</th>\n",
       "      <td>...</td>\n",
       "      <td>...</td>\n",
       "      <td>...</td>\n",
       "      <td>...</td>\n",
       "      <td>...</td>\n",
       "    </tr>\n",
       "    <tr>\n",
       "      <th>195</th>\n",
       "      <td>11.733016</td>\n",
       "      <td>6.361649</td>\n",
       "      <td>11.625879</td>\n",
       "      <td>9.011621</td>\n",
       "      <td>1.0</td>\n",
       "    </tr>\n",
       "    <tr>\n",
       "      <th>196</th>\n",
       "      <td>7.671656</td>\n",
       "      <td>3.873731</td>\n",
       "      <td>13.402925</td>\n",
       "      <td>6.716934</td>\n",
       "      <td>1.0</td>\n",
       "    </tr>\n",
       "    <tr>\n",
       "      <th>197</th>\n",
       "      <td>10.991920</td>\n",
       "      <td>10.007745</td>\n",
       "      <td>8.157149</td>\n",
       "      <td>8.231151</td>\n",
       "      <td>1.0</td>\n",
       "    </tr>\n",
       "    <tr>\n",
       "      <th>198</th>\n",
       "      <td>10.686268</td>\n",
       "      <td>7.070920</td>\n",
       "      <td>12.112230</td>\n",
       "      <td>6.859469</td>\n",
       "      <td>1.0</td>\n",
       "    </tr>\n",
       "    <tr>\n",
       "      <th>199</th>\n",
       "      <td>6.842495</td>\n",
       "      <td>9.775633</td>\n",
       "      <td>18.192024</td>\n",
       "      <td>6.862488</td>\n",
       "      <td>1.0</td>\n",
       "    </tr>\n",
       "  </tbody>\n",
       "</table>\n",
       "<p>200 rows × 5 columns</p>\n",
       "</div>"
      ],
      "text/plain": [
       "     Reaction time     Memory  Attention span  Slowed thinking  \\\n",
       "0         8.394743   9.350451       19.057892        10.584085   \n",
       "1         7.378777   9.492549       25.824250         8.401185   \n",
       "2         8.636302   9.858136       29.935657        10.730488   \n",
       "3        10.036848   9.837661       30.219468        11.362329   \n",
       "4         7.225355   8.135631       26.839555        10.137465   \n",
       "..             ...        ...             ...              ...   \n",
       "195      11.733016   6.361649       11.625879         9.011621   \n",
       "196       7.671656   3.873731       13.402925         6.716934   \n",
       "197      10.991920  10.007745        8.157149         8.231151   \n",
       "198      10.686268   7.070920       12.112230         6.859469   \n",
       "199       6.842495   9.775633       18.192024         6.862488   \n",
       "\n",
       "     Sleep deprived?  \n",
       "0                0.0  \n",
       "1                0.0  \n",
       "2                0.0  \n",
       "3                0.0  \n",
       "4                0.0  \n",
       "..               ...  \n",
       "195              1.0  \n",
       "196              1.0  \n",
       "197              1.0  \n",
       "198              1.0  \n",
       "199              1.0  \n",
       "\n",
       "[200 rows x 5 columns]"
      ]
     },
     "execution_count": 18,
     "metadata": {},
     "output_type": "execute_result"
    }
   ],
   "source": [
    "#######################################################\n",
    "# Create some continuous data (with fixed random seed)#\n",
    "#######################################################\n",
    "\n",
    "np.random.seed(42)  # set the random seed to your \n",
    "                    # favorite positive integer\n",
    "                    # (Optional: why is 42 chosen more often\n",
    "                    #            than other positive integers?)\n",
    "\n",
    "n_samples_in_each_class = 100\n",
    "\n",
    "sleep_dep_df = pd.DataFrame({\n",
    "    'Reaction time': np.append(\n",
    "        np.random.normal(loc=7.6, scale=1.6, \n",
    "                         size=n_samples_in_each_class), \n",
    "        np.random.normal(loc=10.5, scale=3.2, \n",
    "                         size=n_samples_in_each_class)),\n",
    "    'Memory': np.append(\n",
    "        np.random.normal(loc=9.1, scale=0.7, \n",
    "                         size=n_samples_in_each_class), \n",
    "        np.random.normal(loc=7.3, scale=2.0, \n",
    "                         size=n_samples_in_each_class)), \n",
    "    'Attention span': np.append(\n",
    "        np.random.normal(loc=29.9, scale=6.8, \n",
    "                         size=n_samples_in_each_class), \n",
    "        np.random.normal(loc=15.4, scale=7.4, \n",
    "                         size=n_samples_in_each_class)), \n",
    "    'Slowed thinking': np.append(\n",
    "        np.random.normal(loc=9.6, scale=1.3, \n",
    "                         size=n_samples_in_each_class), \n",
    "        np.random.normal(loc=6.8, scale=2.1, \n",
    "                         size=n_samples_in_each_class)), \n",
    "    'Sleep deprived?': np.append(\n",
    "        np.zeros(n_samples_in_each_class), \n",
    "        np.ones(n_samples_in_each_class)) \n",
    "})\n",
    "\n",
    "sleep_dep_df"
   ]
  },
  {
   "cell_type": "markdown",
   "id": "38b751dc",
   "metadata": {},
   "source": [
    "## Our goal is still to learn...\n",
    "\n",
    "$$\\large P_\\theta(\\text{Sleep Deprived} \\mid symptom_1, symptom_2, symptom_3, \\dots)$$\n",
    "\n",
    "...but now for continuous-valued symptoms.\n",
    "\n",
    "<br>"
   ]
  },
  {
   "cell_type": "markdown",
   "id": "53029bfd",
   "metadata": {},
   "source": [
    "### To create a naive Bayes classifier, we just need to learn...\n",
    "*  ${\\large P_\\theta(\\text{Sleep Deprived})}$ (base rate)\n",
    "* ${\\large P_\\theta(symptom_j \\mid \\text{Sleep Deprived})}$ (class conditional probability $j$)\n",
    "\n",
    "...where here the class conditional probability now must be for continuous $symptom_j$. \n",
    "\n",
    "<br>"
   ]
  },
  {
   "cell_type": "markdown",
   "id": "41f21094",
   "metadata": {},
   "source": [
    "# New assumption: Gaussianity\n",
    "\n",
    "$${ P_\\theta(symptom_j \\mid \\text{Sleep Deprived = yes}) = \\mathcal{N}(symptom_j \\mid \\,\\,\\mu_{j,\\, \\text{yes}},\\,\\sigma^2_{j,\\, \\text{yes}})}$$\n",
    "$${ P_\\theta(symptom_j \\mid \\text{Sleep Deprived = no}) = \\mathcal{N}(symptom_j \\mid \\,\\,\\mu_{j,\\, \\text{no}},\\,\\sigma^2_{j,\\, \\text{no}})}$$\n",
    "\n",
    "(The class conditional distributions are Gaussian.)\n",
    "\n",
    "#### Question: Why do we have to make any assumption?\n",
    "\n",
    "<br>"
   ]
  },
  {
   "cell_type": "markdown",
   "id": "e9db4225",
   "metadata": {},
   "source": [
    "### Reminder: the Normal (Gaussian) distribution\n",
    "\n",
    "$${\\large \\frac 1{\\sqrt{2\\pi \\sigma^2}} e^{\\frac{-(x-\\mu)^2}{2\\sigma^2}}}$$ \n",
    "$$\\text{ where } {\\large \\mu = mean} \\text{ and }{\\large \\sigma^2 = variance}$$"
   ]
  },
  {
   "cell_type": "markdown",
   "id": "b3c7c546",
   "metadata": {
    "slideshow": {
     "slide_type": "slide"
    }
   },
   "source": [
    "### The Normal Distribution\n",
    "\n",
    "<img src=\"https://github.com/david-biron/DATA221imgs/blob/main/NormalDistribution.png?raw=true\" alt=\"Normal Distribution\" width=\"500\">\n",
    "\n"
   ]
  },
  {
   "cell_type": "markdown",
   "id": "aab8e730",
   "metadata": {
    "slideshow": {
     "slide_type": "slide"
    }
   },
   "source": [
    "<img src=\"https://github.com/david-biron/DATA221imgs/blob/main/StandardDeviations.png?raw=true\" alt=\"Standard Deviations\" width=\"500\">"
   ]
  },
  {
   "cell_type": "code",
   "execution_count": 20,
   "id": "047043dc",
   "metadata": {},
   "outputs": [
    {
     "data": {
      "image/png": "[encoded data removed]",
      "text/plain": [
       "<Figure size 640x480 with 1 Axes>"
      ]
     },
     "metadata": {},
     "output_type": "display_data"
    }
   ],
   "source": [
    "# Obtaining/plotting a gaussian distribution usinf scipy\n",
    "\n",
    "import matplotlib.pyplot as plt\n",
    "from scipy.optimize import minimize\n",
    "import numpy as np\n",
    "import pandas as pd\n",
    "import scipy.stats\n",
    "\n",
    "dx = 0.1 # We'll keep this value for later code cells\n",
    "xrange = np.arange(30, 80, dx) # We'll keep this array for later\n",
    "gauss = scipy.stats.norm.pdf(xrange, loc=50.9, scale=4.5)\n",
    "plt.plot(xrange, gauss);\n"
   ]
  },
  {
   "cell_type": "markdown",
   "id": "ff428047",
   "metadata": {},
   "source": [
    "#### The values of a probability density function are not limited to $[0,1]$ \n",
    "\n",
    "(Rather, the **area** under the PDF is exactly $1$). "
   ]
  },
  {
   "cell_type": "code",
   "execution_count": 21,
   "id": "5d3c2fd4",
   "metadata": {},
   "outputs": [
    {
     "data": {
      "text/plain": [
       "3.989422804014327"
      ]
     },
     "execution_count": 21,
     "metadata": {},
     "output_type": "execute_result"
    }
   ],
   "source": [
    "scipy.stats.norm.pdf(1, loc=1, scale=0.1).max()\n"
   ]
  },
  {
   "cell_type": "markdown",
   "id": "5c0701bd",
   "metadata": {},
   "source": [
    "## Learning the class conditional Gaussians\n",
    "\n",
    "$${ P_\\theta(symptom_j \\mid \\text{Sleep Deprived = yes}) = \\mathcal{N}(symptom_j \\mid \\,\\,\\mu_{j,\\, \\text{yes}},\\,\\sigma^2_{j,\\, \\text{yes}})}$$\n",
    "\n",
    "#### Maximum likelihood estimation\n",
    "\n",
    "$$\\hat{\\mu}_{j,\\, \\text{yes}} \\leftarrow \\text{ Mean of $symptom_j$ among data points with Sleep Deprived = yes} $$\n",
    "$$\\hat{\\sigma}^2_{j,\\, \\text{yes}} \\leftarrow \\text{ Variance of $symptom_j$ among data points with Sleep Deprived = yes} $$"
   ]
  },
  {
   "cell_type": "code",
   "execution_count": 28,
   "id": "7398b18b",
   "metadata": {
    "scrolled": false
   },
   "outputs": [
    {
     "data": {
      "image/png": "[encoded data removed]",
      "text/plain": [
       "<Figure size 640x480 with 1 Axes>"
      ]
     },
     "metadata": {},
     "output_type": "display_data"
    },
    {
     "data": {
      "image/png": "[encoded data removed]",
      "text/plain": [
       "<Figure size 640x480 with 1 Axes>"
      ]
     },
     "metadata": {},
     "output_type": "display_data"
    },
    {
     "data": {
      "image/png": "[encoded data removed]",
      "text/plain": [
       "<Figure size 640x480 with 1 Axes>"
      ]
     },
     "metadata": {},
     "output_type": "display_data"
    },
    {
     "data": {
      "image/png": "[encoded data removed]",
      "text/plain": [
       "<Figure size 640x480 with 1 Axes>"
      ]
     },
     "metadata": {},
     "output_type": "display_data"
    }
   ],
   "source": [
    "symptoms = ['Reaction time', 'Memory', \n",
    "            'Attention span', 'Slowed thinking']\n",
    "xrange = np.arange(0, 50, dx)\n",
    "\n",
    "mus_yes = []\n",
    "sigs_yes = []\n",
    "\n",
    "mus_no = []\n",
    "sigs_no = []\n",
    "\n",
    "idx_sr = sleep_dep_df['Sleep deprived?']\n",
    "for symptom in symptoms:\n",
    "    # calculate class-conditional mean and std deviation \n",
    "    mu_j_yes = sleep_dep_df[idx_sr == 1.0][symptom].mean()\n",
    "    sig_j_yes = sleep_dep_df[idx_sr == 1.0][symptom].std()\n",
    "    \n",
    "    # store the estimates (we'll use them later)\n",
    "    mus_yes.append(mu_j_yes)  \n",
    "    sigs_yes.append(sig_j_yes)\n",
    "    \n",
    "    # calculate and plot class-conditional gaussian pdf\n",
    "    gaussian_yes = scipy.stats.norm.pdf(xrange, \n",
    "                                        loc=mu_j_yes, \n",
    "                                        scale=sig_j_yes)\n",
    "    plt.plot(xrange, gaussian_yes, label='Sleep deprived = yes')\n",
    "    \n",
    "    # calculate class-conditional mean and std deviation \n",
    "    mu_j_no = sleep_dep_df[idx_sr == 0.0][symptom].mean()\n",
    "    sig_j_no = sleep_dep_df[idx_sr == 0.0][symptom].std()\n",
    "    \n",
    "    # store the estimates (we'll use them later)\n",
    "    mus_no.append(mu_j_no)  # store the estimates \n",
    "                            # (we'll use them later)\n",
    "    sigs_no.append(sig_j_no)\n",
    "    \n",
    "    # calculate and plot class-conditional gaussian pdf\n",
    "    gaussian_no = scipy.stats.norm.pdf(xrange, \n",
    "                                       loc=mu_j_no, \n",
    "                                       scale=sig_j_no)\n",
    "    plt.plot(xrange, gaussian_no, label='Sleep deprived = no')\n",
    "    \n",
    "    plt.xlabel(symptom)\n",
    "    plt.ylabel('Probability density')\n",
    "    plt.title('Learned class conditional Gaussians')\n",
    "    \n",
    "    plt.legend()\n",
    "    plt.show();\n"
   ]
  },
  {
   "cell_type": "markdown",
   "id": "1656ef73",
   "metadata": {},
   "source": [
    "### Compute the posterior \n",
    "\n",
    "* Note the use of the **independence** assumption (where?)\n",
    "* Note the use of **marginalization** (where?) \n",
    "\n",
    "${ P_\\theta(\\text{Sleep Deprived = yes} \\mid symptom_1, symptom_2, symptom_3, \\dots) = }$\n",
    "\n",
    "</br> \n",
    "\n",
    "$${ \\frac{\\Big[\\prod_j P_\\theta(symptom_j \\mid \\text{Sleep Deprived = yes})\\Big] \\, P_\\theta(\\text{Sleep Deprived = yes})}{\\Big[\\prod_j P_\\theta(symptom_j \\mid \\text{Sleep Deprived = yes})\\Big] \\, P_\\theta(\\text{Sleep Deprived = yes}) + \\Big[\\prod_j P_\\theta(symptom_j \\mid \\text{Sleep Deprived = no})\\Big] \\, P_\\theta(\\text{Sleep Deprived = no})}}$$\n",
    "<br>"
   ]
  },
  {
   "cell_type": "markdown",
   "id": "ded88fde",
   "metadata": {},
   "source": [
    "### where the likelihood is a product of Gaussians:\n",
    "$$\\prod_j P_\\theta(symptom_j \\mid \\text{Sleep Deprived = yes}) = \\prod_j \\mathcal{N}(symptom_j \\mid \\mu_{j,\\,\\text{yes}},\\,\\sigma^2_{j,\\,\\text{yes}})$$"
   ]
  },
  {
   "cell_type": "markdown",
   "id": "7dca7bc7",
   "metadata": {},
   "source": [
    "### First attempt: directly calculate the posterior and test it\n",
    "\n",
    "Given a score for each symptom we'll get the contribution to the likelihood from the relevant Gaussian above and multiply the lot: "
   ]
  },
  {
   "cell_type": "code",
   "execution_count": 32,
   "id": "1b7b52e3",
   "metadata": {},
   "outputs": [
    {
     "name": "stdout",
     "output_type": "stream",
     "text": [
      "Posteriors that Sleep Deprived = yes: 0.002095\n",
      "Well rested\n",
      "\n",
      "Posteriors that Sleep Deprived = yes: 0.999035\n",
      "Sleep deprived\n",
      "\n"
     ]
    }
   ],
   "source": [
    "def sleep_dep_likelihoods(scrs):\n",
    "    '''\n",
    "    Input: a list or an array of scores: \n",
    "          [reaction time, memory, attention span, slowed thinking]\n",
    "    Output: likelihoods for (Sleep Deprived=no) and likelihood for \n",
    "            (Sleep Deprived=yes) (in this order) given the scores.  \n",
    "    '''\n",
    "    likelihood_no, likelihood_yes = 1,1  \n",
    "    for mu_j_no, sig_j_no, mu_j_yes, sig_j_yes, scr in zip(mus_no, \n",
    "                                                           sigs_no, \n",
    "                                                           mus_yes, \n",
    "                                                           sigs_yes, \n",
    "                                                           scrs): \n",
    "        likelihood_no *= scipy.stats.norm.pdf(scr, \n",
    "                                              loc=mu_j_no, \n",
    "                                              scale=sig_j_no)\n",
    "        likelihood_yes *= scipy.stats.norm.pdf(scr, \n",
    "                                               loc=mu_j_yes, \n",
    "                                               scale=sig_j_yes)\n",
    "    return likelihood_no, likelihood_yes\n",
    "\n",
    "def sleep_dep_posteriors(likelihood_no, likelihood_yes, \n",
    "                         baserate_no=0.5, baserate_yes=0.5): \n",
    "    '''\n",
    "    Input: likelihoods and base rates for (Sleep Deprived = yes) \n",
    "           and (Sleep Deprived = no)\n",
    "    Output: Posterior of (Sleep Deprived = yes)\n",
    "    '''\n",
    "    numer = (likelihood_yes * baserate_yes)\n",
    "    denom = (likelihood_yes * baserate_yes) + \\\n",
    "            (likelihood_no * baserate_no)\n",
    "    return numer / denom\n",
    "\n",
    "def gauss_nb_decide(scrs, baserate_no=0.5, baserate_yes=0.5):\n",
    "    '''\n",
    "    Self explanatory... \n",
    "    '''\n",
    "    likelihood_no, likelihood_yes = sleep_dep_likelihoods(scrs)\n",
    "    posterior_yes = sleep_dep_posteriors(likelihood_no, likelihood_yes)\n",
    "    print('Posteriors that Sleep Deprived = yes: %f'%(posterior_yes))\n",
    "    if posterior_yes < 0.5:\n",
    "        print('Well rested\\n')\n",
    "    else: \n",
    "        print('Sleep deprived\\n')\n",
    "        \n",
    "scores = [9, 10, 30, 12] \n",
    "gauss_nb_decide(scores)\n",
    "\n",
    "scores = [12, 8, 18, 7]    \n",
    "gauss_nb_decide(scores)\n"
   ]
  },
  {
   "cell_type": "markdown",
   "id": "589eed56",
   "metadata": {},
   "source": [
    "#### Note (2): Beware of the Underfloat\n",
    "\n",
    "Notice how small the likelihoods can get. \n",
    "\n",
    "It would be easy to run into [arithmetic underflow issues](https://en.wikipedia.org/wiki/Arithmetic_underflow).\n",
    "\n",
    "What could be done to ameliorate the problem? \n"
   ]
  },
  {
   "cell_type": "code",
   "execution_count": 33,
   "id": "81dc72d6",
   "metadata": {},
   "outputs": [
    {
     "name": "stdout",
     "output_type": "stream",
     "text": [
      "Log odds of Sleep Deprived = yes: -6.165938\n",
      "Well rested\n",
      "\n",
      "Log odds of Sleep Deprived = yes: 6.942325\n",
      "Sleep deprived\n",
      "\n"
     ]
    }
   ],
   "source": [
    "def sleep_dep_log_likelihoods(scrs):\n",
    "    '''\n",
    "    Input: a list or an array of scores: \n",
    "           [reaction time, memory, attention span, slowed thinking]\n",
    "    Output: log likelihood for (Sleep Deprived=no) and \n",
    "            log likelihood for (Sleep Deprived=yes) \n",
    "            (in this order) given the scores.  \n",
    "    '''\n",
    "    log_likelihood_no, log_likelihood_yes = 0, 0  \n",
    "    for mu_j_no, sig_j_no, mu_j_yes, sig_j_yes, scr in zip(mus_no, \n",
    "                                                           sigs_no, \n",
    "                                                           mus_yes, \n",
    "                                                           sigs_yes, \n",
    "                                                           scrs): \n",
    "        log_likelihood_no += scipy.stats.norm.logpdf(scr, \n",
    "                                                     loc=mu_j_no, \n",
    "                                                     scale=sig_j_no)\n",
    "        log_likelihood_yes += scipy.stats.norm.logpdf(scr, \n",
    "                                                      loc=mu_j_yes, \n",
    "                                                      scale=sig_j_yes)\n",
    "    return log_likelihood_no, log_likelihood_yes\n",
    "\n",
    "def sleep_dep_log_posterior_odds(log_likelihood_no, \n",
    "                                 log_likelihood_yes, \n",
    "                                 baserate_no=0.5, baserate_yes=0.5): \n",
    "    '''\n",
    "    Input: likelihoods and base rates for (Sleep Deprived = no) \n",
    "           and (Sleep Deprived = yes)\n",
    "    Output: Log posterior odds of (Sleep Deprived = yes)\n",
    "    '''\n",
    "    log_unnorm_posterior_no = log_likelihood_no+np.log(baserate_no)\n",
    "    log_unnorm_posterior_yes = log_likelihood_yes+np.log(baserate_yes)\n",
    "    return log_unnorm_posterior_yes - log_unnorm_posterior_no\n",
    "\n",
    "def gauss_nb_decide(scrs, baserate_no=0.5, baserate_yes=0.5): \n",
    "    log_likelihood_no, log_likelihood_yes = \\\n",
    "                       sleep_dep_log_likelihoods(scrs)\n",
    "    log_posterior_odds = \\\n",
    "            sleep_dep_log_posterior_odds(log_likelihood_no, \n",
    "                                         log_likelihood_yes, \n",
    "                                         baserate_no=baserate_no, \n",
    "                                         baserate_yes=baserate_yes)\n",
    "\n",
    "    print('Log odds of Sleep Deprived = yes: %f'%log_posterior_odds)\n",
    "    if log_posterior_odds < 0:\n",
    "        print('Well rested\\n')\n",
    "    else: \n",
    "        print('Sleep deprived\\n')\n",
    "        \n",
    "scores = [9, 10, 30, 12] \n",
    "gauss_nb_decide(scores)\n",
    "\n",
    "scores = [12, 8, 18, 7]    \n",
    "gauss_nb_decide(scores)\n"
   ]
  },
  {
   "cell_type": "markdown",
   "id": "7ddfcb28",
   "metadata": {},
   "source": [
    "### Implementing the *Gaussian* Naive Bayes Classifier with sklearn\n",
    "\n",
    "#### Instead of the summary statistics, this would require the actual data (which we need to manufacture here). \n",
    "\n"
   ]
  },
  {
   "cell_type": "code",
   "execution_count": 34,
   "id": "8343ab2d",
   "metadata": {},
   "outputs": [
    {
     "name": "stdout",
     "output_type": "stream",
     "text": [
      "Testing datapoint:       Reaction time    Memory  Attention span  Slowed thinking\n",
      "105      11.792963  7.534655       11.795272         8.072621 Model prediction:  [1.] \n",
      "\n"
     ]
    }
   ],
   "source": [
    "from sklearn.model_selection import train_test_split\n",
    "from sklearn.naive_bayes import GaussianNB # <--- the model is \n",
    "                                           # implemented here\n",
    "\n",
    "predictors = sleep_dep_df.columns[:-1]\n",
    "outcome = sleep_dep_df.columns[-1]\n",
    "\n",
    "###############################################\n",
    "# Split data to training and testing datasets #\n",
    "###############################################\n",
    "X_train, X_test, y_train, y_test = \\\n",
    "    train_test_split(sleep_dep_df[predictors], \n",
    "                     sleep_dep_df[outcome], \n",
    "                     test_size=0.005) # tiny test set: one record\n",
    "\n",
    "##############################################\n",
    "# Initialize an instance of the model object #\n",
    "##############################################\n",
    "model = GaussianNB()\n",
    "\n",
    "##########################################\n",
    "# Train the model / fit model parameters #\n",
    "##########################################\n",
    "model.fit(X_train, y_train)\n",
    "\n",
    "##################\n",
    "# Test the model #\n",
    "##################\n",
    "print('Testing datapoint: ', X_test, 'Model prediction: ', \n",
    "      model.predict(X_test), '\\n')\n",
    "\n"
   ]
  },
  {
   "cell_type": "markdown",
   "id": "23332838",
   "metadata": {},
   "source": [
    "## SPAM / HAM and the zero probability problem \n",
    "\n",
    "Ham refers to genuine and potentially informative mail. \n",
    "\n",
    "Spam is spurious and unsolicited mail with potential harmful intentions (or simply bothersome). \n",
    "\n",
    "A Naive Bayes classifier can distinguish between the two (to a certain degree) based on the words that make up the message. \n",
    "\n",
    "#### The available classified data \n",
    "\n",
    "(some wrangling required) "
   ]
  },
  {
   "cell_type": "code",
   "execution_count": 35,
   "id": "bbdfa8b2",
   "metadata": {
    "scrolled": true
   },
   "outputs": [
    {
     "ename": "UnicodeDecodeError",
     "evalue": "'utf-8' codec can't decode bytes in position 606-607: invalid continuation byte",
     "output_type": "error",
     "traceback": [
      "\u001b[0;31m---------------------------------------------------------------------------\u001b[0m",
      "\u001b[0;31mUnicodeDecodeError\u001b[0m                        Traceback (most recent call last)",
      "Cell \u001b[0;32mIn[35], line 1\u001b[0m\n\u001b[0;32m----> 1\u001b[0m spam_df \u001b[38;5;241m=\u001b[39m \u001b[43mpd\u001b[49m\u001b[38;5;241;43m.\u001b[39;49m\u001b[43mread_csv\u001b[49m\u001b[43m(\u001b[49m\u001b[38;5;124;43m'\u001b[39;49m\u001b[38;5;124;43mdata/spam.csv\u001b[39;49m\u001b[38;5;124;43m'\u001b[39;49m\u001b[43m)\u001b[49m\n",
      "File \u001b[0;32m~/opt/anaconda3/lib/python3.9/site-packages/pandas/util/_decorators.py:311\u001b[0m, in \u001b[0;36mdeprecate_nonkeyword_arguments.<locals>.decorate.<locals>.wrapper\u001b[0;34m(*args, **kwargs)\u001b[0m\n\u001b[1;32m    305\u001b[0m \u001b[38;5;28;01mif\u001b[39;00m \u001b[38;5;28mlen\u001b[39m(args) \u001b[38;5;241m>\u001b[39m num_allow_args:\n\u001b[1;32m    306\u001b[0m     warnings\u001b[38;5;241m.\u001b[39mwarn(\n\u001b[1;32m    307\u001b[0m         msg\u001b[38;5;241m.\u001b[39mformat(arguments\u001b[38;5;241m=\u001b[39marguments),\n\u001b[1;32m    308\u001b[0m         \u001b[38;5;167;01mFutureWarning\u001b[39;00m,\n\u001b[1;32m    309\u001b[0m         stacklevel\u001b[38;5;241m=\u001b[39mstacklevel,\n\u001b[1;32m    310\u001b[0m     )\n\u001b[0;32m--> 311\u001b[0m \u001b[38;5;28;01mreturn\u001b[39;00m \u001b[43mfunc\u001b[49m\u001b[43m(\u001b[49m\u001b[38;5;241;43m*\u001b[39;49m\u001b[43margs\u001b[49m\u001b[43m,\u001b[49m\u001b[43m \u001b[49m\u001b[38;5;241;43m*\u001b[39;49m\u001b[38;5;241;43m*\u001b[39;49m\u001b[43mkwargs\u001b[49m\u001b[43m)\u001b[49m\n",
      "File \u001b[0;32m~/opt/anaconda3/lib/python3.9/site-packages/pandas/io/parsers/readers.py:586\u001b[0m, in \u001b[0;36mread_csv\u001b[0;34m(filepath_or_buffer, sep, delimiter, header, names, index_col, usecols, squeeze, prefix, mangle_dupe_cols, dtype, engine, converters, true_values, false_values, skipinitialspace, skiprows, skipfooter, nrows, na_values, keep_default_na, na_filter, verbose, skip_blank_lines, parse_dates, infer_datetime_format, keep_date_col, date_parser, dayfirst, cache_dates, iterator, chunksize, compression, thousands, decimal, lineterminator, quotechar, quoting, doublequote, escapechar, comment, encoding, encoding_errors, dialect, error_bad_lines, warn_bad_lines, on_bad_lines, delim_whitespace, low_memory, memory_map, float_precision, storage_options)\u001b[0m\n\u001b[1;32m    571\u001b[0m kwds_defaults \u001b[38;5;241m=\u001b[39m _refine_defaults_read(\n\u001b[1;32m    572\u001b[0m     dialect,\n\u001b[1;32m    573\u001b[0m     delimiter,\n\u001b[0;32m   (...)\u001b[0m\n\u001b[1;32m    582\u001b[0m     defaults\u001b[38;5;241m=\u001b[39m{\u001b[38;5;124m\"\u001b[39m\u001b[38;5;124mdelimiter\u001b[39m\u001b[38;5;124m\"\u001b[39m: \u001b[38;5;124m\"\u001b[39m\u001b[38;5;124m,\u001b[39m\u001b[38;5;124m\"\u001b[39m},\n\u001b[1;32m    583\u001b[0m )\n\u001b[1;32m    584\u001b[0m kwds\u001b[38;5;241m.\u001b[39mupdate(kwds_defaults)\n\u001b[0;32m--> 586\u001b[0m \u001b[38;5;28;01mreturn\u001b[39;00m \u001b[43m_read\u001b[49m\u001b[43m(\u001b[49m\u001b[43mfilepath_or_buffer\u001b[49m\u001b[43m,\u001b[49m\u001b[43m \u001b[49m\u001b[43mkwds\u001b[49m\u001b[43m)\u001b[49m\n",
      "File \u001b[0;32m~/opt/anaconda3/lib/python3.9/site-packages/pandas/io/parsers/readers.py:482\u001b[0m, in \u001b[0;36m_read\u001b[0;34m(filepath_or_buffer, kwds)\u001b[0m\n\u001b[1;32m    479\u001b[0m _validate_names(kwds\u001b[38;5;241m.\u001b[39mget(\u001b[38;5;124m\"\u001b[39m\u001b[38;5;124mnames\u001b[39m\u001b[38;5;124m\"\u001b[39m, \u001b[38;5;28;01mNone\u001b[39;00m))\n\u001b[1;32m    481\u001b[0m \u001b[38;5;66;03m# Create the parser.\u001b[39;00m\n\u001b[0;32m--> 482\u001b[0m parser \u001b[38;5;241m=\u001b[39m \u001b[43mTextFileReader\u001b[49m\u001b[43m(\u001b[49m\u001b[43mfilepath_or_buffer\u001b[49m\u001b[43m,\u001b[49m\u001b[43m \u001b[49m\u001b[38;5;241;43m*\u001b[39;49m\u001b[38;5;241;43m*\u001b[39;49m\u001b[43mkwds\u001b[49m\u001b[43m)\u001b[49m\n\u001b[1;32m    484\u001b[0m \u001b[38;5;28;01mif\u001b[39;00m chunksize \u001b[38;5;129;01mor\u001b[39;00m iterator:\n\u001b[1;32m    485\u001b[0m     \u001b[38;5;28;01mreturn\u001b[39;00m parser\n",
      "File \u001b[0;32m~/opt/anaconda3/lib/python3.9/site-packages/pandas/io/parsers/readers.py:811\u001b[0m, in \u001b[0;36mTextFileReader.__init__\u001b[0;34m(self, f, engine, **kwds)\u001b[0m\n\u001b[1;32m    808\u001b[0m \u001b[38;5;28;01mif\u001b[39;00m \u001b[38;5;124m\"\u001b[39m\u001b[38;5;124mhas_index_names\u001b[39m\u001b[38;5;124m\"\u001b[39m \u001b[38;5;129;01min\u001b[39;00m kwds:\n\u001b[1;32m    809\u001b[0m     \u001b[38;5;28mself\u001b[39m\u001b[38;5;241m.\u001b[39moptions[\u001b[38;5;124m\"\u001b[39m\u001b[38;5;124mhas_index_names\u001b[39m\u001b[38;5;124m\"\u001b[39m] \u001b[38;5;241m=\u001b[39m kwds[\u001b[38;5;124m\"\u001b[39m\u001b[38;5;124mhas_index_names\u001b[39m\u001b[38;5;124m\"\u001b[39m]\n\u001b[0;32m--> 811\u001b[0m \u001b[38;5;28mself\u001b[39m\u001b[38;5;241m.\u001b[39m_engine \u001b[38;5;241m=\u001b[39m \u001b[38;5;28;43mself\u001b[39;49m\u001b[38;5;241;43m.\u001b[39;49m\u001b[43m_make_engine\u001b[49m\u001b[43m(\u001b[49m\u001b[38;5;28;43mself\u001b[39;49m\u001b[38;5;241;43m.\u001b[39;49m\u001b[43mengine\u001b[49m\u001b[43m)\u001b[49m\n",
      "File \u001b[0;32m~/opt/anaconda3/lib/python3.9/site-packages/pandas/io/parsers/readers.py:1040\u001b[0m, in \u001b[0;36mTextFileReader._make_engine\u001b[0;34m(self, engine)\u001b[0m\n\u001b[1;32m   1036\u001b[0m     \u001b[38;5;28;01mraise\u001b[39;00m \u001b[38;5;167;01mValueError\u001b[39;00m(\n\u001b[1;32m   1037\u001b[0m         \u001b[38;5;124mf\u001b[39m\u001b[38;5;124m\"\u001b[39m\u001b[38;5;124mUnknown engine: \u001b[39m\u001b[38;5;132;01m{\u001b[39;00mengine\u001b[38;5;132;01m}\u001b[39;00m\u001b[38;5;124m (valid options are \u001b[39m\u001b[38;5;132;01m{\u001b[39;00mmapping\u001b[38;5;241m.\u001b[39mkeys()\u001b[38;5;132;01m}\u001b[39;00m\u001b[38;5;124m)\u001b[39m\u001b[38;5;124m\"\u001b[39m\n\u001b[1;32m   1038\u001b[0m     )\n\u001b[1;32m   1039\u001b[0m \u001b[38;5;66;03m# error: Too many arguments for \"ParserBase\"\u001b[39;00m\n\u001b[0;32m-> 1040\u001b[0m \u001b[38;5;28;01mreturn\u001b[39;00m \u001b[43mmapping\u001b[49m\u001b[43m[\u001b[49m\u001b[43mengine\u001b[49m\u001b[43m]\u001b[49m\u001b[43m(\u001b[49m\u001b[38;5;28;43mself\u001b[39;49m\u001b[38;5;241;43m.\u001b[39;49m\u001b[43mf\u001b[49m\u001b[43m,\u001b[49m\u001b[43m \u001b[49m\u001b[38;5;241;43m*\u001b[39;49m\u001b[38;5;241;43m*\u001b[39;49m\u001b[38;5;28;43mself\u001b[39;49m\u001b[38;5;241;43m.\u001b[39;49m\u001b[43moptions\u001b[49m\u001b[43m)\u001b[49m\n",
      "File \u001b[0;32m~/opt/anaconda3/lib/python3.9/site-packages/pandas/io/parsers/c_parser_wrapper.py:69\u001b[0m, in \u001b[0;36mCParserWrapper.__init__\u001b[0;34m(self, src, **kwds)\u001b[0m\n\u001b[1;32m     67\u001b[0m kwds[\u001b[38;5;124m\"\u001b[39m\u001b[38;5;124mdtype\u001b[39m\u001b[38;5;124m\"\u001b[39m] \u001b[38;5;241m=\u001b[39m ensure_dtype_objs(kwds\u001b[38;5;241m.\u001b[39mget(\u001b[38;5;124m\"\u001b[39m\u001b[38;5;124mdtype\u001b[39m\u001b[38;5;124m\"\u001b[39m, \u001b[38;5;28;01mNone\u001b[39;00m))\n\u001b[1;32m     68\u001b[0m \u001b[38;5;28;01mtry\u001b[39;00m:\n\u001b[0;32m---> 69\u001b[0m     \u001b[38;5;28mself\u001b[39m\u001b[38;5;241m.\u001b[39m_reader \u001b[38;5;241m=\u001b[39m \u001b[43mparsers\u001b[49m\u001b[38;5;241;43m.\u001b[39;49m\u001b[43mTextReader\u001b[49m\u001b[43m(\u001b[49m\u001b[38;5;28;43mself\u001b[39;49m\u001b[38;5;241;43m.\u001b[39;49m\u001b[43mhandles\u001b[49m\u001b[38;5;241;43m.\u001b[39;49m\u001b[43mhandle\u001b[49m\u001b[43m,\u001b[49m\u001b[43m \u001b[49m\u001b[38;5;241;43m*\u001b[39;49m\u001b[38;5;241;43m*\u001b[39;49m\u001b[43mkwds\u001b[49m\u001b[43m)\u001b[49m\n\u001b[1;32m     70\u001b[0m \u001b[38;5;28;01mexcept\u001b[39;00m \u001b[38;5;167;01mException\u001b[39;00m:\n\u001b[1;32m     71\u001b[0m     \u001b[38;5;28mself\u001b[39m\u001b[38;5;241m.\u001b[39mhandles\u001b[38;5;241m.\u001b[39mclose()\n",
      "File \u001b[0;32m~/opt/anaconda3/lib/python3.9/site-packages/pandas/_libs/parsers.pyx:542\u001b[0m, in \u001b[0;36mpandas._libs.parsers.TextReader.__cinit__\u001b[0;34m()\u001b[0m\n",
      "File \u001b[0;32m~/opt/anaconda3/lib/python3.9/site-packages/pandas/_libs/parsers.pyx:642\u001b[0m, in \u001b[0;36mpandas._libs.parsers.TextReader._get_header\u001b[0;34m()\u001b[0m\n",
      "File \u001b[0;32m~/opt/anaconda3/lib/python3.9/site-packages/pandas/_libs/parsers.pyx:843\u001b[0m, in \u001b[0;36mpandas._libs.parsers.TextReader._tokenize_rows\u001b[0;34m()\u001b[0m\n",
      "File \u001b[0;32m~/opt/anaconda3/lib/python3.9/site-packages/pandas/_libs/parsers.pyx:1917\u001b[0m, in \u001b[0;36mpandas._libs.parsers.raise_parser_error\u001b[0;34m()\u001b[0m\n",
      "\u001b[0;31mUnicodeDecodeError\u001b[0m: 'utf-8' codec can't decode bytes in position 606-607: invalid continuation byte"
     ]
    }
   ],
   "source": [
    "spam_df = pd.read_csv('data/spam.csv')"
   ]
  },
  {
   "cell_type": "markdown",
   "id": "12f576ea",
   "metadata": {},
   "source": [
    "The `UnicodeDecodeError: ‘utf-8’ codec can’t decode bytes in position 0-1: invalid continuation byte error` is a common error that occurs when trying to read a file with Pandas that contains **non-UTF-8** encoded characters. \n",
    "\n",
    "UTF-8 is a character encoding standard that’s widely used for text files, but it’s not the only encoding format out there...\n",
    "\n",
    "If known, you can specify the encoding format. A common one (that the file may well be encoded in) is ISO-8859-1:\n"
   ]
  },
  {
   "cell_type": "code",
   "execution_count": 36,
   "id": "b64df54c",
   "metadata": {},
   "outputs": [],
   "source": [
    "spam_df = pd.read_csv('data/spam.csv', encoding='ISO-8859-1')"
   ]
  },
  {
   "cell_type": "markdown",
   "id": "c6b6f163",
   "metadata": {},
   "source": [
    "If that does not work, libraries such as `codecs` or `chardet` can help with figuring out the encoding and/or reading the file. "
   ]
  },
  {
   "cell_type": "code",
   "execution_count": null,
   "id": "a0e458ba",
   "metadata": {},
   "outputs": [],
   "source": [
    "spam_df.head()"
   ]
  },
  {
   "cell_type": "code",
   "execution_count": 37,
   "id": "0dae0343",
   "metadata": {},
   "outputs": [
    {
     "name": "stdout",
     "output_type": "stream",
     "text": [
      "N. of hams 4825;  No. of spams: 747.\n"
     ]
    },
    {
     "data": {
      "text/html": [
       "<div>\n",
       "<style scoped>\n",
       "    .dataframe tbody tr th:only-of-type {\n",
       "        vertical-align: middle;\n",
       "    }\n",
       "\n",
       "    .dataframe tbody tr th {\n",
       "        vertical-align: top;\n",
       "    }\n",
       "\n",
       "    .dataframe thead th {\n",
       "        text-align: right;\n",
       "    }\n",
       "</style>\n",
       "<table border=\"1\" class=\"dataframe\">\n",
       "  <thead>\n",
       "    <tr style=\"text-align: right;\">\n",
       "      <th></th>\n",
       "      <th>Class</th>\n",
       "      <th>Text</th>\n",
       "    </tr>\n",
       "  </thead>\n",
       "  <tbody>\n",
       "    <tr>\n",
       "      <th>0</th>\n",
       "      <td>ham</td>\n",
       "      <td>go until jurong point  crazy   available only ...</td>\n",
       "    </tr>\n",
       "    <tr>\n",
       "      <th>1</th>\n",
       "      <td>ham</td>\n",
       "      <td>ok lar    joking wif u oni</td>\n",
       "    </tr>\n",
       "    <tr>\n",
       "      <th>2</th>\n",
       "      <td>spam</td>\n",
       "      <td>free entry in 2 a wkly comp to win fa cup fina...</td>\n",
       "    </tr>\n",
       "    <tr>\n",
       "      <th>3</th>\n",
       "      <td>ham</td>\n",
       "      <td>u dun say so early hor    u c already then say</td>\n",
       "    </tr>\n",
       "    <tr>\n",
       "      <th>4</th>\n",
       "      <td>ham</td>\n",
       "      <td>nah i don't think he goes to usf  he lives aro...</td>\n",
       "    </tr>\n",
       "  </tbody>\n",
       "</table>\n",
       "</div>"
      ],
      "text/plain": [
       "  Class                                               Text\n",
       "0   ham  go until jurong point  crazy   available only ...\n",
       "1   ham                      ok lar    joking wif u oni   \n",
       "2  spam  free entry in 2 a wkly comp to win fa cup fina...\n",
       "3   ham  u dun say so early hor    u c already then say   \n",
       "4   ham  nah i don't think he goes to usf  he lives aro..."
      ]
     },
     "execution_count": 37,
     "metadata": {},
     "output_type": "execute_result"
    }
   ],
   "source": [
    "###########################\n",
    "#   Rudimentary Clean up  #\n",
    "# (much more can be done) #\n",
    "###########################\n",
    "spam_df = pd.read_csv('data/spam.csv', encoding='ISO-8859-1')\n",
    "spam_df = spam_df[['v1', 'v2']].rename(columns={'v1': 'Class', 'v2': 'Text'})\n",
    "spam_df.head()\n",
    "\n",
    "spam_df['Text'] = \\\n",
    "  spam_df['Text'].apply(lambda x: x.replace('.',' ').replace(',', ' '))\n",
    "spam_df['Text'] = \\\n",
    "  spam_df['Text'].apply(lambda x: x.replace(':',' ').replace(';', ' '))\n",
    "spam_df['Text'] = \\\n",
    "  spam_df['Text'].apply(lambda x: x.replace('?',' ').replace('!', ' ')) # are these pertinent? \n",
    "spam_df['Text'] = \\\n",
    "  spam_df['Text'].apply(lambda x: x.replace('(',' ').replace(')', ' '))\n",
    "spam_df['Text'] = \\\n",
    "  spam_df['Text'].apply(lambda x: x.replace('\"',' ').replace('/', ' '))\n",
    "spam_df['Text'] = spam_df['Text'].apply(lambda x: x.lower())\n",
    "\n",
    "# class imbalance is an issue\n",
    "num_ham = len(spam_df[spam_df['Class'] == 'ham'])\n",
    "num_spam = len(spam_df[spam_df['Class'] == 'spam'])              \n",
    "print('N. of hams %d;  No. of spams: %d.'%(num_ham, num_spam)) \n",
    "\n",
    "spam_df.head()\n",
    "\n"
   ]
  },
  {
   "cell_type": "code",
   "execution_count": 38,
   "id": "77c53121",
   "metadata": {},
   "outputs": [
    {
     "data": {
      "image/png": "[encoded data removed]",
      "text/plain": [
       "<Figure size 640x480 with 1 Axes>"
      ]
     },
     "metadata": {},
     "output_type": "display_data"
    }
   ],
   "source": [
    "def count_words(srs): \n",
    "    '''\n",
    "    Input: a Pandas Series (a column from a DataFrame) with strings of \n",
    "           space separated words in every cell \n",
    "    Output: A dictionary with the total word count for every word\n",
    "    '''\n",
    "    word_counts = {}\n",
    "    for text in srs:\n",
    "        words = text.split()\n",
    "        for word in words:\n",
    "            if word in word_counts.keys(): \n",
    "                word_counts[word] += 1\n",
    "            else:\n",
    "                word_counts[word] = 1 \n",
    "    return(word_counts)\n",
    "\n",
    "ham_count_dict = \\\n",
    "    count_words(spam_df[spam_df['Class'] == 'ham']['Text'])\n",
    "spam_count_dict = \\\n",
    "     count_words(spam_df[spam_df['Class'] == 'spam']['Text'])\n",
    "intersection_dict = \\\n",
    "    {k:(ham_count_dict[k]/num_ham, spam_count_dict[k]/num_spam) \n",
    "       for k in ham_count_dict \n",
    "       if k in spam_count_dict}\n",
    "\n",
    "x = [v[0] for v in intersection_dict.values()] # ham count\n",
    "y = [v[1] for v in intersection_dict.values()] # spam count\n",
    "plt.scatter(x, y)\n",
    "plt.xlabel('ham frequencies')\n",
    "plt.ylabel('spam frequencies'); \n"
   ]
  },
  {
   "cell_type": "markdown",
   "id": "46e569da",
   "metadata": {},
   "source": [
    "#### Not the greatest plot... \n",
    "\n",
    "How do we improve it? \n",
    "\n",
    "</br> \n",
    "\n",
    "</br> \n",
    "\n",
    "</br> "
   ]
  },
  {
   "cell_type": "code",
   "execution_count": 41,
   "id": "ec61cc04",
   "metadata": {},
   "outputs": [
    {
     "data": {
      "image/png": "[encoded data removed]",
      "text/plain": [
       "<Figure size 640x480 with 1 Axes>"
      ]
     },
     "metadata": {},
     "output_type": "display_data"
    }
   ],
   "source": [
    "plt.scatter(x, y)\n",
    "plt.plot(x, x, linestyle='dashed', color='C1')\n",
    "plt.xscale('log')\n",
    "plt.yscale('log')\n",
    "plt.xlabel('ham frequencies')\n",
    "plt.ylabel('spam frequencies') \n",
    "plt.text(10**(-1.4), 10**(-3.25), 'More likely in ham')\n",
    "plt.text(10**(-3.5), 10**(-0.4), 'More likely in spam')\n",
    "\n",
    "N_ham = len(ham_count_dict)\n",
    "N_spam = len(spam_count_dict)\n",
    "N_both = len(intersection_dict)\n",
    "plt.suptitle('No. or words in both ham and spam: %d'%N_both, \n",
    "             fontsize=14, fontweight=\"bold\",)\n",
    "plt.title('No. of words in ham: %d; and in spam: %d.'%(N_ham,\n",
    "                                                          N_spam));\n"
   ]
  },
  {
   "cell_type": "markdown",
   "id": "6518173a",
   "metadata": {},
   "source": [
    "#### What do we see? \n",
    "\n",
    "* Some words are more likely in spams and some are less. \n",
    "* Only $\\sim 1,000$ words were found both in ham and in spam as compared to $\\sim 7,000$ and $3,000$ in the individual classes.  \n"
   ]
  },
  {
   "cell_type": "markdown",
   "id": "2b6bb788",
   "metadata": {},
   "source": [
    "### The Zero Probability Problem \n",
    "\n",
    "A disadvantage of Naive-Bayes is that in the absence of occurrences of a certain attribute value (e.g., a word) in a class (e.g., in ham or in spam), the frequency-based probability estimate will be zero. \n",
    "\n",
    "If multiplied by the other probabilities it will zero the product: \n",
    "\n",
    "${ P(\\text{spam} | word_1, word_2, word_3, \\dots) = } \n",
    "{\\large \n",
    "\\frac{\\overbrace{P(word_1 | \\text{spam})P(word_2 | \\text{spam})P(word_3 | \\text{spam})}^{\\text{Prob. of independent words given spam}} \\ \\ P(\\text{spam}) }{P(word_1) P(word_2) P(word_3) \\dots}}$\n",
    "\n",
    "</br> \n",
    "\n",
    "</br> \n",
    "\n",
    "$\\sim \\underbrace{P(word_1 | \\text{spam})}_{\\text{conditional Probability}_1}\n",
    "      \\overbrace{\\color{red} P(word_2 | \\text{spam})}^{\\text{conditional Probability}_2 = {\\color{red} 0}}\n",
    "      \\underbrace{P(word_3 | \\text{spam})}_{\\text{conditional Probability}_3} \\ \\       \n",
    "      \\overbrace{P(\\text{spam})}^{\\text{Class Probability}} = \\color{red} 0$\n",
    "\n",
    "</br>\n",
    "\n",
    "</br> \n",
    "\n",
    "\n",
    "\n",
    "\n"
   ]
  },
  {
   "cell_type": "markdown",
   "id": "dd330f02",
   "metadata": {},
   "source": [
    "#### How about just ignoring words that do not appear in the class and only using the ones that do? \n",
    "\n",
    "${ P(\\text{spam} | word_1, word_2, word_3, \\dots) \\sim P(word_1 | \\text{spam}) \\color{red} P(word_2 | \\text{spam})P(word_3 | \\text{spam}) \\ \\ P(\\text{spam})}$\n",
    "\n",
    "${ P(\\text{ham} | word_1, word_2, word_3, \\dots) \\sim P(word_1 | \\text{ham}) \\color{red} P(word_2 | \\text{ham})P(word_3 | \\text{ham}) \\ \\ P(\\text{ham})}$\n",
    "\n",
    "\n",
    "\n",
    "</br>\n",
    "\n",
    "\n",
    "</br>\n",
    "\n",
    "\n",
    "</br>\n",
    "\n",
    "\n",
    "\n",
    "* If both $\\color{red} P(word_2 | \\text{spam})=0$ and $\\color{red} P(word_2 | \\text{ham})\\neq 0$ then information is thrown away! Finding $word_2$, which is **never** found in spam, should increase the relative likelihood that the message in question is ham. Perhaps by a significant amount. \n",
    "\n",
    "* Removing only $\\color{red} P(word_2 | \\text{spam})$ is even worse. Since probabilities are smaller than $1$, replacing a probability with $1$ in the product only increases the relative likelihood of spam. This clearly does not make sense.  \n",
    "\n"
   ]
  },
  {
   "cell_type": "markdown",
   "id": "1a276c29",
   "metadata": {},
   "source": [
    "#### What else can be done? \n",
    "\n",
    "\n",
    "</br>\n",
    "\n",
    "\n",
    "</br>\n",
    "\n",
    "\n",
    "</br>\n",
    "\n",
    "\n",
    "</br>\n",
    "\n",
    "\n",
    "</br>\n",
    "\n",
    "\n",
    "</br>\n",
    "\n",
    "\n",
    "</br>\n",
    "\n",
    "\n",
    "### One possible solution: Additive Smoothing \n",
    "\n",
    "* Add $1$  to the count for every combinations of attribute value and class, e.g., to every word count in spam and to every word count in ham. Popular and unpopular words will keep their popularity rank, probabilities won't change much for high enough counts, e.g., $10/3000 \\simeq 11/3001$, and there will be no zero counts anywhere. This is sometimes referred to as a **'Laplace Transformation'**.\n",
    "\n",
    "</br> \n",
    "\n",
    "* Add a smaller positive number ($0< \\delta <1$) to 'penalize'/'boost' the relative likelihood even more. [See here](https://www-labs.iro.umontreal.ca/~felipe/IFT6010-Hiver2015/resources-2011/Articles/chen98.pdf). \n",
    "\n",
    "</br> \n",
    "\n",
    "* Good-Turing estimate: $count_i \\rightarrow \\left(count_i+1\\right) {\\large \\frac{\\text{No. of words that appeared $count_i$ times}}{\\text{No. of words that appeared $count_i+1$ times}}}$. [See here](https://www-labs.iro.umontreal.ca/~felipe/IFT6010-Hiver2015/resources-2011/Articles/chen98.pdf).\n",
    "\n",
    "</br> \n",
    "\n",
    "* Sometimes it is possible to replace the zero probabilities with estimates. E.g., guess the frequency of absent words on the basis of another dataset. This is more cumbersome and [does not always yield better results](https://link.springer.com/article/10.3758/s13428-012-0270-5). "
   ]
  },
  {
   "cell_type": "markdown",
   "id": "dae76d95",
   "metadata": {},
   "source": [
    "### Tokenizing the words and counting them with the `nltk` library"
   ]
  },
  {
   "cell_type": "code",
   "execution_count": 42,
   "id": "5ce550bc",
   "metadata": {},
   "outputs": [
    {
     "name": "stdout",
     "output_type": "stream",
     "text": [
      "[('go', 246), ('until', 21), ('jurong', 1), ('point', 11), ('crazy', 9), ('available', 15), ('only', 130), ('in', 808), ('bugis', 7), ('n', 139)]\n",
      "The total number of words is 70635.\n",
      "'Joking' apppears a fraction 7.08e-05 of all words.\n",
      "'Joking' appears 5 times.\n"
     ]
    }
   ],
   "source": [
    "import nltk\n",
    "# nltk.download(\"punkt\") # had to download this resource \n",
    "                         # first time around\n",
    "import pandas as pd \n",
    "from itertools import islice\n",
    "\n",
    "###########################\n",
    "#   Rudimentary Clean up  #\n",
    "# (much more can be done) #\n",
    "###########################\n",
    "ham_spam_df = pd.read_csv('data/spam.csv', encoding='ISO-8859-1')\n",
    "ham_spam_df = ham_spam_df[['v1', 'v2']].rename(columns={'v1': 'Class', 'v2': 'Text'})\n",
    "\n",
    "ham_spam_df['Text'] = ham_spam_df['Text'].apply(lambda x: x.replace('.',' ').replace(',', ' '))\n",
    "ham_spam_df['Text'] = ham_spam_df['Text'].apply(lambda x: x.replace(':',' ').replace(';', ' '))\n",
    "ham_spam_df['Text'] = ham_spam_df['Text'].apply(lambda x: x.replace('?',' ').replace('!', ' ')) # are these pertinent? \n",
    "ham_spam_df['Text'] = ham_spam_df['Text'].apply(lambda x: x.replace('(',' ').replace(')', ' '))\n",
    "ham_spam_df['Text'] = ham_spam_df['Text'].apply(lambda x: x.replace('\"',' ').replace('/', ' '))\n",
    "ham_spam_df['Text'] = ham_spam_df['Text'].apply(lambda x: x.lower())\n",
    "\n",
    "def tokenize_ham_spam(df, clss): \n",
    "    '''\n",
    "    Input: a dataframe with the spam.csv data (cleaned up) and \n",
    "           the required class ('ham' or 'spam'). \n",
    "    Output: a ham or spam dataframes, a ham or spam token list, and \n",
    "            a ham or spam frequency distribution object\n",
    "    '''\n",
    "    clss_df = df[df.Class == clss]\n",
    "    clss_tok = nltk.word_tokenize(clss_df.Text.sum()) # token object, behaves like a dictionary\n",
    "    clss_freq_dist_obj = nltk.probability.FreqDist(clss_tok) # frequency distribution object\n",
    "    return(clss_df, clss_tok, clss_freq_dist_obj)\n",
    "    \n",
    "    \n",
    "    \n",
    "ham_df,  ham_tok,  ham_freqs = tokenize_ham_spam(ham_spam_df, 'ham')\n",
    "spam_df, spam_tok, spam_freqs = tokenize_ham_spam(ham_spam_df, 'spam')\n",
    "\n",
    "# See https://www.nltk.org/api/nltk.probability.FreqDist.html for more functions\n",
    "print( list(islice(ham_freqs.items(), 10)) )\n",
    "print( \"The total number of words is %d.\"%ham_freqs.N() )\n",
    "print( \"'Joking' apppears a fraction %.2e of all words.\"%(ham_freqs.freq('joking')) ) \n",
    "print( \"'Joking' appears %d times.\"%(ham_freqs.N() * ham_freqs.freq('joking')) ) \n"
   ]
  },
  {
   "cell_type": "code",
   "execution_count": 43,
   "id": "317e8edf",
   "metadata": {},
   "outputs": [
    {
     "name": "stdout",
     "output_type": "stream",
     "text": [
      "Unnormalized log posteriors for ham & spam: 0.508575 and -0.536417, respectively\n",
      "ham\n"
     ]
    }
   ],
   "source": [
    "import numpy as np \n",
    "\n",
    "def ham_spam_log_likelihoods(f_ham, f_spam):\n",
    "    '''\n",
    "    Input: a list or an array of frequencies of words\n",
    "    Output: likelihoods for being well rested and likelihood for being sleep deprived \n",
    "            (in this order) given the scores.  \n",
    "    '''\n",
    "    return(sum(f_ham), sum(f_spam))\n",
    "\n",
    "def ham_spam_log_posteriors(log_likelihoods_ham_spam): \n",
    "    '''\n",
    "    Input: a tuple of likelihoods from sleep_dep_likelihoods(). \n",
    "    Output: respective posteriors. \n",
    "    This is not strictly necessary since the class probabilities are constant - \n",
    "    it is only added for the sake of clarity. \n",
    "    '''\n",
    "    return(log_likelihoods_ham_spam[0]+log_class_prob_ham, \n",
    "           log_likelihoods_ham_spam[1]+log_class_prob_spam)\n",
    "\n",
    "def ham_spam_decide(f_ham, f_spam): \n",
    "    log_post_ham, log_post_spam = ham_spam_log_posteriors(ham_spam_log_likelihoods(f_ham, f_spam))\n",
    "    print('Unnormalized log posteriors for ham & spam: %f and %f, respectively'%(log_post_ham, log_post_spam))\n",
    "    if log_post_ham > log_post_spam:\n",
    "        print('ham')\n",
    "    else: \n",
    "        print('spam')\n",
    "        \n",
    "# Testing the code with completely made up numbers:         \n",
    "log_class_prob_ham, log_class_prob_spam = np.log(0.5), np.log(0.5) \n",
    "counts_h, counts_s = np.random.randint(1,50, 20), np.random.randint(1,50, 20)\n",
    "N_h, N_s = np.random.randint(1,10000, 20), np.random.randint(1,10000, 20)\n",
    "ham_spam_decide(counts_h/N_h, counts_s/N_s)\n",
    " "
   ]
  },
  {
   "cell_type": "markdown",
   "id": "c2a9de50",
   "metadata": {},
   "source": [
    "#### Note: \n",
    "\n",
    "  1. The code above does **not** deal with the zero-frequency problem. </br> \n",
    "  2. In the code above, the prior was not seriously considered.  \n",
    "  2. Implementing the classifier using the `nltk` library would take a little digging. </br>\n",
    "     `nltk` is very useful for serious applications but it would be simpler to write a toy implementation without it. \n",
    " "
   ]
  },
  {
   "cell_type": "code",
   "execution_count": null,
   "id": "3f67c7cc",
   "metadata": {},
   "outputs": [],
   "source": [
    "import nltk\n",
    "nltk.download('punkt')"
   ]
  },
  {
   "cell_type": "code",
   "execution_count": 46,
   "id": "c01b352f",
   "metadata": {},
   "outputs": [
    {
     "data": {
      "text/plain": [
       "{'dog', 'eat'}"
      ]
     },
     "execution_count": 46,
     "metadata": {},
     "output_type": "execute_result"
    }
   ],
   "source": [
    "set(['dog', 'eat', 'dog'])"
   ]
  }
 ],
 "metadata": {
  "kernelspec": {
   "display_name": "Python 3 (ipykernel)",
   "language": "python",
   "name": "python3"
  },
  "language_info": {
   "codemirror_mode": {
    "name": "ipython",
    "version": 3
   },
   "file_extension": ".py",
   "mimetype": "text/x-python",
   "name": "python",
   "nbconvert_exporter": "python",
   "pygments_lexer": "ipython3",
   "version": "3.9.16"
  }
 },
 "nbformat": 4,
 "nbformat_minor": 5
}
