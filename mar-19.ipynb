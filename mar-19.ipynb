{
 "cells": [
  {
   "cell_type": "code",
   "execution_count": null,
   "metadata": {},
   "outputs": [],
   "source": [
    "'''\n",
    "    Steps to create a machine learning algorithm:\n",
    "\n",
    "        1) We would first want to create a labeled training data set:\n",
    "            Ask an expert to label each orange as ripe or unripe:\n",
    "                Y(i) [ripe, unripe]\n",
    "            Then train a machine to predict the label given its features:\n",
    "                Y(i) f(X(i) ~ diameter, X(i) ~ color, ...)\n",
    "'''"
   ]
  }
 ],
 "metadata": {
  "kernelspec": {
   "display_name": "base",
   "language": "python",
   "name": "python3"
  },
  "language_info": {
   "name": "python",
   "version": "3.11.5"
  }
 },
 "nbformat": 4,
 "nbformat_minor": 2
}
